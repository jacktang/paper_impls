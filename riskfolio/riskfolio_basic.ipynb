{
 "cells": [
  {
   "cell_type": "code",
   "execution_count": null,
   "metadata": {},
   "outputs": [],
   "source": []
  },
  {
   "cell_type": "markdown",
   "metadata": {},
   "source": [
    "## Resources\n",
    "\n",
    "* https://github.com/dcajasn/Riskfolio-Lib"
   ]
  },
  {
   "cell_type": "markdown",
   "metadata": {},
   "source": [
    "Hello, I am Jack.\n",
    "\n",
    "Hi there, I’m John and I’m a data scientist with a background in mathematics and computer science. I’ve worked on a variety of projects including building predictive models for customer behavior and analyzing large datasets to uncover patterns and insights. \n"
   ]
  }
 ],
 "metadata": {
  "language_info": {
   "name": "python"
  }
 },
 "nbformat": 4,
 "nbformat_minor": 2
}
