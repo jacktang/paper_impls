{
 "cells": [
  {
   "cell_type": "markdown",
   "metadata": {},
   "source": [
    "# Stochastoc betting"
   ]
  },
  {
   "cell_type": "code",
   "execution_count": 1,
   "metadata": {},
   "outputs": [],
   "source": [
    "from tqdm.notebook import tqdm\n",
    "import matplotlib.pyplot as plt\n",
    "import seaborn as sns\n",
    "from stochastic_betting import *\n",
    "\n",
    "sns.set()\n",
    "pd.options.display.max_columns = None"
   ]
  },
  {
   "cell_type": "code",
   "execution_count": null,
   "metadata": {},
   "outputs": [],
   "source": [
    "coin = Coin(p=0.7)\n",
    "\n",
    "seed = 42\n",
    "INIT_FORTUNE = 100"
   ]
  },
  {
   "cell_type": "code",
   "execution_count": null,
   "metadata": {},
   "outputs": [],
   "source": [
    "bet_random = RandomBet(coin, init_fortune=INIT_FORTUNE, p=0.7, unit_bet=0.1, bet_style='fractional', seed=seed)\n",
    "\n",
    "bet_exact_bellman = ExactBellmanBet(coin, init_fortune=INIT_FORTUNE, p=0.7, seed=seed)\n",
    "\n",
    "warmup_time = 20\n",
    "bet_empirical_bellman = EmpiricalBellmanBet(coin, init_fortune=100, warmup_time=warmup_time, seed=seed)\n",
    "\n",
    "rule = lambda p: (p - 0.5) * (p + 1)\n",
    "bet_exact_quadratic = ExactArbitraryBet(coin, init_fortune=100, p=0.7, rule=rule, seed=seed)\n",
    "bet_empirical_quadratic = EmpiricalArbitraryBet(coin, init_fortune=100, warmup_time=warmup_time, rule=rule, seed=seed)\n",
    "\n",
    "N = 1000\n",
    "results_random = bet_random.simulate(N)\n",
    "results_exact_bellman = bet_exact_bellman.simulate(N)\n",
    "results_empirical_bellman = bet_empirical_bellman.simulate(N)\n",
    "results_exact_quadratic = bet_exact_quadratic.simulate(N)\n",
    "results_empirical_quadratic = bet_empirical_quadratic.simulate(N)\n",
    "\n",
    "alpha = np.log(2) - coin.entropy"
   ]
  },
  {
   "cell_type": "markdown",
   "metadata": {},
   "source": [
    "## Resources\n",
    "\n",
    "* https://github.com/sauxpa/stochastic/blob/master/betting/stochastic_betting.ipynb"
   ]
  }
 ],
 "metadata": {
  "kernelspec": {
   "display_name": "dev",
   "language": "python",
   "name": "python3"
  },
  "language_info": {
   "codemirror_mode": {
    "name": "ipython",
    "version": 3
   },
   "file_extension": ".py",
   "mimetype": "text/x-python",
   "name": "python",
   "nbconvert_exporter": "python",
   "pygments_lexer": "ipython3",
   "version": "3.10.6"
  }
 },
 "nbformat": 4,
 "nbformat_minor": 2
}
