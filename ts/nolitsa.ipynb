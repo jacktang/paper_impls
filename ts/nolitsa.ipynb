{
 "cells": [
  {
   "cell_type": "markdown",
   "metadata": {},
   "source": [
    "## General Workflow\n",
    "\n",
    "1. Check stationarity.\n",
    "1. Estimate time delay (e.g., autcorrelation, mutual information, 2D/3D phase portraits, etc.).\n",
    "1. Estimate embedding dimension (AFN, IFNN, FNN, etc.).\n",
    "1. Noise reduction (if required).\n",
    "1. Estimate an invariant (e.g., Lyapunov exponent, correlation dimension/entropy, etc.).\n",
    "1. Surrogate analysis (IAAFT, FT, cycle shuffled, etc.)\n",
    "1. Additional tests for nonlinearity (e.g., prediction error, etc.)\n",
    "1. Conclusion."
   ]
  },
  {
   "cell_type": "code",
   "execution_count": null,
   "metadata": {},
   "outputs": [],
   "source": []
  }
 ],
 "metadata": {
  "language_info": {
   "name": "python"
  }
 },
 "nbformat": 4,
 "nbformat_minor": 2
}
