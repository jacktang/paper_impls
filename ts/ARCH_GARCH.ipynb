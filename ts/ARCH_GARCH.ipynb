{
 "cells": [
  {
   "cell_type": "markdown",
   "metadata": {},
   "source": [
    "# ARCH modeling"
   ]
  },
  {
   "cell_type": "code",
   "execution_count": null,
   "metadata": {},
   "outputs": [],
   "source": []
  },
  {
   "cell_type": "markdown",
   "metadata": {},
   "source": [
    "## Resources\n",
    "\n",
    "* https://medium.com/@ranjithkumar.rocking/time-series-model-s-arch-and-garch-2781a982b448\n",
    "* https://machinelearningmastery.com/develop-arch-and-garch-models-for-time-series-forecasting-in-python/#:~:text=In%20the%20ARCH(q)%20process,sort%20of%20adaptive%20learning%20mechanism.\n",
    "* https://online.stat.psu.edu/stat510/lesson/11/11.1"
   ]
  }
 ],
 "metadata": {
  "language_info": {
   "name": "python"
  }
 },
 "nbformat": 4,
 "nbformat_minor": 2
}
