{
 "cells": [
  {
   "cell_type": "code",
   "execution_count": null,
   "metadata": {},
   "outputs": [],
   "source": []
  },
  {
   "cell_type": "markdown",
   "metadata": {},
   "source": [
    "Data smooth\n",
    "\n",
    "Savitzky-Golay filtering \n",
    "\n",
    "## Resources\n",
    "\n",
    "* https://ww2.mathworks.cn/help/curvefit/smoothing-data.html\n",
    "* https://rafalab.dfci.harvard.edu/dsbook/smoothing.html"
   ]
  },
  {
   "cell_type": "markdown",
   "metadata": {},
   "source": [
    "# References\n",
    "\n",
    "* https://jovian.com/danielandthelions/hourly-energy-consumption-final"
   ]
  }
 ],
 "metadata": {
  "language_info": {
   "name": "python"
  }
 },
 "nbformat": 4,
 "nbformat_minor": 2
}
