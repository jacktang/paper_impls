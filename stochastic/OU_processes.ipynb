{
 "cells": [
  {
   "cell_type": "markdown",
   "metadata": {},
   "source": [
    "# Ornstein Uhlenbeck Processes\n",
    "\n",
    "\n",
    "### Definition\n",
    "\n",
    "The Ornstein-Uhlenbeck (OU for short) process satisfies the stochastic differential equation (SDE):\n",
    "\n",
    "$$dX_t = \\alpha(\\gamma - X_t)d_t + \\beta dW_t$$\n",
    "\n",
    "The deterministic part (the drift of the process) which is the time differential term is what causes the mean reversion. When X_t is larger than γ (the asymptotic mean), the drift is negative, pulling the process back to the mean, when X_t is smaller than γ, the opposite happens. α, the mean-reversion parameter, controls the magnitude of the drift, so higher values will cause the process to mean-revert more aggressively. Finally, β controls the random shocks of the process. Note that for very high values of β, the process is, asymptotically, a rescaled Brownian motion as the drift no longer has a significant effect.\n",
    "\n",
    " the distribution of the process is $N(γ, β² / 2α)$"
   ]
  },
  {
   "cell_type": "code",
   "execution_count": null,
   "metadata": {},
   "outputs": [],
   "source": []
  },
  {
   "cell_type": "code",
   "execution_count": null,
   "metadata": {},
   "outputs": [],
   "source": []
  },
  {
   "cell_type": "markdown",
   "metadata": {},
   "source": [
    "## Simulation process"
   ]
  },
  {
   "cell_type": "code",
   "execution_count": null,
   "metadata": {},
   "outputs": [],
   "source": [
    "OU_params = OUParams(alpha=0.07, gamma=0.0, beta=0.001)\n",
    "OU_proc = get_OU_process(1_000, OU_params)\n",
    "\n",
    "#----------------------------------------------------\n",
    "# plot\n",
    "import matplotlib.pyplot as plt\n",
    "\n",
    "fig = plt.figure(figsize=(15, 7))\n",
    "\n",
    "title = \"Ornstein-Uhlenbeck process, \"\n",
    "title += r\"$\\alpha=0.07$, $\\gamma = 0$, $\\beta = 0.001$\"\n",
    "plt.plot(OU_proc)\n",
    "plt.gca().set_title(title, fontsize=15)\n",
    "plt.xticks(fontsize=15)\n",
    "plt.yticks(fontsize=15)"
   ]
  },
  {
   "cell_type": "markdown",
   "metadata": {},
   "source": [
    "## Estimation"
   ]
  },
  {
   "cell_type": "markdown",
   "metadata": {},
   "source": [
    "## Resources\n",
    "\n",
    "* https://towardsdatascience.com/stochastic-processes-simulation-generalized-geometric-brownian-motion-a327c0fa6226"
   ]
  }
 ],
 "metadata": {
  "language_info": {
   "name": "python"
  }
 },
 "nbformat": 4,
 "nbformat_minor": 2
}
