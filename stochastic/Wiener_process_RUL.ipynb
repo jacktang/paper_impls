{
 "cells": [
  {
   "cell_type": "code",
   "execution_count": null,
   "metadata": {},
   "outputs": [],
   "source": []
  },
  {
   "cell_type": "markdown",
   "metadata": {},
   "source": [
    "## Resources\n",
    "\n",
    "* https://github.com/akshatshah21/RUL-Prediction\n",
    "* https://github.com/microsoft/BatteryML/blob/main/batteryml/preprocess/download.py [Dataset]\n",
    "* https://www.hindawi.com/journals/jece/2019/3203959/"
   ]
  }
 ],
 "metadata": {
  "language_info": {
   "name": "python"
  }
 },
 "nbformat": 4,
 "nbformat_minor": 2
}
