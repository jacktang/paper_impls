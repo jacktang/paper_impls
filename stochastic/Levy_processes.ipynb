{
 "cells": [
  {
   "cell_type": "markdown",
   "metadata": {},
   "source": [
    "# Levy Processes\n",
    "\n",
    "In general, Lévy processes have three components (Lévy or characteristic triplet):\n",
    "\n",
    "* linear drift\n",
    "* Brownian diffusion\n",
    "* jumps.\n",
    "\n",
    "You can define that process by explicitly giving its trend/volatility/jump components or you take a simple arithmetic Brownian motion 𝑋𝑡=𝜃𝑡+𝜎𝑊𝑡 and a Gamma process 𝛾𝑡. Then, the process 𝑋𝛾𝑡=𝜃𝛾𝑡+𝜎𝑊𝛾𝑡 is a variance gamma process. \n",
    "\n",
    "If you want a book on Lévy processes, I'd recommend `Financial Modelling with Jump Processes` from Cont and Tankov. It's extremely well written."
   ]
  },
  {
   "cell_type": "code",
   "execution_count": 1,
   "metadata": {},
   "outputs": [],
   "source": [
    "import numpy as np\n",
    "import scipy as scp\n",
    "import scipy.stats as ss\n",
    "import matplotlib.pyplot as plt\n",
    "from statsmodels.graphics.gofplots import qqplot\n",
    "import scipy.special as scps\n",
    "from functools import partial\n",
    "from scipy.optimize import minimize\n",
    "from math import factorial"
   ]
  },
  {
   "cell_type": "markdown",
   "metadata": {},
   "source": [
    "##  Merton Jump-Diffusion process\n",
    "\n",
    "Equation:\n",
    "$$ X_t = \\mu{t} + \\sigma{W_t} + \\sum_{i=1}^{N_t}Y_i$$\n",
    "where $N_t \\sim Po(\\lambda{t})$ is a Poisson random variable counting the jumps of $X_t$ in $[0, t]$ and\n",
    "$$Y_i \\sim \\mathcal{N}(\\alpha, \\xi^2)$$"
   ]
  },
  {
   "cell_type": "code",
   "execution_count": 2,
   "metadata": {},
   "outputs": [],
   "source": [
    "mu = 0.05  # drift\n",
    "sig = 0.2  # diffusion coefficient\n",
    "lam = 1.2  # jump activity\n",
    "muJ = 0.15  # jump mean size\n",
    "sigJ = 0.5  # jump std deviation\n",
    "T = 2  # terminal time\n",
    "N = 1_000_000  # number of random variables"
   ]
  },
  {
   "cell_type": "code",
   "execution_count": 3,
   "metadata": {},
   "outputs": [],
   "source": [
    "np.random.seed(seed=42)\n",
    "W = ss.norm.rvs(0, 1, N)  # The normal RV vector\n",
    "P = ss.poisson.rvs(lam * T, size=N)  # Poisson random vector\n",
    "Jumps = np.asarray([ss.norm.rvs(muJ, sigJ, i).sum() for i in P])  # Jumps vector\n",
    "X_T = mu * T + np.sqrt(T) * sig * W + Jumps  # Merton process"
   ]
  },
  {
   "cell_type": "code",
   "execution_count": 4,
   "metadata": {},
   "outputs": [
    {
     "data": {
      "image/png": "[encoded data removed]",
      "text/plain": [
       "<Figure size 1500x600 with 1 Axes>"
      ]
     },
     "metadata": {},
     "output_type": "display_data"
    }
   ],
   "source": [
    "x = np.linspace(X_T.min(), X_T.max(), 500)\n",
    "y = np.linspace(-3, 5, 50)\n",
    "\n",
    "plt.figure(figsize=(15, 6))\n",
    "# plt.plot(x, Merton_density(x, T, mu, sig, lam, muJ, sigJ), color=\"r\", label=\"Merton density\")\n",
    "# plt.plot(y, [Gil_Pelaez_pdf(i, cf_M_b, np.inf) for i in y], \"p\", label=\"Fourier inversion\")\n",
    "plt.hist(X_T, density=True, bins=200, facecolor=\"LightBlue\", label=\"frequencies of X_T\")\n",
    "plt.legend()\n",
    "plt.title(\"Merton Histogram\")\n",
    "plt.show()"
   ]
  },
  {
   "cell_type": "markdown",
   "metadata": {},
   "source": [
    "## Resources\n",
    "\n",
    "* https://arxiv.org/pdf/0804.0482.pdf\n",
    "* https://github.com/cantaro86/Financial-Models-Numerical-Methods/blob/master/1.5%20SDE%20-%20L%C3%A9vy%20processes.ipynb\n",
    "* https://quant.stackexchange.com/questions/54082/which-process-is-the-most-commonly-used-for-modeling-stock-prices\n",
    "* https://www.google.com/books/edition/Financial_Modelling_with_Jump_Processes/tDJ6AgAAQBAJ?hl=en&gbpv=1\n",
    "* https://www.stats.ox.ac.uk/~winkel/lp1.pdf Introduction to L´evy processes\n",
    "* L´evy models in finance https://www.stat.rice.edu/~jrojo/PASI/lectures/Ernesto%202.pdf"
   ]
  }
 ],
 "metadata": {
  "kernelspec": {
   "display_name": "dev",
   "language": "python",
   "name": "python3"
  },
  "language_info": {
   "codemirror_mode": {
    "name": "ipython",
    "version": 3
   },
   "file_extension": ".py",
   "mimetype": "text/x-python",
   "name": "python",
   "nbconvert_exporter": "python",
   "pygments_lexer": "ipython3",
   "version": "3.11.7"
  }
 },
 "nbformat": 4,
 "nbformat_minor": 2
}
