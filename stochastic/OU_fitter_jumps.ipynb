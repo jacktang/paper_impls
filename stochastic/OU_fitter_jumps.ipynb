{
 "cells": [
  {
   "cell_type": "markdown",
   "metadata": {},
   "source": [
    "# OU Fitter with Jumps"
   ]
  },
  {
   "cell_type": "code",
   "execution_count": 2,
   "metadata": {},
   "outputs": [],
   "source": [
    "import numpy as np\n",
    "import matplotlib.pyplot as plt\n",
    "from ito_diffusions import *\n",
    "from ou_fitter import *\n",
    "from scipy.stats import laplace\n",
    "plt.style.use('dark_background')"
   ]
  },
  {
   "cell_type": "code",
   "execution_count": 3,
   "metadata": {},
   "outputs": [],
   "source": [
    "params = {\n",
    "    'font.size': 14,\n",
    "    'figure.figsize': (11,18),\n",
    "    'axes.labelsize': 12,\n",
    "    'xtick.labelsize': 12,\n",
    "    'ytick.labelsize': 12,\n",
    "}\n",
    "plt.rcParams.update(params)"
   ]
  },
  {
   "cell_type": "code",
   "execution_count": 4,
   "metadata": {},
   "outputs": [],
   "source": [
    "DAYS_IN_YEAR = 252\n",
    "T = 8\n",
    "SCHEME_STEPS = int(DAYS_IN_YEAR*T)\n",
    "std_dev_weight = 1.0\n",
    "n_quadrature = 15"
   ]
  },
  {
   "cell_type": "markdown",
   "metadata": {},
   "source": [
    "### OU with jumps\n",
    "\n",
    "$dX_t = \\lambda(\\theta_{0} - X_t)dt + \\sigma{dW_t} + dJ_t$ where the jump process $J_t$ has constant Poisson intensity $m$ and jump size distribution $Laplace(\\beta)$"
   ]
  },
  {
   "cell_type": "code",
   "execution_count": 5,
   "metadata": {},
   "outputs": [
    {
     "data": {
      "image/png": "[encoded data removed]",
      "text/plain": [
       "<Figure size 648x360 with 1 Axes>"
      ]
     },
     "metadata": {
      "needs_background": "dark"
     },
     "output_type": "display_data"
    }
   ],
   "source": [
    "fig, ax = plt.subplots(figsize=(9,5), nrows=1, ncols=1)\n",
    "mean_reversion = 5.0\n",
    "long_term  = 0.0\n",
    "vol = 0.4\n",
    "\n",
    "jump_intensity = 2.0\n",
    "jump_size_scale = 1.0\n",
    "jump_size_distr = laplace(loc=0.0, scale=1/jump_size_scale)\n",
    "jump_params = {\n",
    "    'jump_intensity_func': lambda t,x: jump_intensity,\n",
    "    'jump_size_distr': jump_size_distr,\n",
    "}\n",
    "\n",
    "OU = Vasicek(x0=0.0, T=T, scheme_steps=SCHEME_STEPS,\n",
    "             vol=vol, long_term=long_term, mean_reversion=mean_reversion, jump_params=jump_params)\n",
    "\n",
    "df = OU.simulate()\n",
    "ax.plot(df, label='OU with jumps')\n",
    "ax.legend(loc='upper right')\n",
    "\n",
    "plt.tight_layout()\n",
    "plt.show()"
   ]
  },
  {
   "cell_type": "markdown",
   "metadata": {},
   "source": [
    "# Estimate all parameters at once"
   ]
  },
  {
   "cell_type": "code",
   "execution_count": 6,
   "metadata": {},
   "outputs": [
    {
     "data": {
      "text/plain": [
       "[1.7745631940018953,\n",
       " -0.6848241075829891,\n",
       " 0.189637006009242,\n",
       " 0.5754938638582054,\n",
       " 0.9664434784271304]"
      ]
     },
     "execution_count": 6,
     "metadata": {},
     "output_type": "execute_result"
    }
   ],
   "source": [
    "fitter = OU_jump_Laplace_fitter(theta_init_mode='random', std_dev_weight=std_dev_weight, n_quadrature=n_quadrature)\n",
    "fitter.df = df\n",
    "fitter.regularization = 0\n",
    "fitter.theta_init"
   ]
  },
  {
   "cell_type": "code",
   "execution_count": 7,
   "metadata": {},
   "outputs": [
    {
     "data": {
      "text/plain": [
       "  message: CONVERGENCE: REL_REDUCTION_OF_F_<=_FACTR*EPSMCH\n",
       "  success: True\n",
       "   status: 0\n",
       "      fun: 0.00041353798682736777\n",
       "        x: [ 2.038e+00  9.627e-02  4.851e-01  7.296e-01  2.989e-01]\n",
       "      nit: 35\n",
       "      jac: [-7.310e-07  4.342e-05  4.814e-06  5.385e-07  1.080e-06]\n",
       "     nfev: 246\n",
       "     njev: 41\n",
       " hess_inv: <5x5 LbfgsInvHessProduct with dtype=float64>"
      ]
     },
     "execution_count": 7,
     "metadata": {},
     "output_type": "execute_result"
    }
   ],
   "source": [
    "fit_info = fitter.fit()\n",
    "fit_info"
   ]
  },
  {
   "cell_type": "code",
   "execution_count": null,
   "metadata": {},
   "outputs": [],
   "source": [
    "print('Ground truth:')\n",
    "print('mean reversion: {:.2f}'.format(OU.mean_reversion))\n",
    "print('long term: {:.2f}'.format(OU.long_term))\n",
    "print('vol: {:.2%}'.format(OU.vol_double))\n",
    "print('intensity: {:.2f}'.format(jump_intensity))\n",
    "print('jump size scale: {:.2f}'.format(jump_size_scale))\n",
    "\n",
    "print('\\nFitted:')\n",
    "print('mean reversion: {:.2f}'.format(fitter.theta[0]))\n",
    "print('long term: {:.2f}'.format(fitter.theta[1]))\n",
    "print('vol: {:.0%}'.format(fitter.theta[2]))\n",
    "print('intensity: {:.2f}'.format(fitter.theta[4]))\n",
    "print('jump size scale: {:.2f}'.format(fitter.theta[3]))\n",
    "\n",
    "print('\\nRegression (diffusion only):')\n",
    "print('mean reversion (annualized): {:.2f}'.format(fitter.theta_regression()[0]))\n",
    "print('long term: {:.2f}'.format(fitter.theta_regression()[1]))\n",
    "print('vol (annualized): {:.0%}'.format(fitter.vol_estimate()))"
   ]
  },
  {
   "cell_type": "markdown",
   "metadata": {},
   "source": [
    "## Resources\n",
    "\n",
    "* https://github.com/sauxpa/stochastic/blob/master/examples/ou_fitting_examples/ou_fit_artificial_data.ipynb"
   ]
  }
 ],
 "metadata": {
  "kernelspec": {
   "display_name": "dev",
   "language": "python",
   "name": "python3"
  },
  "language_info": {
   "codemirror_mode": {
    "name": "ipython",
    "version": 3
   },
   "file_extension": ".py",
   "mimetype": "text/x-python",
   "name": "python",
   "nbconvert_exporter": "python",
   "pygments_lexer": "ipython3",
   "version": "3.10.6"
  }
 },
 "nbformat": 4,
 "nbformat_minor": 2
}
