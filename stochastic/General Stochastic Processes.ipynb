{
 "cells": [
  {
   "cell_type": "markdown",
   "metadata": {},
   "source": [
    "# General Stochastic Processes"
   ]
  },
  {
   "cell_type": "markdown",
   "metadata": {},
   "source": [
    "A random experiment has the properties:\n",
    "\n",
    "Sample space: A sample space, denoted here by Ω, is the set of all (conceptually) possible outcomes of the random experiment;\n",
    "Outcomes: An outcome, denoted here by 𝜔, is an element of the sample space Ω, meaning 𝜔∈Ω, and it is called a sample point or realization.\n",
    "Events: An event is a subset of the sample space Ω for which probability is defined."
   ]
  },
  {
   "cell_type": "markdown",
   "metadata": {},
   "source": [
    "The most two important stochastic processes are the Poisson process and the Wiener process (often called Brownian motion process or just Brownian motion). They are important for both applications and theoretical reasons, playing fundamental roles in the theory of stochastic processes."
   ]
  },
  {
   "cell_type": "markdown",
   "metadata": {},
   "source": [
    "## Poisson-Gaussian model of mean-reversion with jumps\n",
    "\n",
    "This model has more economic logic and considers large variation of the underlying variable due the arrival of abnormal rare news.\n",
    "<image src='http://marcoagd.usuarios.rdc.puc-rio.br/imagens/oil-prices.gif'>\n",
    "The jump-diffusion model links the prices changes to arrival of information. There are two types of information, the normal news with smooth variation in the oil prices, and the abnormal news, with jumps in the prices. The smooth variation is modeled by a mean-reversion process (continuous process), whereas the jumps are modeled with a Poisson process (discrete time process)."
   ]
  },
  {
   "cell_type": "code",
   "execution_count": null,
   "metadata": {},
   "outputs": [],
   "source": []
  },
  {
   "cell_type": "markdown",
   "metadata": {},
   "source": [
    "### Resources\n",
    "\n",
    "* http://marcoagd.usuarios.rdc.puc-rio.br/stochast.html#gbm\n",
    "* https://hpaulkeeler.com/stochastic-processes/#:~:text=A%20large%20family%20of%20stochastic,(Both%20names%20are%20used.\n"
   ]
  }
 ],
 "metadata": {
  "language_info": {
   "name": "python"
  }
 },
 "nbformat": 4,
 "nbformat_minor": 2
}
