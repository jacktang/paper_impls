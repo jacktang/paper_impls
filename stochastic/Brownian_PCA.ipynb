{
 "cells": [
  {
   "cell_type": "markdown",
   "metadata": {},
   "source": [
    "# Brownian trajectories PCA\n",
    "\n",
    "What happens when you do PCA on a few Brownian trajectories... As the number of trajectories increases, the Principal Components converge to sine waves"
   ]
  },
  {
   "cell_type": "code",
   "execution_count": null,
   "metadata": {},
   "outputs": [],
   "source": []
  },
  {
   "cell_type": "markdown",
   "metadata": {},
   "source": [
    "## Resources\n",
    "\n",
    "* https://twitter.com/adad8m/status/1750436065817850216\n",
    "* https://twitter.com/Almost_Sure/status/1750530680407417110\n",
    "* https://en.m.wikipedia.org/wiki/Kosambi%E2%80%93Karhunen%E2%80%93Lo%C3%A8ve_theorem\n",
    "* https://almostsuremath.com/2021/03/31/brownian-bridge-fourier-expansions/"
   ]
  }
 ],
 "metadata": {
  "language_info": {
   "name": "python"
  }
 },
 "nbformat": 4,
 "nbformat_minor": 2
}
