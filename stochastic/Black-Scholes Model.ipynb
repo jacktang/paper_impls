{
 "cells": [
  {
   "cell_type": "markdown",
   "metadata": {},
   "source": [
    "# Black-Scholes model\n",
    "\n",
    "At the heart of options trading lies the Black-Scholes model, a mathematical framework for pricing European-style options.\n",
    "> Developed by Fischer Black, Myron Scholes and Robert Merton in the early 1970s, the model provides a theoretical estimate of the price of European-style options.\n"
   ]
  },
  {
   "cell_type": "code",
   "execution_count": null,
   "metadata": {},
   "outputs": [],
   "source": []
  },
  {
   "cell_type": "markdown",
   "metadata": {},
   "source": [
    "## Resources\n",
    "\n",
    "* https://theaiquant.medium.com/mastering-the-black-scholes-model-with-python-a-comprehensive-guide-to-option-pricing-11af712697b7"
   ]
  }
 ],
 "metadata": {
  "language_info": {
   "name": "python"
  }
 },
 "nbformat": 4,
 "nbformat_minor": 2
}
