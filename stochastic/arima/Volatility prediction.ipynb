{
 "cells": [
  {
   "cell_type": "code",
   "execution_count": null,
   "metadata": {},
   "outputs": [],
   "source": []
  },
  {
   "cell_type": "markdown",
   "metadata": {},
   "source": [
    "## Resources\n",
    "\n",
    "* https://www.oreilly.com/library/view/machine-learning-for/9781492085249/ch04.html\n",
    "* https://library.kre.dp.ua/Books/2-4%20kurs/%D0%9C%D0%BE%D0%B2%D0%B8%20%D0%BF%D1%80%D0%BE%D0%B3%D1%80%D0%B0%D0%BC%D1%83%D0%B2%D0%B0%D0%BD%D0%BD%D1%8F/Python/Machine_Learning_For_Financial_Risk_Management_With_Python_Algorithms.pdf\n",
    "* https://arxiv.org/pdf/2306.12446.pdf\n",
    "\"In closing, the DL-based methods have much to offer for financial volatility forecasting. This study implemented several deep\n",
    "learning-based and traditional models and compared these to several experimental recently proposed models for time series prediction. The results indicate that variants of TCN and TFT were able to\n",
    "forecast volatility with less error across almost all assets and tasks\n",
    "investigated, with statistical significance\""
   ]
  }
 ],
 "metadata": {
  "language_info": {
   "name": "python"
  }
 },
 "nbformat": 4,
 "nbformat_minor": 2
}
