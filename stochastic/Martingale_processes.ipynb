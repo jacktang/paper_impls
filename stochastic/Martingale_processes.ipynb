{
 "cells": [
  {
   "cell_type": "markdown",
   "metadata": {},
   "source": [
    "# Martingale\n",
    "\n",
    "* The most essential continuous time process, Brownian Motion, is a martingale.\n",
    "* The martingality of an asset is equivalent to not being able to conduct arbitrage through trades in that asset.\n",
    "\n",
    "What about a martingale process? The key property of a martingale is that the mean of the future is equal to the present (regardless of the past). This is ONLY a statement about the mean, not about the entire distribution."
   ]
  },
  {
   "cell_type": "code",
   "execution_count": null,
   "metadata": {},
   "outputs": [],
   "source": []
  },
  {
   "cell_type": "markdown",
   "metadata": {},
   "source": [
    "## Resources\n",
    "\n",
    "* https://www.statisticshowto.com/martingale-definition/\n",
    "* https://www.quora.com/What-is-a-martingale-and-why-is-it-important\n",
    "* https://www.quora.com/What-is-the-difference-and-relation-between-a-Markov-process-and-a-martingale-process [Good]\n",
    "* https://codeforces.com/blog/entry/110801"
   ]
  }
 ],
 "metadata": {
  "language_info": {
   "name": "python"
  }
 },
 "nbformat": 4,
 "nbformat_minor": 2
}
