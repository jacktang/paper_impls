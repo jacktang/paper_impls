{
 "cells": [
  {
   "cell_type": "markdown",
   "metadata": {},
   "source": [
    "# Vehicle Routing Problem\n",
    "\n",
    "* CVRP\n",
    "容量限制车辆路径问题（CVRP）是最基础的VRP，是指满足不同区域里的顾客需求的有容量限制的车辆路径规划问题。该问题的目标是最大限度降低总路径成本，即车辆行驶的总距离。\n",
    "\n",
    "* MDVRP\n",
    "多车场路径规划问题（MDVRP）是 CVRP 的一种变体，其中车辆来自于不同车场。"
   ]
  },
  {
   "cell_type": "code",
   "execution_count": null,
   "metadata": {},
   "outputs": [],
   "source": []
  },
  {
   "cell_type": "markdown",
   "metadata": {},
   "source": [
    "## Resources\n",
    "\n",
    "* VRPSolverEasy python lib\n",
    "* https://mp.weixin.qq.com/s/hWYa0h74W4s8xKdpSSoA_A"
   ]
  }
 ],
 "metadata": {
  "language_info": {
   "name": "python"
  }
 },
 "nbformat": 4,
 "nbformat_minor": 2
}
