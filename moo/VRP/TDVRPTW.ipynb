{
 "cells": [
  {
   "cell_type": "markdown",
   "metadata": {},
   "source": [
    "# Time-dependent Vehicle Routing Problem with Time Windows [考虑时间依赖和时间窗的车辆路径规划问题]\n",
    "\n",
    "Time-dependent VRP，简称TDVRP。TDVRP是VRPTW的一个拓展，它是在VRPTW基础上考虑了时间依赖的行驶时间。具体而言，相较于经典的VRPTW 问题，在TDVRP 问题中，每一条边$(i,j)$上的行驶时间$t_{ij}$不再是一个给定的参数，而是一个决策变量，其取值由从节点出发的时间决定。"
   ]
  },
  {
   "cell_type": "code",
   "execution_count": null,
   "metadata": {},
   "outputs": [],
   "source": []
  },
  {
   "cell_type": "markdown",
   "metadata": {},
   "source": [
    "## Resources\n",
    "\n",
    "* https://mp.weixin.qq.com/s/sSUXarTInxefwelVvM0m_A [优化 | 绿色车辆路径规划问题详解(Green VRP)：模型、理论推导及Python调用Gurobi实现]\n"
   ]
  }
 ],
 "metadata": {
  "language_info": {
   "name": "python"
  }
 },
 "nbformat": 4,
 "nbformat_minor": 2
}
