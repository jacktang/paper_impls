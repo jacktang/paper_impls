{
 "cells": [
  {
   "cell_type": "markdown",
   "metadata": {},
   "source": [
    "# OrderBook and excution\n",
    "\n",
    "## OrderBook modeling"
   ]
  },
  {
   "cell_type": "markdown",
   "metadata": {},
   "source": [
    "These expressions of intent to buy or sell\n",
    "are known as Limit Orders (abbreviated as LO). The word “limit” in Limit Order refers to\n",
    "the fact that one is interested in buying only below a certain price level (and likewise, one\n",
    "is interested in selling only above a certain price level). Each LO is comprised of a price P\n",
    "and number of shares N. A bid, i.e., Buy LO (P, N) states willingness to buy N shares at\n",
    "a price less than or equal to P. Likewise, an ask, i.e., a Sell LO (P, N) states willingness to\n",
    "sell N shares at a price greater than or equal to P.\n",
    "\n",
    "## Optimal Execution of a Market order [the problem]\n",
    "\n",
    "Imagine the following problem: You are a trader in a stock and your boss has instructed that you exit from trading in this stock because this stock doesn’t meet your company’s new investment objectives. You have to sell all of the $N$ shares you own in this stock in\n",
    "the next $T$ hours, but you have been instructed to accomplish the sale by submitting *only Market Orders* (not allowed to submit any Limit Orders because of the uncertainty in the time of execution of the sale with a Limit Order). You can submit sell market orders (of\n",
    "any size) at the start of each hour - so **you have T opportunities to submit market orders of any size**. \n",
    "Your goal is to maximize the Expected Total Utility of sales proceeds for all $N$ shares over the T hours. \n",
    "Your task is to break up $N$ into $T$ appropriate chunks to maximize the Expected Total Utility objective. If you attempt to sell the $N$ shares too fast (i.e., too many in the first few hours), as we’ve learnt above, each (MO) sale will eat a lot into the\n",
    "Buy LOs on the OB (Temporary Price Impact) which would result in transacting at prices below the best price (Best Bid Price). Moreover, you risk moving the Best Bid Price on the OB significantly lower (Permanent Price Impact) that would affect the sales proceeds for\n",
    "the next few sales you’d make. On the other hand, if you sell the N shares too slow (i.e., too few in the first few hours), you might transact at good prices but then you risk running out of time, which means you will have to dump a lot of shares with time running out which in turn would mean transacting at prices below the best price. Moreover, selling too slow exposes you to more uncertainty in market price movements over a longer time period, and more uncertainty in sales proceeds means the Expected Utility objective gets hurt. Thus, the precise timing and sizes in the breakup of shares is vital. You will need to have an estimate of the Temporary and Permanent Price Impact of your Market Orders, which can help you identify the appropriate number of shares to sell at the start of each hour."
   ]
  },
  {
   "cell_type": "code",
   "execution_count": null,
   "metadata": {},
   "outputs": [],
   "source": []
  },
  {
   "cell_type": "markdown",
   "metadata": {},
   "source": [
    "## Resources\n",
    "\n",
    "* https://stanford.edu/~ashlearn/RLForFinanceBook/chapter9.pdf"
   ]
  }
 ],
 "metadata": {
  "language_info": {
   "name": "python"
  }
 },
 "nbformat": 4,
 "nbformat_minor": 2
}
