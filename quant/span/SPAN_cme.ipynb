{
 "cells": [
  {
   "cell_type": "markdown",
   "metadata": {},
   "source": [
    "# Standard Portfolio Analysis of Risk (SPAN) Model\n",
    "\n",
    "For the commodities market, the margins are calculated with a model called **Standard Portfolio Analysis of Risk** (SPAN, n.d.).\n",
    "\n",
    "## Problem statement\n",
    "\n",
    "During the day, every hour between CET 10:00 and CET 18:00, the market risk\n",
    "team is monitoring the margins in order to validate the calculations and follow up\n",
    "on the alarms. During more volatile circumstances when the risk profile of the\n",
    "members changes, the market risk department has a lot of margins to validate.\n",
    "The calculations are made based on SPAN, but it is up to the market risk team\n",
    "to validate and look for odd patterns before they issue a margin call. It happens\n",
    "that the members come back to the market risk team wondering what triggered the\n",
    "increase in margin.\n",
    "So, the process of issuing margin calls is both dependent on certain expertise\n",
    "and can be very time consuming due to pressure and high workload. It is of\n",
    "course also of high importance that the sizes are correct which makes the issuing\n",
    "a critical process for the CCP. Therefore Nasdaq’s market risk team is interested\n",
    "in  investigating how machine learning can be used for efficiency in this validation\n",
    "process.\n",
    "\n",
    "## SPAN model overview\n",
    "\n",
    " The goal with SPAN is to calculate the maximum potential loss for a member’s portfolio over a specific\n",
    "close-out period. This is done by stress-testing its theoretical value with different\n",
    "market scenarios.\n"
   ]
  },
  {
   "cell_type": "code",
   "execution_count": null,
   "metadata": {},
   "outputs": [],
   "source": []
  },
  {
   "cell_type": "markdown",
   "metadata": {},
   "source": [
    "## Resources\n",
    "\n",
    "* https://www.cmegroup.com/solutions/risk-management/performance-bonds-margins/span-methodology-overview.html#how-it-works\n",
    "* https://www.kdpwccp.pl/en/span-margin-calculation-methodology.html\n",
    "* https://umu.diva-portal.org/smash/get/diva2:1774989/FULLTEXT01.pdf\n",
    "* https://github.com/JazzikPeng/SPAN-Margin-on-Future-Contracts/blob/master/future_margin.py"
   ]
  }
 ],
 "metadata": {
  "language_info": {
   "name": "python"
  }
 },
 "nbformat": 4,
 "nbformat_minor": 2
}
