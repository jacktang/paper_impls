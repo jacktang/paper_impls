{
 "cells": [
  {
   "cell_type": "code",
   "execution_count": null,
   "metadata": {},
   "outputs": [],
   "source": []
  },
  {
   "cell_type": "markdown",
   "metadata": {},
   "source": [
    "## Resources\n",
    "\n",
    "* https://medium.com/@crisvelasquez/acquiring-and-analyzing-earnings-announcements-data-in-python-fbd610cebc19\n",
    "* https://medium.com/@crisvelasquez/mining-patterns-in-stocks-with-pca-and-dtw-e98651657f37"
   ]
  }
 ],
 "metadata": {
  "language_info": {
   "name": "python"
  }
 },
 "nbformat": 4,
 "nbformat_minor": 2
}
