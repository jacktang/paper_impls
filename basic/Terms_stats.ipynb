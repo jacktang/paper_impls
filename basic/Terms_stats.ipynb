{
 "cells": [
  {
   "cell_type": "markdown",
   "metadata": {},
   "source": [
    "# Terms in Statistics and probability theory"
   ]
  },
  {
   "cell_type": "markdown",
   "metadata": {},
   "source": [
    "## Random variable & Exception [随机变量和期望值]\n",
    "\n",
    "* Random variable:\n",
    "A function that associates a real number with an event.\n",
    "\n",
    "$$ X(\\omega) = $$\n",
    "\n",
    "* Exception:\n",
    "The Expectation of a Random Variable is the sum of its values weighted by their probability.\n",
    "The expectation is just the mean of a Random Variable\n",
    "\n",
    "* References\n",
    "\n",
    "1. https://www.countbayesie.com/blog/2015/2/20/random-variables-and-expectation\n"
   ]
  },
  {
   "cell_type": "markdown",
   "metadata": {},
   "source": [
    "## Variance vs covariance [方差和协方差]\n",
    "\n",
    "* In statistics, a variance is the spread of a data set around its mean value while covariance refers to the measure of the directional relationship between two random variables.\n",
    "* Variance is used by financial experts to measure an asset's volatility, while covariance describes two different investments' returns over a period of time when compared to different variables.\n",
    "* Portfolio managers can minimize risk in an investor's portfolio by purchasing investments that have a negative covariance to one another.\n",
    "* Variance is calculated by finding the probability-weighted average of squared deviations from the expected value.\n",
    "* A covariance refers to the measure of how two random variables will change when they are compared to each other. \n",
    "\n",
    "### Finance context \n",
    "\n",
    "* Many stock experts and financial advisors use a stock's variance to measure its volatility. Being able to express just how far a given stock's value can travel away from the mean in a single number is a very useful indicator of how much risk a particular stock comes with. A stock with a higher variance usually comes with more risk and the potential for higher or lower returns, while a stock with a smaller variance may be less risky, meaning it will come with average returns.\n",
    "* A positive covariance means both investments' returns tend to move upward or downward in value at the same time. An inverse or negative covariance, on the other hand, means the returns will move away from each other. So when one rises, the other one falls."
   ]
  },
  {
   "cell_type": "markdown",
   "metadata": {},
   "source": [
    "## Mean, median and mode [平均值、中位数和众数]\n",
    "\n",
    "Mean, median, and mode, in mathematics, the three principal ways of designating the average value of a list of numbers. The arithmetic mean is found by adding the numbers and dividing the sum by the number of numbers in the list. This is what is most often meant by an average. The median is the middle value in a list ordered from smallest to largest. The mode is the most frequently occurring value on the list.\n",
    "\n",
    "There are other types of means. A geometric mean is found by multiplying all values in a list and then taking the root of that product equal to the number of values (e.g., the square root if there are two numbers). The geometric mean is typically used in cases of exponential growth or decline (see exponential function). In statistics, the mean of a random variable is its expected value"
   ]
  },
  {
   "cell_type": "markdown",
   "metadata": {},
   "source": [
    "## Law of large numbers\n",
    "\n",
    "* The Central limit Theorem states that when sample size tends to infinity, the sample mean will be normally distributed.\n",
    "* The Law of Large Number states that when sample size tends to infinity, the sample mean equals to population mean.\n",
    "\n",
    "The two statements are not contradictory.\n",
    "\n",
    "* The Central Limit Theorem tell us that as the sample size tends to infinity, the of the distribution of sample means approaches the normal distribution. This is a statement about the SHAPE of the distribution. A normal distribution is bell shaped so the shape of the distribution of sample means begins to look bell shaped as the sample size increases.\n",
    "* The Law of Large Numbers tells us where the center (maximum point) of the bell is located. Again, as the sample size approaches infinity the center of the distribution of the sample means becomes very close to the population mean.\n",
    "\n",
    "> https://www.benchmarksixsigma.com/forum/topic/34877-central-limit-theorem-law-of-large-numbers/\n",
    "> https://math.mit.edu/~dav/05.dir/class6-prep.pdf\n",
    "> https://stats.stackexchange.com/questions/278720/difference-between-the-law-of-large-numbers-and-the-central-limit-theorem-in-lay"
   ]
  },
  {
   "cell_type": "markdown",
   "metadata": {},
   "source": [
    "# scipy rvs\n"
   ]
  },
  {
   "cell_type": "code",
   "execution_count": null,
   "metadata": {},
   "outputs": [],
   "source": [
    "#"
   ]
  },
  {
   "cell_type": "markdown",
   "metadata": {},
   "source": [
    "## Resources\n",
    "\n",
    "* https://www.countbayesie.com/blog/2015/2/21/variance-co-variance-and-correlation\n",
    "* https://www.investopedia.com/ask/answers/041515/what-difference-between-variance-and-covariance.asp"
   ]
  }
 ],
 "metadata": {
  "language_info": {
   "name": "python"
  }
 },
 "nbformat": 4,
 "nbformat_minor": 2
}
