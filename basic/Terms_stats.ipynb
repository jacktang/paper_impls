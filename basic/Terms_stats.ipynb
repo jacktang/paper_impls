{
 "cells": [
  {
   "cell_type": "markdown",
   "metadata": {},
   "source": [
    "# Terms in Statistics and probability theory"
   ]
  },
  {
   "cell_type": "markdown",
   "metadata": {},
   "source": [
    "## Random variable & Exception [随机变量和期望值]\n",
    "\n",
    "* Random variable:\n",
    "A function that associates a real number with an event.\n",
    "\n",
    "$$ X(\\omega) = $$\n",
    "\n",
    "* Exception:\n",
    "The Expectation of a Random Variable is the sum of its values weighted by their probability.\n",
    "The expectation is just the mean of a Random Variable\n",
    "\n",
    "* References\n",
    "\n",
    "1. https://www.countbayesie.com/blog/2015/2/20/random-variables-and-expectation\n"
   ]
  },
  {
   "cell_type": "markdown",
   "metadata": {},
   "source": [
    "## Variance vs covariance [方差和协方差]\n",
    "\n",
    "* In statistics, a variance is the spread of a data set around its mean value while covariance refers to the measure of the directional relationship between two random variables.\n",
    "* Variance is used by financial experts to measure an asset's volatility, while covariance describes two different investments' returns over a period of time when compared to different variables.\n",
    "* Portfolio managers can minimize risk in an investor's portfolio by purchasing investments that have a negative covariance to one another.\n",
    "* Variance is calculated by finding the probability-weighted average of squared deviations from the expected value.\n",
    "* A covariance refers to the measure of how two random variables will change when they are compared to each other. \n",
    "\n",
    "### Finance context \n",
    "\n",
    "* Many stock experts and financial advisors use a stock's variance to measure its volatility. Being able to express just how far a given stock's value can travel away from the mean in a single number is a very useful indicator of how much risk a particular stock comes with. A stock with a higher variance usually comes with more risk and the potential for higher or lower returns, while a stock with a smaller variance may be less risky, meaning it will come with average returns.\n",
    "* A positive covariance means both investments' returns tend to move upward or downward in value at the same time. An inverse or negative covariance, on the other hand, means the returns will move away from each other. So when one rises, the other one falls."
   ]
  },
  {
   "cell_type": "markdown",
   "metadata": {},
   "source": [
    "# scipy rvs\n"
   ]
  },
  {
   "cell_type": "code",
   "execution_count": null,
   "metadata": {},
   "outputs": [],
   "source": [
    "#"
   ]
  },
  {
   "cell_type": "markdown",
   "metadata": {},
   "source": [
    "## Resources\n",
    "\n",
    "* https://www.countbayesie.com/blog/2015/2/21/variance-co-variance-and-correlation\n",
    "* https://www.investopedia.com/ask/answers/041515/what-difference-between-variance-and-covariance.asp"
   ]
  }
 ],
 "metadata": {
  "language_info": {
   "name": "python"
  }
 },
 "nbformat": 4,
 "nbformat_minor": 2
}
