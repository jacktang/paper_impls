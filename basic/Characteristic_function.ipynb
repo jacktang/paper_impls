{
 "cells": [
  {
   "cell_type": "markdown",
   "metadata": {},
   "source": [
    "# Characteristic function\n",
    "\n",
    "A moment generating function(MGF) is a clothesline on which we hang up a sequence of numbers for display. -- Herbert Wilf\n",
    "<img src='https://pic1.zhimg.com/80/v2-87fe5a5f9744b2675bc2cab8c741decd_1440w.webp?source=1def8aca' />\n",
    "\n",
    "\n",
    "一般而言，对于随机变量$X$的分布，大家习惯用概率密度函数来描述。【算积分】<br/>\n",
    "虽然概率密度函数理解起来很直观，但是确实随机变量$X$的分布还有另外的描述方式，比如特征函数。【算微分】\n",
    "\n",
    "$\\phi{x(t)} = E[e^{itX}]$\n",
    "\n",
    "$= E(1 + \\frac{itX}{1} + \\frac{(it)^2X^2}{2!} + \\cdot \\cdot \\cdot + \\frac{(it)^n X^n}{n!})$\n",
    "\n",
    "$= E(1) + E(\\frac{itX}{1}) + E(\\frac{(it)^2X^2}{2!}) + \\cdot \\cdot \\cdot + E(\\frac{(it)^nX^n}{n!})$\n",
    "\n",
    "$= 1 + \\underbrace{\\frac{itE[X]}{1}}_{1st\\; moment} + \\underbrace{\\frac{(it)^2E[X^2]}{2!}}_{2nd\\; moment} + \\cdot \\cdot \\cdot + \\frac{(it)^nE[X^n]}{n!}$\n",
    " \n",
    "结论：\n",
    "$\\phi{x(t)}相等 \\Rightarrow 各阶距相等 \\Rightarrow 各个特征相等 \\Rightarrow 分布相同$\n",
    "\n",
    "特征函数把分布函数切换到另一个坐标系，获得一些计算的好处\n",
    "1. 如果我们不知道特征函数，但是通过实验算出了期望、方差、偏度、峰度等，那么可以用特征函数去替代分布函数。\n",
    "2. 两个分布函数的卷积\n",
    "3. 通过对$t$求导，可以简单求出各阶距。\n"
   ]
  },
  {
   "cell_type": "code",
   "execution_count": null,
   "metadata": {},
   "outputs": [],
   "source": []
  },
  {
   "cell_type": "markdown",
   "metadata": {},
   "source": [
    "## Resources\n",
    "\n",
    "* https://en.wikipedia.org/wiki/Characteristic_function_(probability_theory)\n",
    "* https://www.zhihu.com/question/23686709"
   ]
  }
 ],
 "metadata": {
  "language_info": {
   "name": "python"
  }
 },
 "nbformat": 4,
 "nbformat_minor": 2
}
