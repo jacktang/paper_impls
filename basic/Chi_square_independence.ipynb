{
 "cells": [
  {
   "cell_type": "markdown",
   "metadata": {},
   "source": [
    "# "
   ]
  },
  {
   "cell_type": "markdown",
   "metadata": {},
   "source": [
    "## CHI-SQUARE TEST OF INDEPENDENCE\n",
    "\n",
    "Theory about chi-square test of independence\n",
    "\n",
    "$\\chi^2$ test of independence assumptions:\n",
    "\n",
    "* The two samples are independent\n",
    "* No expected cell count is = 0\n",
    "* No more than 20% of the cells have and expected cell count < 5\n",
    "\n",
    "Hypothesis\n",
    "\n",
    "* **$H_0$: Variables are independent**\n",
    "* **$H_A$: Variables are dependent**\n",
    "\n",
    "Test statistic\n",
    "\n",
    "$\\chi^2 = \\sum_{i,j} \\frac{(O_{i,j} - \\hat{E}_{i,j})^2}{\\hat{E}_{i,j}} $\n",
    " \n",
    "One would reject the null hypothesis, $H_0$, if the calculated $\\chi^2$ test statistic is > the critical $\\chi^2$ value based on the degrees of freedom and \n",
    "$\\alpha$ level. Degrees of freedom are calculated using $(r-1)(c-1)$ where $r$ is the number of rows and $c$ is the number of columns.\n",
    "\n",
    "One needs to look-up the critical $\\chi^2$ test statistic using the calculated degrees of freedom and set $\\alpha$ value; this is typically calculated for the user when using statistical software.\n",
    "Before the decision to accept or reject $H_0$, check the assumptions.\n",
    "\n",
    "The data used in this example comes from Stata and is 1980 U.S. census data from 956 cities."
   ]
  },
  {
   "cell_type": "code",
   "execution_count": 1,
   "metadata": {},
   "outputs": [],
   "source": [
    "import pandas as pd\n",
    "import researchpy as rp\n",
    "import scipy.stats as stats\n",
    "\n",
    "# To load a sample dataset for this demonstration\n",
    "import statsmodels.api as sm\n",
    "\n",
    "df = sm.datasets.webuse(\"citytemp2\")"
   ]
  },
  {
   "cell_type": "code",
   "execution_count": 2,
   "metadata": {},
   "outputs": [
    {
     "name": "stdout",
     "output_type": "stream",
     "text": [
      "<class 'pandas.core.frame.DataFrame'>\n",
      "RangeIndex: 956 entries, 0 to 955\n",
      "Data columns (total 7 columns):\n",
      " #   Column    Non-Null Count  Dtype   \n",
      "---  ------    --------------  -----   \n",
      " 0   division  956 non-null    category\n",
      " 1   region    956 non-null    category\n",
      " 2   heatdd    953 non-null    float64 \n",
      " 3   cooldd    953 non-null    float64 \n",
      " 4   tempjan   954 non-null    float32 \n",
      " 5   tempjuly  954 non-null    float32 \n",
      " 6   agecat    956 non-null    category\n",
      "dtypes: category(3), float32(2), float64(2)\n",
      "memory usage: 26.0 KB\n"
     ]
    }
   ],
   "source": [
    "df.info()"
   ]
  },
  {
   "cell_type": "code",
   "execution_count": 4,
   "metadata": {},
   "outputs": [],
   "source": [
    "# rp.summary_cat(df[[\"agecat\", \"region\"]])"
   ]
  },
  {
   "cell_type": "code",
   "execution_count": 5,
   "metadata": {},
   "outputs": [
    {
     "data": {
      "text/html": [
       "<div>\n",
       "<style scoped>\n",
       "    .dataframe tbody tr th:only-of-type {\n",
       "        vertical-align: middle;\n",
       "    }\n",
       "\n",
       "    .dataframe tbody tr th {\n",
       "        vertical-align: top;\n",
       "    }\n",
       "\n",
       "    .dataframe thead th {\n",
       "        text-align: right;\n",
       "    }\n",
       "</style>\n",
       "<table border=\"1\" class=\"dataframe\">\n",
       "  <thead>\n",
       "    <tr style=\"text-align: right;\">\n",
       "      <th>agecat</th>\n",
       "      <th>19-29</th>\n",
       "      <th>30-34</th>\n",
       "      <th>35+</th>\n",
       "    </tr>\n",
       "    <tr>\n",
       "      <th>region</th>\n",
       "      <th></th>\n",
       "      <th></th>\n",
       "      <th></th>\n",
       "    </tr>\n",
       "  </thead>\n",
       "  <tbody>\n",
       "    <tr>\n",
       "      <th>NE</th>\n",
       "      <td>46</td>\n",
       "      <td>83</td>\n",
       "      <td>37</td>\n",
       "    </tr>\n",
       "    <tr>\n",
       "      <th>N Cntrl</th>\n",
       "      <td>162</td>\n",
       "      <td>92</td>\n",
       "      <td>30</td>\n",
       "    </tr>\n",
       "    <tr>\n",
       "      <th>South</th>\n",
       "      <td>139</td>\n",
       "      <td>68</td>\n",
       "      <td>43</td>\n",
       "    </tr>\n",
       "    <tr>\n",
       "      <th>West</th>\n",
       "      <td>160</td>\n",
       "      <td>73</td>\n",
       "      <td>23</td>\n",
       "    </tr>\n",
       "  </tbody>\n",
       "</table>\n",
       "</div>"
      ],
      "text/plain": [
       "agecat   19-29  30-34  35+\n",
       "region                    \n",
       "NE          46     83   37\n",
       "N Cntrl    162     92   30\n",
       "South      139     68   43\n",
       "West       160     73   23"
      ]
     },
     "execution_count": 5,
     "metadata": {},
     "output_type": "execute_result"
    }
   ],
   "source": [
    "crosstab = pd.crosstab(df[\"region\"], df[\"agecat\"])\n",
    "crosstab"
   ]
  },
  {
   "cell_type": "code",
   "execution_count": 6,
   "metadata": {},
   "outputs": [
    {
     "data": {
      "text/plain": [
       "Chi2ContingencyResult(statistic=61.28767688406036, pvalue=2.463382670201326e-11, dof=6, expected_freq=array([[ 88.03556485,  54.87029289,  23.09414226],\n",
       "       [150.61506276,  93.87447699,  39.51046025],\n",
       "       [132.58368201,  82.63598326,  34.78033473],\n",
       "       [135.76569038,  84.61924686,  35.61506276]]))"
      ]
     },
     "execution_count": 6,
     "metadata": {},
     "output_type": "execute_result"
    }
   ],
   "source": [
    "stats.chi2_contingency(crosstab)"
   ]
  },
  {
   "cell_type": "code",
   "execution_count": 7,
   "metadata": {},
   "outputs": [
    {
     "data": {
      "text/plain": [
       "region\n",
       "NE         83\n",
       "N Cntrl    92\n",
       "South      68\n",
       "West       73\n",
       "Name: 30-34, dtype: int64"
      ]
     },
     "execution_count": 7,
     "metadata": {},
     "output_type": "execute_result"
    }
   ],
   "source": [
    "crosstab['30-34']"
   ]
  },
  {
   "cell_type": "markdown",
   "metadata": {},
   "source": [
    "## Resources\n",
    "\n",
    "* https://www.pythonfordatascience.org/chi-square-test-of-independence-python/\n",
    "* https://stats.stackexchange.com/questions/2391/what-is-the-relationship-between-a-chi-squared-test-and-test-of-equal-proportion"
   ]
  }
 ],
 "metadata": {
  "kernelspec": {
   "display_name": "dev",
   "language": "python",
   "name": "python3"
  },
  "language_info": {
   "codemirror_mode": {
    "name": "ipython",
    "version": 3
   },
   "file_extension": ".py",
   "mimetype": "text/x-python",
   "name": "python",
   "nbconvert_exporter": "python",
   "pygments_lexer": "ipython3",
   "version": "3.11.7"
  }
 },
 "nbformat": 4,
 "nbformat_minor": 2
}
