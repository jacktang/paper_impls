{
 "cells": [
  {
   "cell_type": "markdown",
   "metadata": {},
   "source": [
    "# Copulas"
   ]
  },
  {
   "cell_type": "markdown",
   "metadata": {},
   "source": [
    "Copula is a multivariate cumulative distribution function which describe the dependence between random variables. Copulas are often used in quantitative finance to model the tail-risk or returns of a set of correlated distributions (Marginal Distributions)."
   ]
  },
  {
   "cell_type": "markdown",
   "metadata": {},
   "source": [
    "Types of Copulas\n",
    "There are two types of Copulas which will be discussed in this notebook: the Gaussian Copula and the t-Copula. The Gaussian copula is the Standard Normal copula which does not have any particular weighting towards the different parts of the distribution. The t-Copula on the other hand follows a multivariate Student's t distribution and assigns more weight tot he tails of the distribution. t-Copula are considered more suitable in quanititative finance and risk management because they comtrol the depence in the tails of the distribution which is where large profits and losses can be made. The t-Copula is essentially an extension of the Gaussian copula as we will see within this notebook."
   ]
  },
  {
   "cell_type": "markdown",
   "metadata": {},
   "source": [
    "# Gaussian and t-Copula"
   ]
  },
  {
   "cell_type": "code",
   "execution_count": null,
   "metadata": {},
   "outputs": [],
   "source": []
  },
  {
   "cell_type": "markdown",
   "metadata": {},
   "source": [
    "# References\n",
    "\n",
    "* https://research.macrosynergy.com/copulas-and-trading-strategies/\n",
    "* https://risk-engineering.org/static/PDF/slides-copula.pdf\n",
    "* https://www.linkedin.com/pulse/copula-based-strategies-quantitative-trading-investing-/\n",
    "* https://gmarti.gitlab.io/qfin/2020/07/28/sampling-from-empirical-copulas.html\n",
    "* https://hughchristensen.com/papers/academic_papers/Nomura-Correlation%20Primer.pdf\n",
    "\n",
    "\n",
    "* https://www.zhihu.com/question/20123556\n",
    "* https://www.weivol.cn/2018/02/copula-intro/"
   ]
  },
  {
   "cell_type": "markdown",
   "metadata": {},
   "source": [
    "Copula函数可以应用于对于经济下行时期的压力测试及风险管理。在经济下行时期，大量投资者会在短时间内抛售风险资产并置换为更安全的资产，这导致在经济下行时期，不同资产间的相关性相较于经济上行时期增大。应用copula函数，我们可以对资产的依赖结构和边际分布分别进行建模。比如，我们可以用边际分布分析同一个交易所中单个交易员的行为，并用copula分析交易所中所有交易员的行为的相关性结构（交易员的行为在经济下行时期会表现出趋同性）。"
   ]
  }
 ],
 "metadata": {
  "language_info": {
   "name": "python"
  }
 },
 "nbformat": 4,
 "nbformat_minor": 2
}
