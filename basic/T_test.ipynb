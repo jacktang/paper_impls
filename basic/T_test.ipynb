{
 "cells": [
  {
   "cell_type": "markdown",
   "metadata": {},
   "source": [
    "# T-test\n",
    "\n",
    "A t test can only be used when comparing the means of **two groups** (a.k.a. pairwise comparison). If you want to compare more than two groups, or if you want to do multiple pairwise comparisons, use an ANOVA test or a post-hoc test.\n",
    "\n",
    "\n",
    "|                               | 0                                                                 | 1                                                                        | 2                                                                                            |\n",
    "|:------------------------------|:------------------------------------------------------------------|:-------------------------------------------------------------------------|:---------------------------------------------------------------------------------------------|\n",
    "| Test                          | One-sample t-test                                                 | Two-sample t-test                                                        | Paired t-test                                                                                |\n",
    "| Description                   | Decide if the population mean is equal to a specific value or not | Decide if the population means for two different groups are equal or not | Decide if the difference between paired measurements for a population is zero or not         |\n",
    "| Synonyms                      | Student's t-test, Equal variances t-test                          |                                                                          | * Paired groups t-test<br> * Pooled t-test                                                   |\n",
    "| Number of variables           | 1                                                                 | 2                                                                        | 2                                                                                            |\n",
    "| Type of variable              | Continuous measurement                                            | Continuous measurement                                                   | Categorical or Nominal to define pairing within group                                        |\n",
    "| Purpose of test               | Decide if the population mean is equal to a specific value or not | Decide if the population means for two different groups are equal or not | Decide if the difference between paired measurements for a population is zero or not         |\n",
    "| Example: test if...           | Mean heart rate of a group of people is equal to 65 or not        | Mean heart rates for two groups of people are the same or not            | Mean difference in heart rate for a group of people before and after exercise is zero or not |\n",
    "| Estimate of population mean   | Sample average                                                    | Sample average for each group                                            | Sample average of the differences in paired measurements                                     |\n",
    "| Population standard deviation | Unknown, use sample standard deviation                            | Unknown, use sample standard deviations for each group                   | Unknown, use sample standard deviation of differences in paired measurements                 |\n",
    "| Degrees of freedom            | n-1                                                               | n1 + n2 - 2                                                              | n-1                                                                                          |\n",
    "\n",
    "\n",
    "\n",
    "\n",
    "When performing a t-test you are assuming three things:\n",
    "\n",
    "The data in each sample is normally distributed.\n",
    "The data is continuous.\n",
    "The data is a random sample of the true population."
   ]
  },
  {
   "cell_type": "code",
   "execution_count": null,
   "metadata": {},
   "outputs": [],
   "source": []
  },
  {
   "cell_type": "markdown",
   "metadata": {},
   "source": [
    "## Resources\n",
    "\n",
    "* https://www.scribbr.com/statistics/t-test/#:~:text=A%20t%2Dtest%20is%20a,means%20is%20different%20from%20zero.\n",
    "* https://www.jmp.com/zh_cn/statistics-knowledge-portal/t-test.html / https://www.jmp.com/en_hk/statistics-knowledge-portal/t-test.html\n",
    "* https://towardsdatascience.com/the-statistical-analysis-t-test-explained-for-beginners-and-experts-fd0e358bbb62"
   ]
  }
 ],
 "metadata": {
  "language_info": {
   "name": "python"
  }
 },
 "nbformat": 4,
 "nbformat_minor": 2
}
