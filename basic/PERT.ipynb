{
 "cells": [
  {
   "cell_type": "markdown",
   "metadata": {},
   "source": [
    "# PERT Distribution"
   ]
  },
  {
   "cell_type": "markdown",
   "metadata": {},
   "source": [
    "## scenario analysis\n",
    "\n",
    "* how to use probability distributions in scenario analysis;\n",
    "* how to model expert estimates — if observational data are hard to come by, we need to collect estimates from experts that can contribute domain knowledge about an industry, business process, or field; or if historical data are available, but are not expected to mirror future developments, particularly trend breaks, then we also need to develop a model based on expert estimates;\n",
    "* how to use the PERT distribution in scenario analysis; and add the PERT (or other user-defined distributions) as a new subclass to round out the SciPy library;\n",
    "* Methods:\n",
    "    * 3-point-estimation\n",
    "    * Delphi method (also known as Estimate-Talk-Estimate)"
   ]
  },
  {
   "cell_type": "code",
   "execution_count": null,
   "metadata": {},
   "outputs": [],
   "source": []
  },
  {
   "cell_type": "markdown",
   "metadata": {},
   "source": [
    "## Resources\n",
    "\n",
    "* https://towardsdatascience.com/python-scenario-analysis-modeling-expert-estimates-with-the-beta-pert-distribution-22a5e90cfa79"
   ]
  }
 ],
 "metadata": {
  "language_info": {
   "name": "python"
  }
 },
 "nbformat": 4,
 "nbformat_minor": 2
}
