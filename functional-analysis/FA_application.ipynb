{
 "cells": [
  {
   "cell_type": "markdown",
   "metadata": {},
   "source": [
    "# Functional Analysis Application\n",
    "\n",
    "The fundamental theorem of asset pricing has a very neat proof invoking the Hahn–Banach theorem, which lies at the heart of Functional Analysis.\n",
    "\n",
    "The theorem says that for a financial market these two features are equivalent:\n",
    "\n",
    "* the market allows no arbitrage;\n",
    "* the original probability measure governing the risk can be changed to an equivalent one, under which the stochastic process of asset price formation is a martingale.\n",
    "This argument goes back to Ross and it has opened the gate for numerous applications of old-school Functional Analysis (ordered spaces, Riesz spaces, geometry and order in the space of measures) to Finance.\n",
    "\n",
    "\n",
    "* [Functional Analysis and Economic Theory](https://books.google.co.uk/books?id=kx_sCAAAQBAJ&pg=PA268&lpg=PA268&dq=functional%20analysis%20in%20economy&source=bl&ots=X-2A9ync8-&sig=wzEPSymmdHtjP-REhdsQPVvZs_E&hl=en&sa=X&ved=0ahUKEwiEitOHgb3JAhVBthoKHQu2CR8Q6AEITDAF)\n",
    "* [On the origin and early history of functional analysis](http://www.diva-portal.org/smash/get/diva2:303480/FULLTEXT01.pdf) by Jens Lindström.\n",
    "\n",
    "\n",
    "Much of the theory of probability can be considered as a branch of functional analysis (although some probabilists might object to this statement). For example, the Strong Law of Large Numbers can be considered as a special case of Birkhoff's Ergodic Theorem."
   ]
  },
  {
   "cell_type": "markdown",
   "metadata": {},
   "source": [
    "## Resources\n",
    "\n",
    "* https://math.stackexchange.com/questions/1556307/what-are-the-applications-of-functional-analysis\n",
    "* https://en.wikipedia.org/wiki/Functional_analysis\n"
   ]
  }
 ],
 "metadata": {
  "language_info": {
   "name": "python"
  }
 },
 "nbformat": 4,
 "nbformat_minor": 2
}
