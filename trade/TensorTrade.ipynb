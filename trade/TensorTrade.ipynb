{
 "cells": [
  {
   "cell_type": "markdown",
   "metadata": {},
   "source": [
    "# Fetech data from Bitflex"
   ]
  },
  {
   "cell_type": "code",
   "execution_count": 1,
   "metadata": {},
   "outputs": [
    {
     "name": "stderr",
     "output_type": "stream",
     "text": [
      "2024-02-15 19:54:05.490219: I tensorflow/core/platform/cpu_feature_guard.cc:182] This TensorFlow binary is optimized to use available CPU instructions in performance-critical operations.\n",
      "To enable the following instructions: AVX2 FMA, in other operations, rebuild TensorFlow with the appropriate compiler flags.\n"
     ]
    }
   ],
   "source": [
    "import pandas as pd\n",
    "import tensortrade.env.default as default\n",
    "\n",
    "from tensortrade.data.cdd import CryptoDataDownload\n",
    "from tensortrade.feed.core import Stream, DataFeed, NameSpace\n",
    "from tensortrade.oms.instruments import USD, BTC, ETH, LTC\n",
    "from tensortrade.oms.wallets import Wallet, Portfolio\n",
    "from tensortrade.oms.exchanges import Exchange\n",
    "from tensortrade.oms.services.execution.simulated import execute_order"
   ]
  },
  {
   "cell_type": "markdown",
   "metadata": {},
   "source": [
    "## Fetch Historical Data"
   ]
  },
  {
   "cell_type": "code",
   "execution_count": 2,
   "metadata": {},
   "outputs": [],
   "source": [
    "cdd = CryptoDataDownload()\n",
    "\n",
    "bitfinex_data = pd.concat([\n",
    "    cdd.fetch(\"Bitfinex\", \"USD\", \"BTC\", \"1h\").add_prefix(\"BTC:\"),\n",
    "    cdd.fetch(\"Bitfinex\", \"USD\", \"ETH\", \"1h\").add_prefix(\"ETH:\")\n",
    "], axis=1)\n",
    "\n",
    "bitstamp_data = pd.concat([\n",
    "    cdd.fetch(\"Bitstamp\", \"USD\", \"BTC\", \"1h\").add_prefix(\"BTC:\"),\n",
    "    cdd.fetch(\"Bitstamp\", \"USD\", \"LTC\", \"1h\").add_prefix(\"LTC:\")\n",
    "], axis=1)"
   ]
  },
  {
   "cell_type": "code",
   "execution_count": 3,
   "metadata": {},
   "outputs": [
    {
     "data": {
      "text/html": [
       "<div>\n",
       "<style scoped>\n",
       "    .dataframe tbody tr th:only-of-type {\n",
       "        vertical-align: middle;\n",
       "    }\n",
       "\n",
       "    .dataframe tbody tr th {\n",
       "        vertical-align: top;\n",
       "    }\n",
       "\n",
       "    .dataframe thead th {\n",
       "        text-align: right;\n",
       "    }\n",
       "</style>\n",
       "<table border=\"1\" class=\"dataframe\">\n",
       "  <thead>\n",
       "    <tr style=\"text-align: right;\">\n",
       "      <th></th>\n",
       "      <th>BTC:date</th>\n",
       "      <th>BTC:unix</th>\n",
       "      <th>BTC:open</th>\n",
       "      <th>BTC:high</th>\n",
       "      <th>BTC:low</th>\n",
       "      <th>BTC:close</th>\n",
       "      <th>BTC:volume</th>\n",
       "      <th>ETH:date</th>\n",
       "      <th>ETH:unix</th>\n",
       "      <th>ETH:open</th>\n",
       "      <th>ETH:high</th>\n",
       "      <th>ETH:low</th>\n",
       "      <th>ETH:close</th>\n",
       "      <th>ETH:volume</th>\n",
       "    </tr>\n",
       "  </thead>\n",
       "  <tbody>\n",
       "    <tr>\n",
       "      <th>0</th>\n",
       "      <td>2018-05-15 06:00:00</td>\n",
       "      <td>1.526364e+09</td>\n",
       "      <td>8723.8</td>\n",
       "      <td>8793.0</td>\n",
       "      <td>8714.9</td>\n",
       "      <td>8739.0</td>\n",
       "      <td>8988053.53</td>\n",
       "      <td>2018-05-15 06:00:00</td>\n",
       "      <td>1526364000</td>\n",
       "      <td>733.12</td>\n",
       "      <td>736.48</td>\n",
       "      <td>731.19</td>\n",
       "      <td>733.04</td>\n",
       "      <td>4246576.84</td>\n",
       "    </tr>\n",
       "    <tr>\n",
       "      <th>1</th>\n",
       "      <td>2018-05-15 07:00:00</td>\n",
       "      <td>1.526368e+09</td>\n",
       "      <td>8739.0</td>\n",
       "      <td>8754.8</td>\n",
       "      <td>8719.3</td>\n",
       "      <td>8743.0</td>\n",
       "      <td>2288904.12</td>\n",
       "      <td>2018-05-15 07:00:00</td>\n",
       "      <td>1526367600</td>\n",
       "      <td>733.04</td>\n",
       "      <td>735.99</td>\n",
       "      <td>731.70</td>\n",
       "      <td>734.64</td>\n",
       "      <td>2044880.32</td>\n",
       "    </tr>\n",
       "    <tr>\n",
       "      <th>2</th>\n",
       "      <td>2018-05-15 08:00:00</td>\n",
       "      <td>1.526371e+09</td>\n",
       "      <td>8743.0</td>\n",
       "      <td>8743.1</td>\n",
       "      <td>8653.2</td>\n",
       "      <td>8723.7</td>\n",
       "      <td>8891773.14</td>\n",
       "      <td>2018-05-15 08:00:00</td>\n",
       "      <td>1526371200</td>\n",
       "      <td>734.64</td>\n",
       "      <td>734.65</td>\n",
       "      <td>722.00</td>\n",
       "      <td>731.32</td>\n",
       "      <td>7891317.14</td>\n",
       "    </tr>\n",
       "    <tr>\n",
       "      <th>3</th>\n",
       "      <td>2018-05-15 09:00:00</td>\n",
       "      <td>1.526375e+09</td>\n",
       "      <td>8723.7</td>\n",
       "      <td>8737.8</td>\n",
       "      <td>8701.2</td>\n",
       "      <td>8708.1</td>\n",
       "      <td>2054868.28</td>\n",
       "      <td>2018-05-15 09:00:00</td>\n",
       "      <td>1526374800</td>\n",
       "      <td>731.32</td>\n",
       "      <td>732.00</td>\n",
       "      <td>728.44</td>\n",
       "      <td>728.44</td>\n",
       "      <td>2111099.12</td>\n",
       "    </tr>\n",
       "    <tr>\n",
       "      <th>4</th>\n",
       "      <td>2018-05-15 10:00:00</td>\n",
       "      <td>1.526378e+09</td>\n",
       "      <td>8708.1</td>\n",
       "      <td>8855.7</td>\n",
       "      <td>8695.8</td>\n",
       "      <td>8784.4</td>\n",
       "      <td>17309722.58</td>\n",
       "      <td>2018-05-15 10:00:00</td>\n",
       "      <td>1526378400</td>\n",
       "      <td>728.44</td>\n",
       "      <td>739.30</td>\n",
       "      <td>725.52</td>\n",
       "      <td>735.21</td>\n",
       "      <td>7197617.75</td>\n",
       "    </tr>\n",
       "  </tbody>\n",
       "</table>\n",
       "</div>"
      ],
      "text/plain": [
       "             BTC:date      BTC:unix  BTC:open  BTC:high  BTC:low  BTC:close  \\\n",
       "0 2018-05-15 06:00:00  1.526364e+09    8723.8    8793.0   8714.9     8739.0   \n",
       "1 2018-05-15 07:00:00  1.526368e+09    8739.0    8754.8   8719.3     8743.0   \n",
       "2 2018-05-15 08:00:00  1.526371e+09    8743.0    8743.1   8653.2     8723.7   \n",
       "3 2018-05-15 09:00:00  1.526375e+09    8723.7    8737.8   8701.2     8708.1   \n",
       "4 2018-05-15 10:00:00  1.526378e+09    8708.1    8855.7   8695.8     8784.4   \n",
       "\n",
       "    BTC:volume            ETH:date    ETH:unix  ETH:open  ETH:high  ETH:low  \\\n",
       "0   8988053.53 2018-05-15 06:00:00  1526364000    733.12    736.48   731.19   \n",
       "1   2288904.12 2018-05-15 07:00:00  1526367600    733.04    735.99   731.70   \n",
       "2   8891773.14 2018-05-15 08:00:00  1526371200    734.64    734.65   722.00   \n",
       "3   2054868.28 2018-05-15 09:00:00  1526374800    731.32    732.00   728.44   \n",
       "4  17309722.58 2018-05-15 10:00:00  1526378400    728.44    739.30   725.52   \n",
       "\n",
       "   ETH:close  ETH:volume  \n",
       "0     733.04  4246576.84  \n",
       "1     734.64  2044880.32  \n",
       "2     731.32  7891317.14  \n",
       "3     728.44  2111099.12  \n",
       "4     735.21  7197617.75  "
      ]
     },
     "execution_count": 3,
     "metadata": {},
     "output_type": "execute_result"
    }
   ],
   "source": [
    "bitfinex_data.head()"
   ]
  },
  {
   "cell_type": "markdown",
   "metadata": {},
   "source": [
    "## Resources\n",
    "\n",
    "* https://github.com/tensortrade-org/tensortrade?tab=readme-ov-file\n",
    "* https://github.com/tensortrade-org/tensortrade/blob/master/examples/setup_environment_tutorial.ipynb"
   ]
  }
 ],
 "metadata": {
  "kernelspec": {
   "display_name": "dev",
   "language": "python",
   "name": "python3"
  },
  "language_info": {
   "codemirror_mode": {
    "name": "ipython",
    "version": 3
   },
   "file_extension": ".py",
   "mimetype": "text/x-python",
   "name": "python",
   "nbconvert_exporter": "python",
   "pygments_lexer": "ipython3",
   "version": "3.11.7"
  }
 },
 "nbformat": 4,
 "nbformat_minor": 2
}
