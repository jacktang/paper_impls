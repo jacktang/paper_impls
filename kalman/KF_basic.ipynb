{
 "cells": [
  {
   "cell_type": "markdown",
   "metadata": {},
   "source": [
    "# Kalman Filter"
   ]
  },
  {
   "cell_type": "markdown",
   "metadata": {},
   "source": [
    "```\n",
    "prior = predict(x, process_model)\n",
    "likelihood = gaussian(z, sensor_var)\n",
    "x = update(prior, likelihood)\n",
    "```\n",
    "\n",
    "Here is the generic algorithm:\n",
    "\n",
    "```\n",
    "Initialization\n",
    "\n",
    "1. Initialize the state of the filter\n",
    "2. Initialize our belief in the state\n",
    "\n",
    "Predict\n",
    "\n",
    "1. Use system behavior to predict state at the next time step\n",
    "2. Adjust belief to account for the uncertainty in prediction\n",
    "\n",
    "Update\n",
    "\n",
    "1. Get a measurement and associated belief about its accuracy\n",
    "2. Compute residual between estimated state and measurement\n",
    "3. Compute scaling factor based on whether the measurement or prediction is more accurate\n",
    "4. Set state between the prediction and measurement based on scaling factor\n",
    "5. Update belief in the state based on how certain we are in the measurement\n",
    "```\n",
    "\n",
    "*Correlations between variables can significantly improve our estimates.*"
   ]
  },
  {
   "cell_type": "code",
   "execution_count": null,
   "metadata": {},
   "outputs": [],
   "source": []
  },
  {
   "cell_type": "code",
   "execution_count": null,
   "metadata": {},
   "outputs": [],
   "source": [
    "# Kal"
   ]
  },
  {
   "cell_type": "markdown",
   "metadata": {},
   "source": [
    "## Resources\n",
    "\n",
    "* https://github.com/rlabbe/Kalman-and-Bayesian-Filters-in-Python\n",
    "* [Kalman filter demystified: from intuition to probabilistic\n",
    "graphical model to real case in financial markets] https://hal.science/hal-02012471/document \n",
    "* https://papers.ssrn.com/sol3/papers.cfm?abstract_id=715301\n",
    "* https://statisticssu.github.io/STM/tutorial/statespace/statespace.html [GOOD]\n",
    "* https://www.kalmanfilter.net/default.aspx\n",
    "* https://www.youtube.com/watch?v=CaCcOwJPytQ"
   ]
  }
 ],
 "metadata": {
  "language_info": {
   "name": "python"
  }
 },
 "nbformat": 4,
 "nbformat_minor": 2
}
