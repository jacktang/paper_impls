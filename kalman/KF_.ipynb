{
 "cells": [
  {
   "cell_type": "code",
   "execution_count": null,
   "metadata": {},
   "outputs": [],
   "source": [
    "https://jgoslinski.medium.com/ekf-vs-ukf-in-terms-of-an-ellipse-of-confidence-b51f6cb02da2"
   ]
  }
 ],
 "metadata": {
  "language_info": {
   "name": "python"
  }
 },
 "nbformat": 4,
 "nbformat_minor": 2
}
