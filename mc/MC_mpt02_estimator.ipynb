{
 "cells": [
  {
   "cell_type": "markdown",
   "metadata": {},
   "source": [
    "# MC and portfolio optimization\n",
    "\n",
    "One of the assumptions of Modern Portfolio Theory (MPT) is that the mean and covariance matrix of returns are known. Clearly that is not the case and we have to use some estimates. The accuracy of the estimates used has a big effect on the resulting portfolio.\n",
    "\n",
    "(The $paper^{[2]}$)Section II of the paper demonstrates several empirical regularities found in financial data:\n",
    "\n",
    "* Volatility is time-varying.\n",
    "* Correlations are time-varying.\n",
    "* Financial data has fat-tails.\n",
    "\n",
    "In the paper authors propose using weighted estimators, which give more weight to newer datapoints and less weight to older datapoints. Formula for calculating weighted covariance is provided below. Formula in the paper is a little different — it doesn’t contain expectations of returns because they are assumed to be zero.\n",
    "\n",
    "$$ \n",
    "\\sigma_{ij} = \\frac{\\sum^T_{s=0}(w_{T-s}(r_{i,T-s} - \\mathbb{E[r_i]})(r_{j,T-s} - \\mathbb{E[r_j]}))}{\\sum^T_{s=0}W_{T-s}} \n",
    "$$\n",
    "* $r_{i, t}$: return of asset $i$ at time $t$\n",
    "* $w_t$: weight of a data point at time $t$\n",
    "\n",
    "Weighted average of returns\n",
    "$$\n",
    "\\mu_i = \\frac{\\sum^T_{s=0}{(W_{T-s} r_{i, T-s})}}{\\sum^T_{s=0}{W_{T-s}}}\n",
    "$$\n",
    "\n",
    "$w_t$ should be a decaying function of time:\n",
    "$$ w_t = (1-d)w_{t-1}$$\n",
    "$d:$ decay rate"
   ]
  },
  {
   "cell_type": "code",
   "execution_count": 1,
   "metadata": {},
   "outputs": [],
   "source": [
    "import pandas as pd\n",
    "import numpy as np\n",
    "import matplotlib.pyplot as plt\n",
    "import seaborn as sns\n",
    "import yfinance as yf\n",
    "from tqdm import tqdm\n",
    "from scipy.optimize import minimize\n",
    "\n",
    "%config InlineBackend.figure_format = 'retina'\n",
    "sns.set_style('darkgrid')"
   ]
  },
  {
   "cell_type": "code",
   "execution_count": 2,
   "metadata": {},
   "outputs": [],
   "source": [
    "def calculate_metrics(cumret):\n",
    "    '''\n",
    "    calculate performance metrics from cumulative returns\n",
    "    '''\n",
    "    total_return = (cumret[-1] - cumret[0])/cumret[0]\n",
    "    apr = (1+total_return)**(52/len(cumret)) - 1\n",
    "    rets = pd.DataFrame(cumret).pct_change()\n",
    "    rets.iloc[0] = 0\n",
    "    sharpe = np.sqrt(52) * np.nanmean(rets) / np.nanstd(rets)\n",
    "    \n",
    "    # maxdd and maxddd\n",
    "    highwatermark=np.zeros(cumret.shape)\n",
    "    drawdown=np.zeros(cumret.shape)\n",
    "    drawdownduration=np.zeros(cumret.shape)\n",
    "    for t in np.arange(1, cumret.shape[0]):\n",
    "        highwatermark[t]=np.maximum(highwatermark[t-1], cumret[t])\n",
    "        drawdown[t]=cumret[t]/highwatermark[t]-1\n",
    "        if drawdown[t]==0:\n",
    "            drawdownduration[t]=0\n",
    "        else:\n",
    "            drawdownduration[t]=drawdownduration[t-1]+1\n",
    "    maxDD=np.min(drawdown)\n",
    "    maxDDD=np.max(drawdownduration)\n",
    "    \n",
    "    return total_return, apr, sharpe, maxDD, maxDDD"
   ]
  },
  {
   "cell_type": "code",
   "execution_count": null,
   "metadata": {},
   "outputs": [],
   "source": [
    "spy = yf.download('SPY', start='2018-01-01', end='2022-12-31')['Adj Close']\n",
    "spy_ret = spy.pct_change().dropna()\n",
    "spy_hist_std = spy_ret.std()*np.sqrt(252) # annualized historical sd\n",
    "spy_rolling_std = spy_ret.rolling(100).std().dropna()*np.sqrt(252) # annualized rolling sd (100 days)\n",
    "\n",
    "plt.figure(figsize=(18,6))\n",
    "plt.plot(spy_rolling_std, label='100-day rolling')\n",
    "plt.axhline(spy_hist_std, label='historical', color='m', linestyle='dashed')\n",
    "plt.legend()"
   ]
  },
  {
   "cell_type": "markdown",
   "metadata": {},
   "source": [
    "## Resources\n",
    "\n",
    "* https://medium.com/@financialnoob/portfolio-optimization-with-weighted-mean-and-covariance-estimators-de6dda2cab3d\n",
    "* http://www.andreisimonov.com/4106/pdf/GS_Estimating_covariance_matrices.pdf"
   ]
  }
 ],
 "metadata": {
  "kernelspec": {
   "display_name": "dev",
   "language": "python",
   "name": "python3"
  },
  "language_info": {
   "codemirror_mode": {
    "name": "ipython",
    "version": 3
   },
   "file_extension": ".py",
   "mimetype": "text/x-python",
   "name": "python",
   "nbconvert_exporter": "python",
   "pygments_lexer": "ipython3",
   "version": "3.11.7"
  }
 },
 "nbformat": 4,
 "nbformat_minor": 2
}
