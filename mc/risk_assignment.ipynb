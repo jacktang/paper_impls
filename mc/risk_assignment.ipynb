{
 "cells": [
  {
   "cell_type": "code",
   "execution_count": null,
   "metadata": {},
   "outputs": [],
   "source": []
  },
  {
   "cell_type": "markdown",
   "metadata": {},
   "source": [
    "* https://medium.com/codex/measuring-portfolio-risk-using-monte-carlo-simulation-in-python-part-1-ac69ea9802f\n",
    "\n",
    "https://github.com/alegaballo/AML/blob/master/%5BLecture%207%2B8%5D%20Estimating%20Financial%20Risk%20through%20Monte%20Carlo%20Simulation.ipynb"
   ]
  }
 ],
 "metadata": {
  "language_info": {
   "name": "python"
  }
 },
 "nbformat": 4,
 "nbformat_minor": 2
}
