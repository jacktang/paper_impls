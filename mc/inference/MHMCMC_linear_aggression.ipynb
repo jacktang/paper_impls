{
 "cells": [
  {
   "cell_type": "markdown",
   "metadata": {},
   "source": [
    "# MCMC Infering\n",
    "\n",
    "### Problem\n",
    "\n",
    "Let Y and X be a response and a predictor for the model, respectively. A linear model states that the conditional distribution of the response given such predictor is normal. That is:\n",
    "$$ Y|X \\sim \\mathcal{N}(aX+b, \\sigma^2)$$ "
   ]
  },
  {
   "cell_type": "code",
   "execution_count": 3,
   "metadata": {},
   "outputs": [
    {
     "data": {
      "text/plain": [
       "Text(0, 0.5, 'y')"
      ]
     },
     "execution_count": 3,
     "metadata": {},
     "output_type": "execute_result"
    },
    {
     "data": {
      "image/png": "[encoded data removed]",
      "text/plain": [
       "<Figure size 640x480 with 1 Axes>"
      ]
     },
     "metadata": {},
     "output_type": "display_data"
    }
   ],
   "source": [
    "import numpy as np\n",
    "import matplotlib.pyplot as plt\n",
    "import scipy.stats as sc\n",
    "\n",
    "# sample x\n",
    "np.random.seed(2022)\n",
    "x = np.random.rand(100)*30\n",
    "\n",
    "# set parameters\n",
    "a = 3\n",
    "b = 20\n",
    "sigma = 5\n",
    "\n",
    "\n",
    "# obtain response and add noise\n",
    "y = a*x+b\n",
    "noise = np.random.randn(100)*sigma\n",
    "\n",
    "# create a matrix containing the predictor in the first column\n",
    "# and the response in the second\n",
    "data = np.vstack((x,y)).T + noise.reshape(-1,1)\n",
    "\n",
    "# plot data \n",
    "plt.scatter(data[:,0], data[:,1])\n",
    "plt.xlabel(\"x\")\n",
    "plt.ylabel(\"y\")"
   ]
  },
  {
   "cell_type": "markdown",
   "metadata": {},
   "source": [
    "## The Algorithm\n",
    "\n",
    "Let $\\theta=[a,b,\\sigma]$ be the vector of parameters at the previous step of the algorithm and θ’ be a proposal for a new set of parameters, MH compares the Bayes Factor (the product of likelihood and prior) between two competing hypotheses for the parameters (θ’ and θ) and scales this factor by the reciprocal of the conditional proposal distribution. This factor is then compared with the value of a uniformly distributed random variable. This adds stochasticity to the model and makes it possible for unlikely parameter vectors to be explored and for likely ones to be discarded (rarely).\n",
    "\n",
    "### The Proposal Distribution\n",
    "\n",
    "First, we define a proposal distribution g(θ’|θ): this is a distribution for fixed parameters at the previous time step. In our example, a and b can be both positive and negative, therefore a natural choice would be sampling them from a multivariate normal distribution centered at the previous iteration step. As for σ, we can for example sample it from a Gamma distribution. It is really up to the user defining all these distributions. A better approach (which we will not cover here) would involve sampling σ from an inverse Gamma distribution instead.\n",
    "<img src='https://miro.medium.com/v2/resize:fit:1140/format:webp/1*E7lfeQYcLcVUIdXHvpSS6A.png' />\n",
    "\n",
    "<img src='https://miro.medium.com/v2/resize:fit:652/format:webp/1*Gx3OaDKEE3EshtCdQYvCtg.png'>"
   ]
  },
  {
   "cell_type": "code",
   "execution_count": 4,
   "metadata": {},
   "outputs": [],
   "source": [
    "def proposal(prec_theta, search_width = 0.5):\n",
    "    # this function generates the proposal for the new theta\n",
    "    # we assume that the distribution of the random variables \n",
    "    # is normal for the first two and gamma for the third.\n",
    "    # conditional on the previous value of the accepted parameters (prec_theta)\n",
    "    out_theta = np.zeros(3)\n",
    "    out_theta[:2] = sc.multivariate_normal(mean=prec_theta[:2],cov=np.eye(2)*search_width**2).rvs(1)\n",
    "    #the last component is the noise\n",
    "    out_theta[2] = sc.gamma(a=prec_theta[2]*search_width*500, scale=1/(500*search_width)).rvs()\n",
    "    return out_theta"
   ]
  },
  {
   "cell_type": "markdown",
   "metadata": {},
   "source": [
    "### The Likelihood Function"
   ]
  },
  {
   "cell_type": "code",
   "execution_count": 5,
   "metadata": {},
   "outputs": [],
   "source": [
    "\n",
    "def lhd(x,theta):\n",
    "    # x is the data matrix, first column for input and second column for output.\n",
    "    # theta is a vector containing the parameters for the evaluation\n",
    "    # remember theta[0] is a, theta[1] is b and theta[2] is sigma\n",
    "    xs = x[:,0]\n",
    "    ys = x[:,1]\n",
    "    lhd_out = sc.norm.logpdf(ys, loc=theta[0]*xs+theta[1], scale=theta[2])\n",
    "    # then we sum lhd_out (be careful here, we are summing instead of multiplying\n",
    "    # because we are dealing with the log-likelihood, instead of the raw likelihood).\n",
    "    lhd_out = np.sum(lhd_out)\n",
    "    return lhd_out"
   ]
  },
  {
   "cell_type": "markdown",
   "metadata": {},
   "source": [
    "### The Prior"
   ]
  },
  {
   "cell_type": "code",
   "execution_count": 6,
   "metadata": {},
   "outputs": [],
   "source": [
    "def prior(theta):\n",
    "    # evaluate the prior for the parameters on a multivariate gaussian. \n",
    "    prior_out = sc.multivariate_normal.logpdf(theta[:2],mean=np.array([0,0]), cov=np.eye(2)*100)\n",
    "    # this needs to be summed to the prior for the sigma, since I assumed independence.\n",
    "    prior_out += sc.gamma.logpdf(theta[2], a=1, scale=1)\n",
    "    return prior_out"
   ]
  },
  {
   "cell_type": "markdown",
   "metadata": {},
   "source": [
    "### The Proposal Ratio\n",
    "\n",
    "The proposal ratio is the likelihood of observing the old parameter vector given the new one divided by the probability of observing the new parameter vector given the old one."
   ]
  },
  {
   "cell_type": "code",
   "execution_count": 7,
   "metadata": {},
   "outputs": [],
   "source": [
    "def proposal_ratio(theta_old, theta_new, search_width=10):\n",
    "    # this is the proposal distribution ratio\n",
    "    # first, we calculate of the pdf of the proposal distribution at the old value of theta with respect to the new \n",
    "    # value of theta. And then we do the exact opposite.\n",
    "    prop_ratio_out = sc.multivariate_normal.logpdf(theta_old[:2],mean=theta_new[:2], cov=np.eye(2)*search_width**2)\n",
    "    prop_ratio_out += sc.gamma.logpdf(theta_old[2], a=theta_new[2]*search_width*500, scale=1/(500*search_width))\n",
    "    prop_ratio_out -= sc.multivariate_normal.logpdf(theta_new[:2],mean=theta_old[:2], cov=np.eye(2)*search_width**2)\n",
    "    prop_ratio_out -= sc.gamma.logpdf(theta_new[2], a=theta_old[2]*search_width*500, scale=1/(500*search_width))\n",
    "    return prop_ratio_out"
   ]
  },
  {
   "cell_type": "markdown",
   "metadata": {},
   "source": [
    "### In All\n",
    "\n",
    "```\n",
    "# 1) Instantiate initial values for the parameter vector\n",
    "\n",
    "... N TIMES or UNTIL CONVERGENCE\n",
    "# 2) Draw a new parameter vector from the proposal\n",
    "# 3) Calculate likelihood, prior pdf value and the reciprocal of the proposal likelihood ratio\n",
    "# 4) Multiply all the quantities in 3 (or sum if in log) and compare this ratio (in linear scale)\n",
    "     against a number drawn from a uniform distribution. \n",
    "# 5) If the ratio is larger, the new parameter vector is accepted.\n",
    "     Otherwise, the new parameter vector is rejected.\n",
    "# 6) Move to 2)\n",
    "```"
   ]
  },
  {
   "cell_type": "code",
   "execution_count": 8,
   "metadata": {},
   "outputs": [
    {
     "name": "stderr",
     "output_type": "stream",
     "text": [
      "/var/folders/zk/83r7bdpd2g11psvjbywlbxsr0000gn/T/ipykernel_54367/3165780626.py:34: RuntimeWarning: overflow encountered in exp\n",
      "  if np.exp(likelihood_prior_proposal_ratio) > sc.uniform().rvs():\n"
     ]
    }
   ],
   "source": [
    "np.random.seed(100)\n",
    "width = 0.2\n",
    "\n",
    "thetas = np.random.rand(3).reshape(1,-1)\n",
    "accepted = 0\n",
    "rejected = 0\n",
    "\n",
    "N = 20000\n",
    "\n",
    "for i in range(N):\n",
    "\n",
    "    # 1) provide a proposal for theta\n",
    "    theta_new = proposal(thetas[-1,:], search_width=width)\n",
    "    \n",
    "    # 2) calculate the likelihood of this proposal and the likelihood\n",
    "    # for the old value of theta\n",
    "    log_lik_theta_new = lhd(data,theta_new)\n",
    "    log_lik_theta = lhd(data,thetas[-1,:])\n",
    "    \n",
    "    # 3) evaluate the prior log-pdf at the current and at the old value of theta\n",
    "    theta_new_prior = prior(theta_new)\n",
    "    theta_prior = prior(thetas[-1,:])\n",
    "    \n",
    "    # 4) finally, we need the proposal distribution ratio\n",
    "    prop_ratio = proposal_ratio(thetas[-1], theta_new, search_width=width)\n",
    "    \n",
    "    # 5) assemble likelihood, priors and proposal distributions\n",
    "    likelihood_prior_proposal_ratio = log_lik_theta_new - log_lik_theta + \\\n",
    "                             theta_new_prior - theta_prior + prop_ratio\n",
    "    \n",
    "    # 6) throw a - possibly infinitely weigthed - coin. The move for Metropolis-Hastings is\n",
    "    # not deterministic. Here, we exponentiate the likelihood_prior_proposal ratio in order\n",
    "    # to obtain the probability in linear scale\n",
    "    if np.exp(likelihood_prior_proposal_ratio) > sc.uniform().rvs():\n",
    "        thetas = np.vstack((thetas,theta_new))\n",
    "        accepted += 1\n",
    "    else:\n",
    "        rejected += 1"
   ]
  },
  {
   "cell_type": "markdown",
   "metadata": {},
   "source": [
    "## OLS"
   ]
  },
  {
   "cell_type": "code",
   "execution_count": null,
   "metadata": {},
   "outputs": [],
   "source": [
    "import statsmodels.api as sm\n",
    "import pandas as pd\n",
    "\n",
    "df = pd.DataFrame(data)\n",
    "df.columns = [\"a\",\"y\"]\n",
    "df[\"b\"] = 1\n",
    "lm = sm.OLS(df[\"y\"], df[[\"a\",\"b\"]]).fit()\n",
    "lm.summary()"
   ]
  },
  {
   "cell_type": "markdown",
   "metadata": {},
   "source": [
    "## Resources\n",
    "\n",
    "* https://theoreticalecology.wordpress.com/2010/09/17/metropolis-hastings-mcmc-in-r/\n",
    "* https://medium.com/@tinonucera/bayesian-linear-regression-from-scratch-a-metropolis-hastings-implementation-63526857f191\n",
    "\n",
    "* RVS: https://miro.medium.com/v2/resize:fit:652/format:webp/1*Gx3OaDKEE3EshtCdQYvCtg.png"
   ]
  }
 ],
 "metadata": {
  "kernelspec": {
   "display_name": "dev",
   "language": "python",
   "name": "python3"
  },
  "language_info": {
   "codemirror_mode": {
    "name": "ipython",
    "version": 3
   },
   "file_extension": ".py",
   "mimetype": "text/x-python",
   "name": "python",
   "nbconvert_exporter": "python",
   "pygments_lexer": "ipython3",
   "version": "3.11.7"
  }
 },
 "nbformat": 4,
 "nbformat_minor": 2
}
