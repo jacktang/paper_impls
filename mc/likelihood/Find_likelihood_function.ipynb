{
 "cells": [
  {
   "cell_type": "code",
   "execution_count": null,
   "metadata": {},
   "outputs": [],
   "source": []
  },
  {
   "cell_type": "markdown",
   "metadata": {},
   "source": [
    "## Resources\n",
    "\n",
    "* https://stats.stackexchange.com/questions/132877/how-to-calculate-the-likelihood-function\n",
    "* https://stats.stackexchange.com/questions/310629/calculating-the-likelihood-of-a-whole-dataset\n",
    "* https://hea-www.harvard.edu/astrostat/aas227_2016/lecture1_Robinson.pdf"
   ]
  }
 ],
 "metadata": {
  "language_info": {
   "name": "python"
  }
 },
 "nbformat": 4,
 "nbformat_minor": 2
}
