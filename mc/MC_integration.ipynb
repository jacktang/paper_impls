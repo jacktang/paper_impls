{
 "cells": [
  {
   "cell_type": "markdown",
   "metadata": {},
   "source": [
    "# Monte Carlo integration"
   ]
  },
  {
   "cell_type": "markdown",
   "metadata": {},
   "source": [
    "$$\n",
    "I = \\int_{\\boldsymbol{x} \\in D} f(x) dx\n",
    "$$\n",
    "$$ \n",
    "I = \\int_{\\boldsymbol{x} \\in D} \\frac{f(\\boldsymbol{x})}{p(\\boldsymbol{x})} p(\\boldsymbol{x}) \\,d\\boldsymbol{x}\n",
    "= \\int_{\\boldsymbol{x} \\in D} g(\\boldsymbol{x})p(\\boldsymbol{x}) \\,d\\boldsymbol{x}\n",
    "= E[ g(\\boldsymbol{x}) ]\n",
    "$$"
   ]
  },
  {
   "cell_type": "markdown",
   "metadata": {},
   "source": [
    "$ I = \\int_{x \\in D} \\frac{f(x)}{p(x)}p(x)dx$"
   ]
  },
  {
   "cell_type": "markdown",
   "metadata": {},
   "source": [
    "## Univariate"
   ]
  },
  {
   "cell_type": "code",
   "execution_count": 4,
   "metadata": {},
   "outputs": [
    {
     "name": "stdout",
     "output_type": "stream",
     "text": [
      "Monte Carlo solution:  5.3290\n",
      "Analytical solution:  5.3333\n"
     ]
    }
   ],
   "source": [
    "import numpy as np\n",
    "\n",
    "def func1(x):\n",
    "    return x**2\n",
    "\n",
    "def func1_int(a, b):\n",
    "    # analytical solution to integral of f(x)\n",
    "    return (b** 3 - a**3)/3\n",
    "\n",
    "def mc_integrate(func, a, b, n=1000):\n",
    "    # Monte Carlo integration between x1 and x2 of given function from a to b\n",
    "    vals = np.random.uniform(a, b, n)\n",
    "    y = [func(val) for val in vals]\n",
    "\n",
    "    y_mean = np.mean(y)\n",
    "    integ = (b-a) * y_mean\n",
    "\n",
    "    return integ\n",
    "\n",
    "print(f\"Monte Carlo solution: {mc_integrate(func1, -2, 2, 10000): .4f}\")\n",
    "print(f\"Analytical solution: {func1_int(-2, 2): .4f}\")"
   ]
  },
  {
   "cell_type": "markdown",
   "metadata": {},
   "source": [
    "## Multivariate"
   ]
  },
  {
   "cell_type": "code",
   "execution_count": 3,
   "metadata": {},
   "outputs": [
    {
     "name": "stdout",
     "output_type": "stream",
     "text": [
      "For f(x)= 10 - x1² - x2², integrated from -2 to 2 (for all x's)\n",
      "Monte Carlo solution for :  117.281\n",
      "Analytical solution: 117.333\n",
      "For f(x)= 10 - x1² - x2² - x3², integrated from -2 to 2 (for all x's)\n",
      "Monte Carlo solution:  384.010\n",
      "Analytical solution: 384.000\n"
     ]
    }
   ],
   "source": [
    "def func1(x):\n",
    "    # for 2D: f(x)= 10 - x1^2 - x2^2\n",
    "    return 10 + np.sum(-1 * np.power(x, 2), axis=1)\n",
    "\n",
    "def mc_integrate(func, a, b, dim, n = 1000):\n",
    "    # Monte Carlo integration of given function over domain from a to b (for each parameter)\n",
    "    # dim: dimensions of function\n",
    "    x_list = np.random.uniform(a, b, (n, dim))\n",
    "    y = func(x_list)\n",
    "\n",
    "    y_mean = np.mean(y)\n",
    "    domain = np.power(b-a, dim)\n",
    "    integ = domain * y_mean\n",
    "\n",
    "    return integ\n",
    "\n",
    "# Examples\n",
    "print(\"For f(x)= 10 - x1\\u00b2 - x2\\u00b2, integrated from -2 to 2 (for all x's)\")\n",
    "print(f\"Monte Carlo solution for : {mc_integrate(func1, -2, 2, 2, 10000): .3f}\")\n",
    "print(f\"Analytical solution: 117.333\")\n",
    "\n",
    "print(\"For f(x)= 10 - x1\\u00b2 - x2\\u00b2 - x3\\u00b2, integrated from -2 to 2 (for all x's)\")\n",
    "print(f\"Monte Carlo solution: {mc_integrate(func1, -2, 2, 3, 10000): .3f}\")\n",
    "print(f\"Analytical solution: 384.000\")"
   ]
  },
  {
   "cell_type": "markdown",
   "metadata": {},
   "source": [
    "## Resources\n",
    "\n",
    "* https://boyangzhao.github.io/posts/monte-carlo-integration"
   ]
  }
 ],
 "metadata": {
  "kernelspec": {
   "display_name": "sm",
   "language": "python",
   "name": "python3"
  },
  "language_info": {
   "codemirror_mode": {
    "name": "ipython",
    "version": 3
   },
   "file_extension": ".py",
   "mimetype": "text/x-python",
   "name": "python",
   "nbconvert_exporter": "python",
   "pygments_lexer": "ipython3",
   "version": "3.11.4"
  }
 },
 "nbformat": 4,
 "nbformat_minor": 2
}
