{
 "cells": [
  {
   "cell_type": "markdown",
   "metadata": {},
   "source": [
    "# MH-MCMC from scratch\n",
    "\n",
    "<img src='https://miro.medium.com/v2/resize:fit:1400/format:webp/0*U2dVDe-b3PZXgFo-.jpeg'>\n",
    "\n",
    "**<u>Bayesian analysis</u>** is a statistical framework that uses Bayes’ theorem to update beliefs about an event by building inferences from hypotheses, models, or quantities with regard to observed data. \n",
    "\n",
    "**Bayesian inference** is a component of Bayesian analysis that uses Bayes’ thereom to infer conclusions when presented with data, hypotheses, and prior knowledge.\n",
    "\n",
    "**Markov chain Monte Carlo** is a flavor of this MC where a new sample is generated within a probabilty distribution of the previous sample in the chain. MCMC is popular because it is a computationally tractable application of Bayesian inference."
   ]
  },
  {
   "cell_type": "code",
   "execution_count": null,
   "metadata": {},
   "outputs": [],
   "source": [
    "import numpy as np\n",
    "import pandas as pd"
   ]
  },
  {
   "cell_type": "code",
   "execution_count": null,
   "metadata": {},
   "outputs": [],
   "source": [
    "def mcmc_updater(curr_state, curr_likeli, likelihood, proposal_distribution):\n",
    "    \"\"\" Propose a new state and compare the likelihoods\n",
    "    \n",
    "    Args:\n",
    "        curr_state (float): the current parameter/state value\n",
    "        curr_likeli (float): the current likelihood estimate\n",
    "        likelihood (function): a function handle to compute the likelihood\n",
    "        proposal_distribution (function): a function handle to compute the \n",
    "          next proposal state\n",
    "\n",
    "    Returns:\n",
    "        (tuple): either the current state or the new state\n",
    "          and its corresponding likelihood\n",
    "    \"\"\"\n",
    "\n",
    "    # 1. Generate a proposal state using the proposal distribution\n",
    "    # Proposal state == new guess state to be compared to current\n",
    "    proposal_state = proposal_distribution(curr_state)\n",
    "\n",
    "    # Calculate the acceptance criterion\n",
    "    prop_likeli = likelihood(proposal_state)\n",
    "    accept_crit = prop_likeli / curr_likeli\n",
    "\n",
    "    # Generate a random number between 0 - 1\n",
    "    accept_threshold = np.random.uniform(0, 1)\n",
    "\n",
    "    # If the acceptance criterion is greater than the random number,\n",
    "    # accept the proposal state as the current state\n",
    "    if accept_crit > accept_threshold:\n",
    "        return proposal_state, prop_likeli\n",
    "    \n",
    "    # Else\n",
    "    return curr_state, curr_likeli"
   ]
  },
  {
   "cell_type": "markdown",
   "metadata": {},
   "source": [
    "## Resources\n",
    "\n",
    "* https://m-clark.github.io/docs/ld_mcmc/index_onepage.html"
   ]
  }
 ],
 "metadata": {
  "language_info": {
   "name": "python"
  }
 },
 "nbformat": 4,
 "nbformat_minor": 2
}
