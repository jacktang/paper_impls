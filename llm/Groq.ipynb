{
 "cells": [
  {
   "cell_type": "code",
   "execution_count": 5,
   "metadata": {},
   "outputs": [
    {
     "name": "stdout",
     "output_type": "stream",
     "text": [
      "**What is Bayesian Data Analysis?**\n",
      "\n",
      "Bayesian data analysis is a statistical approach that involves updating our understanding of a system or phenomenon based on new data. It's a way of quantifying uncertainty and making predictions using probability theory. In Bayesian analysis, we start with a prior belief about a parameter or hypothesis, and then update that belief based on new data.\n",
      "\n",
      "**A Simple Example: Coin Tossing**\n",
      "\n",
      "Imagine you have a coin that you think might be biased towards landing heads up. You want to estimate the probability that the coin lands heads up (θ). Let's say you have a prior belief that the coin is fair, so you think θ is around 0.5.\n",
      "\n",
      "**Prior Distribution**\n",
      "\n",
      "Your prior distribution represents your initial beliefs about the parameter θ. In this case, you might choose a beta distribution with α = 2 and β = 2, which is a weakly informative prior:\n",
      "\n",
      "Prior: θ ~ Beta(2, 2)\n",
      "\n",
      "This prior distribution says that you think θ is likely to be around 0.5, but you're not very confident.\n",
      "\n",
      "**Likelihood Function**\n",
      "\n",
      "Now, you collect some data by flipping the coin 10 times and getting 8 heads and 2 tails. You want to update your prior belief based on this new data. The likelihood function describes the probability of observing the data given the value of θ.\n",
      "\n",
      "Likelihood: P(Data | θ) = θ^8 \\* (1-θ)^2\n",
      "\n",
      "**Posterior Distribution**\n",
      "\n",
      "To update your prior belief, you multiply the prior distribution by the likelihood function and normalize the result to get the posterior distribution. In this case, you can calculate the posterior distribution using Bayes' theorem:\n",
      "\n",
      "Posterior: θ | Data ~ Beta(10, 4)\n",
      "\n",
      "The posterior distribution represents your updated belief about θ after observing the data. In this case, the posterior distribution is a beta distribution with α = 10 and β = 4, which is more concentrated around θ = 0.8.\n",
      "\n",
      "**Interpretation**\n",
      "\n",
      "Based on the posterior distribution, you can now make statements about the probability of the coin landing heads up. For example, you might want to calculate the posterior mean and standard deviation to get an idea of the central tendency and uncertainty of θ.\n",
      "\n",
      "Posterior Mean: E(θ | Data) ≈ 0.71\n",
      "Posterior Standard Deviation: SD(θ | Data) ≈ 0.13\n",
      "\n",
      "These results suggest that, after observing the data, you're more confident that the coin is biased towards landing heads up, and you've revised your estimate of θ upwards.\n",
      "\n",
      "**Key Takeaways**\n",
      "\n",
      "Bayesian data analysis involves:\n",
      "\n",
      "1. Specifying a prior distribution to represent initial beliefs\n",
      "2. Updating the prior distribution with new data using the likelihood function\n",
      "3. Calculating the posterior distribution to represent updated beliefs\n",
      "4. Interpreting the posterior distribution to make inferences about the parameter of interest\n",
      "\n",
      "This simple example illustrates the basic principles of Bayesian data analysis. In practice, Bayesian models can be much more complex and nuanced, but the underlying principles remain the same.\n"
     ]
    }
   ],
   "source": [
    "import os\n",
    "from groq import Groq\n",
    "\n",
    "client = Groq(\n",
    "    # This is the default and can be omitted\n",
    "    api_key= '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' #os.environ.get(\"GROQ_API_KEY\"),\n",
    ")\n",
    "\n",
    "chat_completion = client.chat.completions.create(\n",
    "    messages=[\n",
    "        {\n",
    "            \"role\": \"user\",\n",
    "            \"content\": \"Explain the bayesian data analysis with simple example\",\n",
    "        }\n",
    "    ],\n",
    "    model=\"llama3-70b-8192\",\n",
    ")\n",
    "print(chat_completion.choices[0].message.content)"
   ]
  },
  {
   "cell_type": "code",
   "execution_count": null,
   "metadata": {},
   "outputs": [],
   "source": [
    "from langchain_core.prompts import ChatPromptTemplate\n",
    "from langchain_groq import ChatGroq\n",
    "\n",
    "chat = ChatGroq(temperature=0, groq_api_key=\"YOUR_API_KEY\", model_name=\"mixtral-8x7b-32768\")\n",
    "\n",
    "system = \"You are a helpful assistant.\"\n",
    "human = \"{text}\"\n",
    "prompt = ChatPromptTemplate.from_messages([(\"system\", system), (\"human\", human)])\n",
    "\n",
    "chain = prompt | chat\n",
    "chain.invoke({\"text\": \"Explain the importance of low latency LLMs.\"})"
   ]
  }
 ],
 "metadata": {
  "kernelspec": {
   "display_name": "dev",
   "language": "python",
   "name": "python3"
  },
  "language_info": {
   "codemirror_mode": {
    "name": "ipython",
    "version": 3
   },
   "file_extension": ".py",
   "mimetype": "text/x-python",
   "name": "python",
   "nbconvert_exporter": "python",
   "pygments_lexer": "ipython3",
   "version": "3.11.7"
  }
 },
 "nbformat": 4,
 "nbformat_minor": 2
}
