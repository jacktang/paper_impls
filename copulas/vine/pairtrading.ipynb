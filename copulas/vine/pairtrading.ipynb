{
 "cells": [
  {
   "cell_type": "code",
   "execution_count": null,
   "metadata": {},
   "outputs": [],
   "source": []
  },
  {
   "cell_type": "markdown",
   "metadata": {},
   "source": [
    "## Resources\n",
    "\n",
    "* https://hudsonthames.org/copula-for-statistical-arbitrage-a-c-vine-copula-trading-strategy/\n",
    "* https://www.econstor.eu/bitstream/10419/147450/1/870932616.pdf\n",
    "* https://www.reddit.com/r/algotrading/comments/mrbrpp/a_practical_introduction_to_vine_copula_for/\n",
    "* https://www.youtube.com/watch?v=FB6tNgCZSbo"
   ]
  }
 ],
 "metadata": {
  "language_info": {
   "name": "python"
  }
 },
 "nbformat": 4,
 "nbformat_minor": 2
}
