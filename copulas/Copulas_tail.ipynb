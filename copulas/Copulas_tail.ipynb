{
 "cells": [
  {
   "cell_type": "code",
   "execution_count": null,
   "metadata": {},
   "outputs": [],
   "source": []
  },
  {
   "cell_type": "markdown",
   "metadata": {},
   "source": [
    "## Resources\n",
    "\n",
    "* https://github.com/maximenc/pycop\n",
    "* https://escholarship.org/content/qt07x6p3bk/qt07x6p3bk_noSplash_c6faf62d3de3c34d81607b2465a48c15.pdf?t=q8hduy\n",
    "* https://adamwierman.com/wp-content/uploads/2020/09/2013-SIGMETRICS-heavytails.pdf\n",
    "* https://www.skew-lognormal-cascade-distribution.org/\n",
    "* https://escholarship.org/content/qt07x6p3bk/qt07x6p3bk_noSplash_c6faf62d3de3c34d81607b2465a48c15.pdf?t=q8hduy\n",
    "* https://d-nb.info/1207627186/34"
   ]
  }
 ],
 "metadata": {
  "language_info": {
   "name": "python"
  }
 },
 "nbformat": 4,
 "nbformat_minor": 2
}
