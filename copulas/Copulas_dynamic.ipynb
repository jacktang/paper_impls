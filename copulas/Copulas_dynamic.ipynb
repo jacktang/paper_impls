{
 "cells": [
  {
   "cell_type": "markdown",
   "metadata": {},
   "source": [
    "# Copulas Time varying"
   ]
  },
  {
   "cell_type": "code",
   "execution_count": 8,
   "metadata": {},
   "outputs": [
    {
     "name": "stdout",
     "output_type": "stream",
     "text": [
      "tau= [nan]\n",
      "outs: [0.5] [0.6] [nan]\n",
      "ll: nan\n"
     ]
    },
    {
     "ename": "AssertionError",
     "evalue": "",
     "output_type": "error",
     "traceback": [
      "\u001b[0;31m---------------------------------------------------------------------------\u001b[0m",
      "\u001b[0;31mAssertionError\u001b[0m                            Traceback (most recent call last)",
      "\u001b[1;32m/home/dev/jack/paper_impls/basic/Copulas_dynamic.ipynb Cell 2\u001b[0m line \u001b[0;36m<cell line: 85>\u001b[0;34m()\u001b[0m\n\u001b[1;32m     <a href='vscode-notebook-cell://ssh-remote%2Bd1.ys/home/dev/jack/paper_impls/basic/Copulas_dynamic.ipynb#W0sdnNjb2RlLXJlbW90ZQ%3D%3D?line=81'>82</a>\u001b[0m     \u001b[39massert\u001b[39;00m np\u001b[39m.\u001b[39mmin(psi) \u001b[39m>\u001b[39m\u001b[39m=\u001b[39m \u001b[39m1\u001b[39m\n\u001b[1;32m     <a href='vscode-notebook-cell://ssh-remote%2Bd1.ys/home/dev/jack/paper_impls/basic/Copulas_dynamic.ipynb#W0sdnNjb2RlLXJlbW90ZQ%3D%3D?line=84'>85</a>\u001b[0m \u001b[39mif\u001b[39;00m \u001b[39m__name__\u001b[39m \u001b[39m==\u001b[39m \u001b[39m\"\u001b[39m\u001b[39m__main__\u001b[39m\u001b[39m\"\u001b[39m:\n\u001b[0;32m---> <a href='vscode-notebook-cell://ssh-remote%2Bd1.ys/home/dev/jack/paper_impls/basic/Copulas_dynamic.ipynb#W0sdnNjb2RlLXJlbW90ZQ%3D%3D?line=85'>86</a>\u001b[0m     test_gumbel_tv_logl()\n\u001b[1;32m     <a href='vscode-notebook-cell://ssh-remote%2Bd1.ys/home/dev/jack/paper_impls/basic/Copulas_dynamic.ipynb#W0sdnNjb2RlLXJlbW90ZQ%3D%3D?line=86'>87</a>\u001b[0m     test_gumbel_tv()\n",
      "\u001b[1;32m/home/dev/jack/paper_impls/basic/Copulas_dynamic.ipynb Cell 2\u001b[0m line \u001b[0;36mtest_gumbel_tv_logl\u001b[0;34m()\u001b[0m\n\u001b[1;32m     <a href='vscode-notebook-cell://ssh-remote%2Bd1.ys/home/dev/jack/paper_impls/basic/Copulas_dynamic.ipynb#W0sdnNjb2RlLXJlbW90ZQ%3D%3D?line=70'>71</a>\u001b[0m ll \u001b[39m=\u001b[39m gumbel_tv_logl(psi, data)\n\u001b[1;32m     <a href='vscode-notebook-cell://ssh-remote%2Bd1.ys/home/dev/jack/paper_impls/basic/Copulas_dynamic.ipynb#W0sdnNjb2RlLXJlbW90ZQ%3D%3D?line=71'>72</a>\u001b[0m \u001b[39mprint\u001b[39m(\u001b[39m\"\u001b[39m\u001b[39mll:\u001b[39m\u001b[39m\"\u001b[39m, ll)\n\u001b[0;32m---> <a href='vscode-notebook-cell://ssh-remote%2Bd1.ys/home/dev/jack/paper_impls/basic/Copulas_dynamic.ipynb#W0sdnNjb2RlLXJlbW90ZQ%3D%3D?line=72'>73</a>\u001b[0m \u001b[39massert\u001b[39;00m np\u001b[39m.\u001b[39misclose(ll, expected_ll, atol\u001b[39m=\u001b[39m\u001b[39m1e-6\u001b[39m)\n",
      "\u001b[0;31mAssertionError\u001b[0m: "
     ]
    }
   ],
   "source": [
    "import numpy as np\n",
    "from scipy.stats import kendalltau\n",
    "\n",
    "\n",
    "def gumbel_tv_logl(psi: np.ndarray, data: np.ndarray) -> float:\n",
    "    \"\"\"\n",
    "    Computes the negative log likelihood of a time varying Gumbel copula.\n",
    "\n",
    "    Parameters:\n",
    "    psi (np.ndarray): The time-varying copula parameters.\n",
    "    data (np.ndarray): The bivariate data.\n",
    "\n",
    "    Returns:\n",
    "    float: The negative log likelihood.\n",
    "    \"\"\"\n",
    "    u, v = data[:, 0], data[:, 1]\n",
    "    theta = gumbel_tv(psi, data)\n",
    "    tu = (-np.log(u)) ** theta\n",
    "    tv = (-np.log(v)) ** theta\n",
    "    out1 = np.exp(-(tu + tv) ** (1 / theta))\n",
    "    out2 = (u * v) ** (-1)\n",
    "    out3 = (tu + tv) ** (-2 + 2 / theta)\n",
    "    out4 = (np.log(u) * np.log(v)) ** (theta - 1)\n",
    "    out5 = 1 + (theta - 1) * (tu + tv) ** (-1 / theta)\n",
    "    out = out1 * out2 * out3 * out4 * out5\n",
    "    print(\"outs:\", u, v, theta)\n",
    "\n",
    "    ll = np.sum(np.log(out))\n",
    "    return -ll\n",
    "\n",
    "\n",
    "def gumbel_tv(theta: np.ndarray, data: np.ndarray) -> np.ndarray:\n",
    "    \"\"\"\n",
    "    Computes the time-varying copula dependence parameter.\n",
    "\n",
    "    Parameters:\n",
    "    theta (np.ndarray): The copula parameter vector.\n",
    "    data (np.ndarray): The bivariate data.\n",
    "\n",
    "    Returns:\n",
    "    np.ndarray: The time-varying copula dependence parameter.\n",
    "    \"\"\"\n",
    "    u, v = data[:, 0], data[:, 1]\n",
    "    t = data.shape[0]\n",
    "    tau = np.ones(t)\n",
    "    psi = np.zeros(t)\n",
    "    tau[0] = kendalltau(u, v)[0]\n",
    "\n",
    "    for i in range(1, t):\n",
    "        if i <= 10:\n",
    "            psi[i] = theta[0] + theta[1] * psi[i - 1] + theta[2] * np.mean(\n",
    "                np.abs(u[:i] - v[:i])\n",
    "            )\n",
    "        else:\n",
    "            psi[i] = theta[0] + theta[1] * psi[i - 1] + theta[2] * np.mean(\n",
    "                np.abs(u[i - 10 : i] - v[i - 10 : i])\n",
    "            )\n",
    "        tau[i] = 0.0001 + 0.75 / (1 + np.exp(-psi[i]))\n",
    "\n",
    "    print(\"tau=\",tau)\n",
    "    psi = 1 / (1 - tau)\n",
    "    return psi\n",
    "\n",
    "\n",
    "# Test cases\n",
    "def test_gumbel_tv_logl():\n",
    "    # Simple case with known parameters\n",
    "    psi = np.array([0.5])\n",
    "    data = np.array([[0.5, 0.6]])\n",
    "    expected_ll = -0.1653408\n",
    "    ll = gumbel_tv_logl(psi, data)\n",
    "    print(\"ll:\", ll)\n",
    "    assert np.isclose(ll, expected_ll, atol=1e-6)\n",
    "\n",
    "\n",
    "def test_gumbel_tv():\n",
    "    # Test with time-varying parameters\n",
    "    theta = np.array([0.5, 0.2, 0.1])\n",
    "    data = np.random.rand(100, 2)\n",
    "    psi = gumbel_tv(theta, data)\n",
    "    assert len(psi) == data.shape[0]\n",
    "    assert np.min(psi) >= 1\n",
    "\n",
    "\n",
    "if __name__ == \"__main__\":\n",
    "    test_gumbel_tv_logl()\n",
    "    test_gumbel_tv()"
   ]
  },
  {
   "cell_type": "markdown",
   "metadata": {},
   "source": [
    "# Resources\n",
    "\n",
    "* Here are some resources for further learning about dynamic copulas:\n",
    "\n",
    "Book: \"Dynamic Copulas for Finance\" by Valentin Braun\n",
    "Paper: \"Dynamic Copulas for Monotonic Dependence Change in Time Series\" by Changli He and Cheng Wang\n",
    "Paper: \"Dynamic Copula Models and High Frequency Data\" by Irving De Lira Salvatierra and Andrew J. Patton\n",
    "I hope this explanation of dynamic copulas is helpful. Please let me know if you have any further questions or would like me to elaborate on specific aspects of dynamic copulas and their applications in algorithmic trading.\n",
    "\n",
    "* [Dynamic copula models and high frequency data] https://public.econ.duke.edu/~ap172/De_Lira_Salvatierra_Patton_JEmpFin_2015.pdf\n",
    "* https://drawar.github.io/posts/dynamic-copula/\n",
    "* https://www.alexandria.unisg.ch/server/api/core/bitstreams/eb7a384f-ea98-47d0-a971-e6a21447fccc/content\n"
   ]
  }
 ],
 "metadata": {
  "kernelspec": {
   "display_name": "dev",
   "language": "python",
   "name": "python3"
  },
  "language_info": {
   "codemirror_mode": {
    "name": "ipython",
    "version": 3
   },
   "file_extension": ".py",
   "mimetype": "text/x-python",
   "name": "python",
   "nbconvert_exporter": "python",
   "pygments_lexer": "ipython3",
   "version": "3.10.6"
  }
 },
 "nbformat": 4,
 "nbformat_minor": 2
}
