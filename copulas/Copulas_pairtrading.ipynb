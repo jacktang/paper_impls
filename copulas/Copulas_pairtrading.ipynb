{
 "cells": [
  {
   "cell_type": "markdown",
   "metadata": {},
   "source": [
    "# Copulas Application: Pairs Trading"
   ]
  },
  {
   "cell_type": "code",
   "execution_count": null,
   "metadata": {},
   "outputs": [],
   "source": [
    "import pandas as pd\n",
    "import numpy as np\n",
    "import matplotlib.pyplot as plt\n",
    "from scipy import stats\n",
    "import seaborn as sns\n",
    "\n",
    "# set theme\n",
    "plt.style.use('seaborn')\n",
    "sns.set_style('darkgrid')"
   ]
  },
  {
   "cell_type": "markdown",
   "metadata": {},
   "source": [
    "## Select pairs"
   ]
  },
  {
   "cell_type": "code",
   "execution_count": null,
   "metadata": {},
   "outputs": [],
   "source": [
    "# The original data\n",
    "prices = pd.read_csv('data/vbr18_21.csv', index_col=0)\n",
    "prices = prices.dropna(axis=1)\n",
    "returns = np.log(prices).diff().dropna()"
   ]
  },
  {
   "cell_type": "code",
   "execution_count": null,
   "metadata": {},
   "outputs": [],
   "source": [
    "form_start = '2018-11-20'\n",
    "form_end = '2020-05-19'\n",
    "trade_start = '2021-05-20'\n",
    "trade_end = '2021-11-19'\n",
    "\n",
    "prices_form = prices[form_start:form_end]\n",
    "prices_trade = prices[trade_start:trade_end]\n",
    "returns_form = returns.loc[form_start:form_end]\n",
    "returns_trade = returns.loc[trade_start:trade_end]"
   ]
  },
  {
   "cell_type": "code",
   "execution_count": null,
   "metadata": {},
   "outputs": [],
   "source": []
  },
  {
   "cell_type": "markdown",
   "metadata": {},
   "source": [
    "## Trading strategy"
   ]
  },
  {
   "cell_type": "markdown",
   "metadata": {},
   "source": [
    "# \n",
    "* https://hudsonthames.org/copula-for-pairs-trading-introduction/\n",
    "* https://www.linkedin.com/pulse/copula-based-strategies-quantitative-trading-investing-/\n",
    "* https://www.quantconnect.com/research/15298/pairs-trading-copula-vs-cointegration/p1\n",
    "* https://www.researchgate.net/publication/318054326_Trading_strategies_with_copulas\n",
    "* https://hudsonthames.org/copula-for-pairs-trading-introduction/\n",
    "* https://hudsonthames.org/copula-for-pairs-trading-overview-of-common-strategies/"
   ]
  },
  {
   "cell_type": "markdown",
   "metadata": {},
   "source": [
    "Pair selection:\n",
    "\n",
    "* https://hudsonthames.org/employing-machine-learning-for-trading-pairs-selection/"
   ]
  }
 ],
 "metadata": {
  "language_info": {
   "name": "python"
  }
 },
 "nbformat": 4,
 "nbformat_minor": 2
}
