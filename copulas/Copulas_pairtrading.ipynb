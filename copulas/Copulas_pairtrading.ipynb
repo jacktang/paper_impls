{
 "cells": [
  {
   "cell_type": "markdown",
   "metadata": {},
   "source": [
    "# Copulas Application: Pairs Trading"
   ]
  },
  {
   "cell_type": "code",
   "execution_count": 1,
   "metadata": {},
   "outputs": [],
   "source": [
    "import pandas as pd\n",
    "import numpy as np\n",
    "import matplotlib.pyplot as plt\n",
    "from scipy import stats\n",
    "import seaborn as sns\n",
    "\n",
    "# set theme\n",
    "plt.style.use('seaborn')\n",
    "sns.set_style('darkgrid')"
   ]
  },
  {
   "cell_type": "markdown",
   "metadata": {},
   "source": [
    "## Select pairs"
   ]
  },
  {
   "cell_type": "code",
   "execution_count": 4,
   "metadata": {},
   "outputs": [],
   "source": [
    "# The original data\n",
    "prices = pd.read_csv('../data/vbr18_21.csv', index_col=0)\n",
    "prices = prices.dropna(axis=1)\n",
    "returns = np.log(prices).diff().dropna()"
   ]
  },
  {
   "cell_type": "code",
   "execution_count": 5,
   "metadata": {},
   "outputs": [],
   "source": [
    "form_start = '2018-11-20'\n",
    "form_end = '2020-05-19'\n",
    "trade_start = '2021-05-20'\n",
    "trade_end = '2021-11-19'\n",
    "\n",
    "prices_form = prices[form_start:form_end]\n",
    "prices_trade = prices[trade_start:trade_end]\n",
    "returns_form = returns.loc[form_start:form_end]\n",
    "returns_trade = returns.loc[trade_start:trade_end]"
   ]
  },
  {
   "cell_type": "code",
   "execution_count": 6,
   "metadata": {},
   "outputs": [],
   "source": [
    "# Calculate Kendall's tau for each pair of stocks\n",
    "results = pd.DataFrame(columns=['tau'])\n",
    "\n",
    "for s1 in returns_form.columns:\n",
    "    for s2 in returns_form.columns:\n",
    "        if (s1!=s2) and (f'{s2}-{s1}' not in results.index):\n",
    "            results.loc[f'{s1}-{s2}'] = stats.kendalltau(returns_form[s1], returns_form[s2])[0]"
   ]
  },
  {
   "cell_type": "code",
   "execution_count": 7,
   "metadata": {},
   "outputs": [],
   "source": [
    "results.to_csv('pairs_tau.csv')"
   ]
  },
  {
   "cell_type": "code",
   "execution_count": 8,
   "metadata": {},
   "outputs": [
    {
     "data": {
      "text/html": [
       "<div>\n",
       "<style scoped>\n",
       "    .dataframe tbody tr th:only-of-type {\n",
       "        vertical-align: middle;\n",
       "    }\n",
       "\n",
       "    .dataframe tbody tr th {\n",
       "        vertical-align: top;\n",
       "    }\n",
       "\n",
       "    .dataframe thead th {\n",
       "        text-align: right;\n",
       "    }\n",
       "</style>\n",
       "<table border=\"1\" class=\"dataframe\">\n",
       "  <thead>\n",
       "    <tr style=\"text-align: right;\">\n",
       "      <th></th>\n",
       "      <th>tau</th>\n",
       "    </tr>\n",
       "  </thead>\n",
       "  <tbody>\n",
       "    <tr>\n",
       "      <th>WTRG-SWN</th>\n",
       "      <td>-0.054499</td>\n",
       "    </tr>\n",
       "    <tr>\n",
       "      <th>FLO-SWN</th>\n",
       "      <td>-0.050804</td>\n",
       "    </tr>\n",
       "    <tr>\n",
       "      <th>OVV-FLO</th>\n",
       "      <td>-0.045919</td>\n",
       "    </tr>\n",
       "    <tr>\n",
       "      <th>FLO-AR</th>\n",
       "      <td>-0.045274</td>\n",
       "    </tr>\n",
       "    <tr>\n",
       "      <th>BGS-WK</th>\n",
       "      <td>-0.041691</td>\n",
       "    </tr>\n",
       "    <tr>\n",
       "      <th>...</th>\n",
       "      <td>...</td>\n",
       "    </tr>\n",
       "    <tr>\n",
       "      <th>HOMB-CATY</th>\n",
       "      <td>0.725432</td>\n",
       "    </tr>\n",
       "    <tr>\n",
       "      <th>CFR-ASB</th>\n",
       "      <td>0.729228</td>\n",
       "    </tr>\n",
       "    <tr>\n",
       "      <th>CFR-BOKF</th>\n",
       "      <td>0.731751</td>\n",
       "    </tr>\n",
       "    <tr>\n",
       "      <th>MTG-RDN</th>\n",
       "      <td>0.738985</td>\n",
       "    </tr>\n",
       "    <tr>\n",
       "      <th>CENTA-CENT</th>\n",
       "      <td>0.834718</td>\n",
       "    </tr>\n",
       "  </tbody>\n",
       "</table>\n",
       "<p>256686 rows × 1 columns</p>\n",
       "</div>"
      ],
      "text/plain": [
       "                 tau\n",
       "WTRG-SWN   -0.054499\n",
       "FLO-SWN    -0.050804\n",
       "OVV-FLO    -0.045919\n",
       "FLO-AR     -0.045274\n",
       "BGS-WK     -0.041691\n",
       "...              ...\n",
       "HOMB-CATY   0.725432\n",
       "CFR-ASB     0.729228\n",
       "CFR-BOKF    0.731751\n",
       "MTG-RDN     0.738985\n",
       "CENTA-CENT  0.834718\n",
       "\n",
       "[256686 rows x 1 columns]"
      ]
     },
     "execution_count": 8,
     "metadata": {},
     "output_type": "execute_result"
    }
   ],
   "source": [
    "results.sort_values(by='tau')"
   ]
  },
  {
   "cell_type": "code",
   "execution_count": 9,
   "metadata": {},
   "outputs": [],
   "source": [
    "def parse_pair(pair):\n",
    "    s1 = pair[:pair.find('-')]\n",
    "    s2 = pair[pair.find('-')+1:]\n",
    "    return s1,s2\n",
    "\n",
    "selected_stocks = []\n",
    "selected_pairs = []\n",
    "\n",
    "for pair in results.sort_values(by='tau', ascending=False).index:\n",
    "    s1,s2 = parse_pair(pair)\n",
    "    if (s1 not in selected_stocks) and (s2 not in selected_stocks):\n",
    "        selected_stocks.append(s1)\n",
    "        selected_stocks.append(s2)\n",
    "        selected_pairs.append(pair)\n",
    "    \n",
    "    if len(selected_pairs) == 25:\n",
    "        break"
   ]
  },
  {
   "cell_type": "code",
   "execution_count": 10,
   "metadata": {},
   "outputs": [
    {
     "data": {
      "text/plain": [
       "['CENTA-CENT',\n",
       " 'MTG-RDN',\n",
       " 'CFR-BOKF',\n",
       " 'HOMB-CATY',\n",
       " 'CMA-ZION',\n",
       " 'EWBC-ASB',\n",
       " 'UMBF-FULT',\n",
       " 'TDS-USM',\n",
       " 'KIM-BRX',\n",
       " 'PACW-FNB',\n",
       " 'NBTB-STBA',\n",
       " 'VOYA-LNC',\n",
       " 'VLY-HOPE',\n",
       " 'ONB-FFBC',\n",
       " 'COLB-FCF',\n",
       " 'ROIC-AKR',\n",
       " 'UBSI-TRMK',\n",
       " 'FRME-HTLF',\n",
       " 'WAL-UMPQ',\n",
       " 'STL-HWC',\n",
       " 'FR-EGP',\n",
       " 'GBCI-FIBK',\n",
       " 'PBCT-WBS',\n",
       " 'AWR-CWT',\n",
       " 'AUB-TOWN']"
      ]
     },
     "execution_count": 10,
     "metadata": {},
     "output_type": "execute_result"
    }
   ],
   "source": [
    "selected_pairs"
   ]
  },
  {
   "cell_type": "markdown",
   "metadata": {},
   "source": [
    "### The Marginals"
   ]
  },
  {
   "cell_type": "code",
   "execution_count": 11,
   "metadata": {},
   "outputs": [],
   "source": [
    "marginals_df = pd.DataFrame(index=selected_stocks, columns=['Distribution', 'AIC', 'BIC', 'KS_pvalue'])\n",
    "\n",
    "for stock in selected_stocks:\n",
    "    data = returns_form[stock]\n",
    "    dists = ['Normal', \"Student's t\", 'Logistic', 'Extreme']\n",
    "    best_aic = np.inf\n",
    "    for dist,name in zip([stats.norm, stats.t, stats.genlogistic, stats.genextreme], dists):\n",
    "        params = dist.fit(data)\n",
    "        dist_fit = dist(*params)\n",
    "        log_like = np.log(dist_fit.pdf(data)).sum()\n",
    "        aic = 2*len(params) - 2 * log_like\n",
    "        if aic < best_aic:\n",
    "            best_dist = name\n",
    "            best_aic = aic\n",
    "            best_bic = len(params) * np.log(len(data)) - 2 * log_like\n",
    "            ks_pval = stats.kstest(data, dist_fit.cdf, N=100)[1]\n",
    "    marginals_df.loc[stock] = [best_dist, best_aic, best_bic, ks_pval]"
   ]
  },
  {
   "cell_type": "code",
   "execution_count": 12,
   "metadata": {},
   "outputs": [
    {
     "data": {
      "text/html": [
       "<div>\n",
       "<style scoped>\n",
       "    .dataframe tbody tr th:only-of-type {\n",
       "        vertical-align: middle;\n",
       "    }\n",
       "\n",
       "    .dataframe tbody tr th {\n",
       "        vertical-align: top;\n",
       "    }\n",
       "\n",
       "    .dataframe thead th {\n",
       "        text-align: right;\n",
       "    }\n",
       "</style>\n",
       "<table border=\"1\" class=\"dataframe\">\n",
       "  <thead>\n",
       "    <tr style=\"text-align: right;\">\n",
       "      <th></th>\n",
       "      <th>Distribution</th>\n",
       "      <th>AIC</th>\n",
       "      <th>BIC</th>\n",
       "      <th>KS_pvalue</th>\n",
       "    </tr>\n",
       "  </thead>\n",
       "  <tbody>\n",
       "    <tr>\n",
       "      <th>CENTA</th>\n",
       "      <td>Student's t</td>\n",
       "      <td>-1766.721394</td>\n",
       "      <td>-1754.948627</td>\n",
       "      <td>0.501764</td>\n",
       "    </tr>\n",
       "    <tr>\n",
       "      <th>CENT</th>\n",
       "      <td>Student's t</td>\n",
       "      <td>-1776.277334</td>\n",
       "      <td>-1764.504567</td>\n",
       "      <td>0.788573</td>\n",
       "    </tr>\n",
       "    <tr>\n",
       "      <th>MTG</th>\n",
       "      <td>Student's t</td>\n",
       "      <td>-1705.88267</td>\n",
       "      <td>-1694.109902</td>\n",
       "      <td>0.648663</td>\n",
       "    </tr>\n",
       "    <tr>\n",
       "      <th>RDN</th>\n",
       "      <td>Student's t</td>\n",
       "      <td>-1721.424509</td>\n",
       "      <td>-1709.651741</td>\n",
       "      <td>0.739781</td>\n",
       "    </tr>\n",
       "    <tr>\n",
       "      <th>CFR</th>\n",
       "      <td>Student's t</td>\n",
       "      <td>-1733.045019</td>\n",
       "      <td>-1721.272252</td>\n",
       "      <td>0.864011</td>\n",
       "    </tr>\n",
       "    <tr>\n",
       "      <th>BOKF</th>\n",
       "      <td>Student's t</td>\n",
       "      <td>-1749.361441</td>\n",
       "      <td>-1737.588673</td>\n",
       "      <td>0.871464</td>\n",
       "    </tr>\n",
       "    <tr>\n",
       "      <th>HOMB</th>\n",
       "      <td>Student's t</td>\n",
       "      <td>-1659.902646</td>\n",
       "      <td>-1648.129878</td>\n",
       "      <td>0.957393</td>\n",
       "    </tr>\n",
       "    <tr>\n",
       "      <th>CATY</th>\n",
       "      <td>Student's t</td>\n",
       "      <td>-1783.08619</td>\n",
       "      <td>-1771.313422</td>\n",
       "      <td>0.990013</td>\n",
       "    </tr>\n",
       "    <tr>\n",
       "      <th>CMA</th>\n",
       "      <td>Student's t</td>\n",
       "      <td>-1650.420255</td>\n",
       "      <td>-1638.647488</td>\n",
       "      <td>0.421582</td>\n",
       "    </tr>\n",
       "    <tr>\n",
       "      <th>ZION</th>\n",
       "      <td>Student's t</td>\n",
       "      <td>-1799.031782</td>\n",
       "      <td>-1787.259015</td>\n",
       "      <td>0.494674</td>\n",
       "    </tr>\n",
       "  </tbody>\n",
       "</table>\n",
       "</div>"
      ],
      "text/plain": [
       "      Distribution          AIC          BIC KS_pvalue\n",
       "CENTA  Student's t -1766.721394 -1754.948627  0.501764\n",
       "CENT   Student's t -1776.277334 -1764.504567  0.788573\n",
       "MTG    Student's t  -1705.88267 -1694.109902  0.648663\n",
       "RDN    Student's t -1721.424509 -1709.651741  0.739781\n",
       "CFR    Student's t -1733.045019 -1721.272252  0.864011\n",
       "BOKF   Student's t -1749.361441 -1737.588673  0.871464\n",
       "HOMB   Student's t -1659.902646 -1648.129878  0.957393\n",
       "CATY   Student's t  -1783.08619 -1771.313422  0.990013\n",
       "CMA    Student's t -1650.420255 -1638.647488  0.421582\n",
       "ZION   Student's t -1799.031782 -1787.259015  0.494674"
      ]
     },
     "execution_count": 12,
     "metadata": {},
     "output_type": "execute_result"
    }
   ],
   "source": [
    "marginals_df.head(10)"
   ]
  },
  {
   "cell_type": "code",
   "execution_count": 13,
   "metadata": {},
   "outputs": [
    {
     "data": {
      "text/plain": [
       "array([\"Student's t\"], dtype=object)"
      ]
     },
     "execution_count": 13,
     "metadata": {},
     "output_type": "execute_result"
    }
   ],
   "source": [
    "marginals_df['Distribution'].unique()"
   ]
  },
  {
   "cell_type": "code",
   "execution_count": null,
   "metadata": {},
   "outputs": [],
   "source": [
    "marginals_df[marginals_df['KS_pvalue'] < 0.05]"
   ]
  },
  {
   "cell_type": "markdown",
   "metadata": {},
   "source": [
    "### The copulas"
   ]
  },
  {
   "cell_type": "code",
   "execution_count": 27,
   "metadata": {},
   "outputs": [],
   "source": [
    "from my_copulas import *\n",
    "import ndtest # bivariate Kolmogorov-Smirnov"
   ]
  },
  {
   "cell_type": "code",
   "execution_count": 35,
   "metadata": {},
   "outputs": [
    {
     "name": "stderr",
     "output_type": "stream",
     "text": [
      "/srv/Codes/jack/paper_impls/copulas/my_copulas.py:28: RuntimeWarning: invalid value encountered in log\n",
      "  return np.log(self.pdf(u,v)).sum()\n"
     ]
    }
   ],
   "source": [
    "copulas_df = pd.DataFrame(index=selected_pairs, columns=['copula', 'parameter', 'aic', 'bic', 'KS_pvalue'])\n",
    "\n",
    "for pair in selected_pairs:\n",
    "    s1,s2 = parse_pair(pair)\n",
    "    # fit marginals\n",
    "    params_s1 = stats.t.fit(returns_form[s1])\n",
    "    dist_s1 = stats.t(*params_s1)\n",
    "    params_s2 = stats.t.fit(returns_form[s2])\n",
    "    dist_s2 = stats.t(*params_s2)\n",
    "    # apply probability integral transform\n",
    "    u = dist_s1.cdf(returns_form[s1])\n",
    "    v = dist_s2.cdf(returns_form[s2])\n",
    "    \n",
    "    # print(f\"shape u={u.shape}, v={v.shape}\")\n",
    "    best_aic = np.inf\n",
    "    \n",
    "    for copula in [GaussianCopula(), ClaytonCopula(), GumbelCopula(), FrankCopula(),  JoeCopula()]:\n",
    "        copula.fit(u,v)\n",
    "        L = copula.log_likelihood(u,v)\n",
    "        aic = 2 * copula.num_params - 2 * L\n",
    "        if aic < best_aic:\n",
    "            best_aic = aic\n",
    "            best_bic = copula.num_params * np.log(len(u)) - 2 * L\n",
    "            best_copula = copula.name\n",
    "            \n",
    "            # calculate KS-pvalue\n",
    "            smp = copula.sample(size=len(u)) # generate sample from fit copula\n",
    "            s_u = smp[:,0]\n",
    "            s_v = smp[:,1]\n",
    "            ks_pval = ndtest.ks2d2s(u,v,s_u,s_v)\n",
    "            \n",
    "            if isinstance(copula, ArchimedeanCopula):\n",
    "                best_param = copula.alpha\n",
    "            else:\n",
    "                best_param = copula.rho\n",
    "            \n",
    "    copulas_df.loc[pair] = [best_copula, best_param, best_aic, best_bic, ks_pval]"
   ]
  },
  {
   "cell_type": "markdown",
   "metadata": {},
   "source": [
    "## Baseline"
   ]
  },
  {
   "cell_type": "code",
   "execution_count": 31,
   "metadata": {},
   "outputs": [
    {
     "name": "stdout",
     "output_type": "stream",
     "text": [
      "[*********************100%***********************]  1 of 1 completed\n"
     ]
    }
   ],
   "source": [
    "import yfinance as yf\n",
    "vbr_price = yf.download('VBR', start=trade_start, end=trade_end, proxy=\"http://10.0.5.8:30890\")\n",
    "vbr_price = vbr_price['Adj Close']\n",
    "vbr_ret = vbr_price.pct_change().dropna()\n"
   ]
  },
  {
   "cell_type": "code",
   "execution_count": 32,
   "metadata": {},
   "outputs": [
    {
     "data": {
      "text/plain": [
       "<matplotlib.legend.Legend at 0x7f90667f2020>"
      ]
     },
     "execution_count": 32,
     "metadata": {},
     "output_type": "execute_result"
    },
    {
     "data": {
      "image/png": "[encoded data removed]",
      "text/plain": [
       "<Figure size 1296x432 with 1 Axes>"
      ]
     },
     "metadata": {
      "needs_background": "light"
     },
     "output_type": "display_data"
    }
   ],
   "source": [
    "plt.figure(figsize=(18,6))\n",
    "plt.plot(np.nancumprod(vbr_ret + 1), label='VBR')\n",
    "plt.legend()"
   ]
  },
  {
   "cell_type": "markdown",
   "metadata": {},
   "source": [
    "## Trading strategy"
   ]
  },
  {
   "cell_type": "code",
   "execution_count": 30,
   "metadata": {},
   "outputs": [
    {
     "name": "stderr",
     "output_type": "stream",
     "text": [
      "/srv/Codes/jack/paper_impls/copulas/my_copulas.py:28: RuntimeWarning: invalid value encountered in log\n",
      "  return np.log(self.pdf(u,v)).sum()\n",
      "/srv/Codes/jack/paper_impls/copulas/my_copulas.py:28: RuntimeWarning: invalid value encountered in log\n",
      "  return np.log(self.pdf(u,v)).sum()\n",
      "/srv/Codes/jack/paper_impls/copulas/my_copulas.py:28: RuntimeWarning: invalid value encountered in log\n",
      "  return np.log(self.pdf(u,v)).sum()\n",
      "/srv/Codes/jack/paper_impls/copulas/my_copulas.py:28: RuntimeWarning: invalid value encountered in log\n",
      "  return np.log(self.pdf(u,v)).sum()\n",
      "/srv/Codes/jack/paper_impls/copulas/my_copulas.py:28: RuntimeWarning: invalid value encountered in log\n",
      "  return np.log(self.pdf(u,v)).sum()\n"
     ]
    }
   ],
   "source": [
    "algo_returns = {}\n",
    "cl = 0.99 # confidence level\n",
    "\n",
    "for pair in selected_pairs:\n",
    "    s1,s2 = parse_pair(pair)\n",
    "\n",
    "    # fit marginals\n",
    "    params_s1 = stats.t.fit(returns_form[s1])\n",
    "    dist_s1 = stats.t(*params_s1)\n",
    "    params_s2 = stats.t.fit(returns_form[s2])\n",
    "    dist_s2 = stats.t(*params_s2)\n",
    "\n",
    "    # transform marginals\n",
    "    u = dist_s1.cdf(returns_form[s1])\n",
    "    v = dist_s2.cdf(returns_form[s2])\n",
    "        \n",
    "    # fit copula\n",
    "    best_aic = np.inf\n",
    "    best_copula = None\n",
    "\n",
    "    copulas = [GaussianCopula(), ClaytonCopula(), GumbelCopula(), FrankCopula(), JoeCopula()]\n",
    "    for copula in copulas:\n",
    "        copula.fit(u,v)\n",
    "        L = copula.log_likelihood(u,v)\n",
    "        aic = 2 * copula.num_params - 2 * L\n",
    "        if aic < best_aic:\n",
    "            best_aic = aic\n",
    "            best_copula = copula\n",
    "            \n",
    "    # calculate conditional probabilities\n",
    "    prob_s1 = []\n",
    "    prob_s2 = []\n",
    "\n",
    "    for u,v in zip(dist_s1.cdf(returns_trade[s1]), dist_s2.cdf(returns_trade[s2])):\n",
    "        prob_s1.append(best_copula.cdf_u_given_v(u,v))\n",
    "        prob_s2.append(best_copula.cdf_v_given_u(u,v))\n",
    "        \n",
    "    probs_trade = pd.DataFrame(np.vstack([prob_s1, prob_s2]).T, index=returns_trade.index, columns=[s1, s2])\n",
    "    \n",
    "    # calculate positions\n",
    "    positions = pd.DataFrame(index=probs_trade.index, columns=probs_trade.columns)\n",
    "    long = False\n",
    "    short = False\n",
    "\n",
    "    for t in positions.index:    \n",
    "        # if long position is open\n",
    "        if long:\n",
    "            if (probs_trade.loc[t][s1] > 0.5) or (probs_trade.loc[t][s2] < 0.5):\n",
    "                positions.loc[t] = [0,0]\n",
    "                long = False\n",
    "            else:\n",
    "                positions.loc[t] = [1,-1]\n",
    "\n",
    "        # if short position is open\n",
    "        elif short:\n",
    "            if (probs_trade.loc[t][s1] < 0.5) or (probs_trade.loc[t][s2] > 0.5):\n",
    "                positions.loc[t] = [0,0]\n",
    "                short = False\n",
    "            else:\n",
    "                positions.loc[t] = [-1,1]\n",
    "\n",
    "        # if no positions are open\n",
    "        else:\n",
    "            if (probs_trade.loc[t][s1] < (1-cl)) and (probs_trade.loc[t][s2] > cl):\n",
    "                # open long position\n",
    "                positions.loc[t] = [1,-1]\n",
    "                long = True\n",
    "            elif (probs_trade.loc[t][s1] > cl) and (probs_trade.loc[t][s2] < (1-cl)):\n",
    "                # open short positions\n",
    "                positions.loc[t] = [-1,1]\n",
    "                short = True\n",
    "            else:\n",
    "                positions.loc[t] = [0,0]\n",
    "                \n",
    "    # calculate returns\n",
    "    algo_ret = (returns_trade * positions.shift()).sum(axis=1)\n",
    "    algo_returns[pair] = algo_ret"
   ]
  },
  {
   "cell_type": "code",
   "execution_count": 33,
   "metadata": {},
   "outputs": [],
   "source": [
    "returns = pd.DataFrame.from_dict(algo_returns)\n",
    "returns = np.exp(returns) - 1 # convert log-returns to simple returns\n",
    "total_ret = returns.sum(axis=1) / len(returns.columns) * 2 # double capital (from short positions)"
   ]
  },
  {
   "cell_type": "code",
   "execution_count": 34,
   "metadata": {},
   "outputs": [
    {
     "data": {
      "text/plain": [
       "<matplotlib.legend.Legend at 0x7f904ed6d480>"
      ]
     },
     "execution_count": 34,
     "metadata": {},
     "output_type": "execute_result"
    },
    {
     "data": {
      "image/png": "[encoded data removed]",
      "text/plain": [
       "<Figure size 1296x432 with 1 Axes>"
      ]
     },
     "metadata": {
      "needs_background": "light"
     },
     "output_type": "display_data"
    }
   ],
   "source": [
    "plt.figure(figsize=(18,6))\n",
    "plt.plot(np.nancumprod(total_ret + 1), label='algo')\n",
    "plt.plot(np.nancumprod(vbr_ret + 1), label='VBR')\n",
    "plt.legend()"
   ]
  },
  {
   "cell_type": "markdown",
   "metadata": {},
   "source": [
    "## Trading Analysis"
   ]
  },
  {
   "cell_type": "markdown",
   "metadata": {},
   "source": [
    "## Resources\n",
    "\n",
    "* https://hudsonthames.org/copula-for-pairs-trading-introduction/\n",
    "* https://www.linkedin.com/pulse/copula-based-strategies-quantitative-trading-investing-/\n",
    "* https://www.quantconnect.com/research/15298/pairs-trading-copula-vs-cointegration/p1\n",
    "* https://www.researchgate.net/publication/318054326_Trading_strategies_with_copulas\n",
    "* https://hudsonthames.org/copula-for-pairs-trading-introduction/\n",
    "* https://hudsonthames.org/copula-for-pairs-trading-overview-of-common-strategies/"
   ]
  },
  {
   "cell_type": "markdown",
   "metadata": {},
   "source": [
    "Pair selection:\n",
    "\n",
    "* https://hudsonthames.org/employing-machine-learning-for-trading-pairs-selection/"
   ]
  }
 ],
 "metadata": {
  "kernelspec": {
   "display_name": "dev",
   "language": "python",
   "name": "python3"
  },
  "language_info": {
   "codemirror_mode": {
    "name": "ipython",
    "version": 3
   },
   "file_extension": ".py",
   "mimetype": "text/x-python",
   "name": "python",
   "nbconvert_exporter": "python",
   "pygments_lexer": "ipython3",
   "version": "3.10.6"
  }
 },
 "nbformat": 4,
 "nbformat_minor": 2
}
