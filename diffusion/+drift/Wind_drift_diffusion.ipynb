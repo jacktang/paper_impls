{
 "cells": [
  {
   "cell_type": "markdown",
   "metadata": {},
   "source": [
    "# Wind diffusion and drift\n",
    "\n",
    "China map: https://emissions.aeronomie.be/index.php/omi-based/anthropogenic"
   ]
  },
  {
   "cell_type": "code",
   "execution_count": null,
   "metadata": {},
   "outputs": [],
   "source": [
    "from opendrift.readers import reader_netCDF_CF_generic\n",
    "from opendrift.models.windblow import WindBlow"
   ]
  },
  {
   "cell_type": "markdown",
   "metadata": {},
   "source": [
    "## Forward"
   ]
  },
  {
   "cell_type": "code",
   "execution_count": null,
   "metadata": {},
   "outputs": [],
   "source": [
    "o = WindBlow(loglevel=20)  # Set loglevel to 0 for debug information\n",
    "# print(o)\n",
    "\n",
    "#reader_arome = reader_netCDF_CF_generic.Reader('https://thredds.met.no/thredds/dodsC/mepslatest/meps_lagged_6_h_latest_2_5km_latest.nc')\n",
    "reader_arome = reader_netCDF_CF_generic.Reader(o.test_data_folder() +\n",
    "    '2Feb2016_Nordic_sigma_3d/AROME_MetCoOp_00_DEF_20160202_subset.nc')\n",
    "\n",
    "o.add_reader([reader_arome])"
   ]
  },
  {
   "cell_type": "code",
   "execution_count": null,
   "metadata": {},
   "outputs": [],
   "source": [
    "lat = 68.5; lon = 16.0  # Lofoten\n",
    "o.seed_elements(lon, lat, radius=5000, number=1000,\n",
    "                time=reader_arome.start_time)\n",
    "o.run(steps=48*4, time_step=900, time_step_output=3600)"
   ]
  },
  {
   "cell_type": "code",
   "execution_count": null,
   "metadata": {},
   "outputs": [],
   "source": [
    "print(o)\n",
    "o.animation(ocean_color='skyblue', land_color='burlywood')"
   ]
  },
  {
   "cell_type": "code",
   "execution_count": null,
   "metadata": {},
   "outputs": [],
   "source": [
    "o.plot(buffer=.5, ocean_color='skyblue', land_color='burlywood')"
   ]
  },
  {
   "cell_type": "markdown",
   "metadata": {},
   "source": [
    "## Backwards\n",
    "\n",
    "1. backwards simulation from position where object is found (‘Observation’) \n",
    "2. forwards simulation from a uniform grid of possible initial locations, selecting the origins of particles actually hitting the observed target"
   ]
  },
  {
   "cell_type": "code",
   "execution_count": null,
   "metadata": {},
   "outputs": [],
   "source": [
    "o = Leeway(loglevel=50)\n",
    "reader_arome = reader_netCDF_CF_generic.Reader(o.test_data_folder() +\n",
    "    '16Nov2015_NorKyst_z_surface/arome_subset_16Nov2015.nc')\n",
    "# reader_norkyst = reader_netCDF_CF_generic.Reader(o.test_data_folder() +\n",
    "#     '16Nov2015_NorKyst_z_surface/norkyst800_subset_16Nov2015.nc')\n",
    "o.add_reader([ #reader_norkyst, \n",
    "              reader_arome])\n",
    "\n",
    "duration = timedelta(hours=24)\n",
    "# start_time = reader_norkyst.start_time\n",
    "start_time = reader_arome.start_time\n",
    "end_time = start_time + duration\n",
    "\n",
    "object_type = 26  # 26 = Life-raft, no ballast\n",
    "outfile = 'leeway.nc'\n",
    "ilon = 4.3  # Incident position\n",
    "ilat = 60.6\n",
    "text = [{'s': 'Observation', 'x': ilon, 'y': ilat, 'fontsize': 20, 'color': 'g', 'zorder': 1000}]\n",
    "\n",
    "# Define domain of possible origin\n",
    "lons = np.arange(3.4, 5, .1/20)\n",
    "lats = np.arange(59.7, 60.8, .05/20)\n",
    "corners = [lons[0], lons[-1], lats[0], lats[-1]]\n",
    "lons, lats = np.meshgrid(lons, lats)"
   ]
  },
  {
   "cell_type": "markdown",
   "metadata": {},
   "source": [
    "### Method-1: backward 24-hour"
   ]
  },
  {
   "cell_type": "code",
   "execution_count": null,
   "metadata": {},
   "outputs": [],
   "source": [
    "o.seed_elements(lon=ilon, lat=ilat, radius=5000, radius_type='uniform', number=30000,\n",
    "                 time=end_time, object_type=object_type)\n",
    "o.run(duration=duration, time_step=-900, time_step_output=3600, outfile=outfile)\n",
    "od = opendrift.open_xarray(outfile)\n",
    "density_backwards = od.get_histogram(pixelsize_m=5000).isel(time=-1).isel(origin_marker=0)\n",
    "density_backwards = density_backwards.where(density_backwards>0)\n",
    "density_backwards = density_backwards/density_backwards.sum()*100\n",
    "vmax = density_backwards.max()\n",
    "o.plot(background=density_backwards, clabel='Probability of origin [%]', text=text, corners=corners, fast=True, markersize=.5, lalpha=.02, vmin=0, vmax=vmax)\n",
    "os.remove(outfile)"
   ]
  },
  {
   "cell_type": "markdown",
   "metadata": {},
   "source": [
    "### Method-2: forward and hit\n",
    "\n",
    "1. starting at a uniform grid 24 hours earlier (440 x 320 = 140800 elements at ~500m separation)\n",
    "2. Finding the elements actually hitting the target (within 5 km) after 24 hours:"
   ]
  },
  {
   "cell_type": "code",
   "execution_count": null,
   "metadata": {},
   "outputs": [],
   "source": [
    "o = Leeway(loglevel=50)\n",
    "# o.add_reader([reader_norkyst, reader_arome])\n",
    "o.add_reader([reader_arome])\n",
    "o.seed_elements(lon=lons, lat=lats, radius=0,\n",
    "                 time=start_time, object_type=object_type)\n",
    "o.run(duration=duration, time_step=900, time_step_output=3600, outfile=outfile)\n",
    "print(o)"
   ]
  },
  {
   "cell_type": "code",
   "execution_count": null,
   "metadata": {},
   "outputs": [],
   "source": [
    "lon, lat = o.get_lonlats()\n",
    "lonend = lon[:, -1]\n",
    "latend = lat[:, -1]\n",
    "geod = pyproj.Geod(ellps='WGS84')\n",
    "on = np.ones(lonend.shape)\n",
    "dummy1, dummy2, dist2incident = geod.inv(lonend, latend, ilon*on, ilat*on)\n",
    "hits = np.where(dist2incident<5000)[0]\n",
    "hit_start_lons = lon[hits, 0]\n",
    "hit_start_lats = lat[hits, 0]\n",
    "o_hit = opendrift.open(outfile, elements=hits)\n",
    "\n",
    "o.animation(compare=o_hit, legend=['Elements not hitting target', 'Elements hitting target'], fast=True, corners=corners, text=text)\n"
   ]
  },
  {
   "cell_type": "code",
   "execution_count": null,
   "metadata": {},
   "outputs": [],
   "source": [
    "o.plot(compare=o_hit, \n",
    "       legend=['Elements not hitting target', 'Elements hitting target'], \n",
    "       show_elements=False, \n",
    "       fast=True, corners=corners, text=text)"
   ]
  },
  {
   "cell_type": "code",
   "execution_count": null,
   "metadata": {},
   "outputs": [],
   "source": [
    "of = opendrift.open_xarray(outfile, elements=hits)\n",
    "density_forwards = of.get_histogram(pixelsize_m=5000).isel(time=0).isel(origin_marker=0)\n",
    "density_forwards = density_forwards.where(density_forwards>0)\n",
    "o_hit.plot(background=density_forwards/density_forwards.sum()*100, \n",
    "           clabel='Probability of origin [%]', text=text, corners=corners, \n",
    "           fast=True, markersize=.5, lalpha=.02, vmin=0, vmax=vmax)"
   ]
  },
  {
   "cell_type": "markdown",
   "metadata": {},
   "source": [
    "## Resources\n",
    "\n",
    "* https://opendrift.github.io/gallery/example_windblow.html"
   ]
  }
 ],
 "metadata": {
  "language_info": {
   "name": "python"
  }
 },
 "nbformat": 4,
 "nbformat_minor": 2
}
