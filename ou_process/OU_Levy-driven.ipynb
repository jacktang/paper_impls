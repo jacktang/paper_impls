{
 "cells": [
  {
   "cell_type": "markdown",
   "metadata": {},
   "source": [
    "# Levy-Driven Mean-Reverting\n",
    "\n",
    "To allow for mean-reverting processes with jumps, the L´evy-driven OrnsteinUhlenbeck process (LDOUP) has been widely considered\n",
    "\n",
    "Specifically, we focus on a variance gamma driving process, which is a time-changed Brownian motion and a purejump, infinite activity L´evy process with skewness and kurtosis parameters\n",
    "we develop a Monte Carlo method to evaluate the trading strategies and determine the optimal trading levels.\n",
    "In particular, we introduce an array of control variates to reduce the variance of the Monte Carlo estimator of the value\n",
    "function.\n",
    "we also consider the trading problem involving\n",
    "two mean-reverting spreads modeled by an LDOUP driven by a weak variance\n",
    "alpha-gamma process,\n"
   ]
  },
  {
   "cell_type": "code",
   "execution_count": null,
   "metadata": {},
   "outputs": [],
   "source": []
  },
  {
   "cell_type": "markdown",
   "metadata": {},
   "source": [
    "## Resources\n",
    "\n",
    "* https://medium.com/quantitative-investing/simulating-trades-under-a-levy-driven-mean-reverting-framework-6fff4cdab3ae\n",
    "* https://math.ucalgary.ca/finlab/files/finlab/presentation_201902058851.pdf"
   ]
  }
 ],
 "metadata": {
  "language_info": {
   "name": "python"
  }
 },
 "nbformat": 4,
 "nbformat_minor": 2
}
