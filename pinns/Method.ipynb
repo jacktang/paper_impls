{
 "cells": [
  {
   "cell_type": "markdown",
   "metadata": {},
   "source": [
    "# Physics Informed Machine Learning\n",
    "\n",
    "Em\n",
    "1. Decide on problem (What are we modeling?)\n",
    "1. Curate data (What data will inform the model?)\n",
    "1. Design an architecure (RNN, autoencoder, DMD, SINDy?)\n",
    "1. Craft a loss function (What models are 'good'?)\n",
    "\n",
    "##  Decide on problem\n",
    "\n",
    "* Learning [New physics]\n",
    "* Capture expensive physics\n",
    "  * Surrogate modeling\n",
    "  * Fast/accurate\n",
    "  * Automatic differentiation for optimization"
   ]
  },
  {
   "cell_type": "code",
   "execution_count": null,
   "metadata": {},
   "outputs": [],
   "source": []
  },
  {
   "cell_type": "markdown",
   "metadata": {},
   "source": [
    "## Resources\n",
    "\n",
    "* https://www.youtube.com/watch?v=JoFW2uSd3Uo&list=PLMrJAkhIeNNQ0BaKuBKY43k4xMo6NSbBa&index=1"
   ]
  }
 ],
 "metadata": {
  "language_info": {
   "name": "python"
  }
 },
 "nbformat": 4,
 "nbformat_minor": 2
}
