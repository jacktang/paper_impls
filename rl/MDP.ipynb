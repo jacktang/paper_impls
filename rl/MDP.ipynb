{
 "cells": [
  {
   "cell_type": "markdown",
   "metadata": {},
   "source": [
    "# Markov Decision Process\n",
    "\n",
    "Reinforcement learning environment can be modeled with Markov Decision Process (MDP).\n",
    "MDP provides a mathematical framework for modeling sequential decision making in situations where outcomes are partly random and partly under the control of a decision maker (exactly like games which we can only control our moves but have no control on the opponent’s actions).\n",
    "In MDP environment, Agent needs to find an optimal policy to maximize the rewards."
   ]
  },
  {
   "cell_type": "code",
   "execution_count": null,
   "metadata": {},
   "outputs": [],
   "source": []
  }
 ],
 "metadata": {
  "language_info": {
   "name": "python"
  }
 },
 "nbformat": 4,
 "nbformat_minor": 2
}
