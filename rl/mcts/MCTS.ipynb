{
 "cells": [
  {
   "cell_type": "markdown",
   "metadata": {},
   "source": [
    "# Monte Carlo Tree Search\n",
    "\n",
    "## Uninformed Search\n",
    "\n",
    "Uninformed search, as its name suggests, is a kind of generic search algorithms which are given no extra information other than an abstract problem definition. DFS and BFD\n",
    "\n",
    "## Monte Carlo Tree Search\n",
    "\n",
    "**MCTS uses Monte Carlo simulation to accumulate value estimates to guide towards highly rewarding trajectories in the search tree.** In other words, MCTS pays more attention to nodes that are more promising, so it avoids having to brute force all possibilities which is impractical to do.\n",
    "\n",
    "At its core, MCTS consists of repeated iterations (ideally infinite, in practice constrained by computing time and resources) of 4 steps: selection, expansion, simulation and backup.\n",
    "\n",
    "<img src='./mcst_idea.webp'>\n",
    "\n",
    "#### Selection\n",
    "\n",
    "In this step, we use tree policy to construct path from root to most promising leaf node.\n",
    "A leaf node is a node which has unexplored child node(s).\n",
    "A tree policy is an informed policy used for action (node) selection in the *snowcap* (explored part of the game tree as opposed to the vast unexplored bottom part). One important consideration of such policy is **the balance of exploration vs exploitation**\n",
    "\n",
    "In the algorithm behind AlphaGo, a UCB based policy is used.\n",
    "\n",
    "#### Expansion\n",
    "\n",
    "In expansion step, we simply randomly pick an unexplored node of a leaf node.\n",
    "\n",
    "#### Simulation\n",
    "\n",
    "During this step, we roll out one or multiple simulations with reward accumulated for each simulation. Roll-out policy is normally simply or even pure random such that it is fast to execute. For example, a win might induce reward of +1, a draw for 0, and a loss for -1.\n",
    "\n",
    "#### Backup\n",
    "\n",
    "We use the accumulated rewards of simulations to back up and update the values of nodes in the snowcap.\n",
    "\n",
    "Note: we don’t update the values of nodes during the roll-out steps! This is done so because we need to focus on the vicinity of the root node (snowcap), based on which we need to make decisions of next move(s). Whereas the values outside of snowcap is not relevant for such decision, nor computationally efficient to store and calculate.\n",
    "\n",
    "The pseudo-code:\n",
    "<pre>\n",
    "def run(node, num_rollout):\n",
    "    \"one iteration of select->expand->simulation-> backup\"\n",
    "    path = select(node)\n",
    "    leaf = path[-1]\n",
    "    expand(leaf)\n",
    "    reward = 0\n",
    "    for i in range(num_rollout):\n",
    "        reward += simulate(leaf)\n",
    "    backup(path, reward)\n",
    "</pre>\n",
    "\n",
    "\n",
    "https://towardsdatascience.com/monte-carlo-tree-search-an-introduction-503d8c04e168\n",
    "\n",
    "https://github.com/wlongxiang/mcts/blob/main/monte_carlo_tree_search.py"
   ]
  },
  {
   "cell_type": "code",
   "execution_count": null,
   "metadata": {},
   "outputs": [],
   "source": []
  },
  {
   "cell_type": "markdown",
   "metadata": {},
   "source": [
    "## Resources\n",
    "\n",
    "* https://towardsdatascience.com/monte-carlo-tree-search-an-introduction-503d8c04e168\n",
    "* https://github.com/kstruempf/MCTS\n",
    "* https://www.informs-sim.org/wsc18papers/includes/files/021.pdf\n",
    "* https://builtin.com/machine-learning/monte-carlo-tree-search\n",
    "* https://ai-boson.github.io/mcts/\n",
    "* https://towardsdatascience.com/monte-carlo-tree-search-implementing-reinforcement-learning-in-real-time-game-player-25b6f6ac3b43\n",
    "* https://aijunbai.github.io/publications/AI18-Bai.pdf\n",
    "* https://towardsdatascience.com/monte-carlo-tree-search-in-reinforcement-learning-b97d3e743d0f\n",
    "* https://medium.com/swlh/tic-tac-toe-at-the-monte-carlo-a5e0394c7bc2"
   ]
  }
 ],
 "metadata": {
  "language_info": {
   "name": "python"
  }
 },
 "nbformat": 4,
 "nbformat_minor": 2
}
