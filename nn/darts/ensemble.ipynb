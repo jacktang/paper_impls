{
 "cells": [
  {
   "cell_type": "markdown",
   "metadata": {},
   "source": [
    "# https://github.com/unit8co/darts/issues/1814"
   ]
  },
  {
   "cell_type": "code",
   "execution_count": 1,
   "metadata": {},
   "outputs": [
    {
     "name": "stderr",
     "output_type": "stream",
     "text": [
      "/home/dev/miniconda3/envs/pf/lib/python3.10/site-packages/tqdm/auto.py:21: TqdmWarning: IProgress not found. Please update jupyter and ipywidgets. See https://ipywidgets.readthedocs.io/en/stable/user_install.html\n",
      "  from .autonotebook import tqdm as notebook_tqdm\n"
     ]
    },
    {
     "name": "stdout",
     "output_type": "stream",
     "text": [
      "forest extreme lags:  (None, 0, None, None, 0, 0)\n",
      "linear extreme lags:  (None, 0, None, None, 0, 0)\n",
      "ensemble extreme lags:  (None, 0, None, None, 0, 0)\n"
     ]
    }
   ],
   "source": [
    "import pandas as pd\n",
    "from sklearn.ensemble import RandomForestRegressor\n",
    "\n",
    "data = pd.DataFrame(\n",
    "    {\"a\": [1] * 24 * 7 * 5, \"b\": [2] * 24 * 7 * 5},\n",
    "    index=pd.date_range(start=\"2023-01-01\", freq=\"1H\", periods=24 * 7 * 5),\n",
    ")\n",
    "\n",
    "from darts import TimeSeries\n",
    "from darts.models import RandomForest, RegressionModel\n",
    "from darts.models.forecasting.regression_ensemble_model import RegressionEnsembleModel\n",
    "from darts.dataprocessing.transformers import Scaler\n",
    "from darts.metrics import r2_score, mape\n",
    "\n",
    "TARGET = \"a\"\n",
    "COVARIATES = [\"b\"]\n",
    "\n",
    "data = TimeSeries.from_dataframe(data)\n",
    "\n",
    "data = data.add_datetime_attribute(\"hour\", one_hot=True)\n",
    "\n",
    "COVARIATES = COVARIATES + [f\"hour_{i}\" for i in range(1, 25)]\n",
    "\n",
    "\n",
    "def _run():\n",
    "    model1 = RandomForest(\n",
    "        lags_future_covariates=[0],\n",
    "        n_estimators=500,\n",
    "        add_encoders={\n",
    "            \"datetime_attribute\": {\"future\": [\"hour\"]},\n",
    "            \"transformer\": Scaler(),\n",
    "            \"position\": {\"future\": \"relative\"},\n",
    "        },\n",
    "    )\n",
    "    print(\"forest extreme lags: \", model1.extreme_lags)\n",
    "    model2 = RegressionModel(\n",
    "        lags_future_covariates=[0],\n",
    "        add_encoders={\n",
    "            # \"datetime_attribute\": {\"future\": [\"hour\"]},\n",
    "            \"transformer\": Scaler(),\n",
    "            \"position\": {\"future\": \"relative\"},\n",
    "        },\n",
    "    )\n",
    "    print(\"linear extreme lags: \", model2.extreme_lags)\n",
    "\n",
    "    class M(RegressionEnsembleModel):\n",
    "        \"\"\"so monkey it's sexy\"\"\"\n",
    "\n",
    "        @property\n",
    "        def extreme_lags(\n",
    "            self,\n",
    "        ):\n",
    "            return (None, 0, None, None, 0, 0)\n",
    "\n",
    "    model = M(\n",
    "        forecasting_models=[model1, model2],\n",
    "        regression_train_n_points=50,\n",
    "        regression_model=RandomForestRegressor(),\n",
    "    )\n",
    "\n",
    "    print(\"ensemble extreme lags: \", model.extreme_lags)\n",
    "    future_covariates = data[[x for x in data.columns if x in COVARIATES]]\n",
    "\n",
    "    results = model.historical_forecasts(\n",
    "        series=data[TARGET],\n",
    "        future_covariates=future_covariates,\n",
    "        forecast_horizon=1 * 24,\n",
    "        stride=1 * 24,\n",
    "        start=24 * 7 * 4,\n",
    "        train_length=24 * 7 * 4,\n",
    "        last_points_only=False,\n",
    "    )\n",
    "\n",
    "    return results\n",
    "\n",
    "\n",
    "d = _run()"
   ]
  },
  {
   "cell_type": "markdown",
   "metadata": {},
   "source": [
    "# 资料\n",
    "\n",
    "* https://github.com/h3ik0th/Darts_ensembleFC/blob/main/darts16_update2022.01.ipynb\n"
   ]
  }
 ],
 "metadata": {
  "kernelspec": {
   "display_name": "pf",
   "language": "python",
   "name": "python3"
  },
  "language_info": {
   "codemirror_mode": {
    "name": "ipython",
    "version": 3
   },
   "file_extension": ".py",
   "mimetype": "text/x-python",
   "name": "python",
   "nbconvert_exporter": "python",
   "pygments_lexer": "ipython3",
   "version": "3.10.12"
  },
  "orig_nbformat": 4
 },
 "nbformat": 4,
 "nbformat_minor": 2
}
