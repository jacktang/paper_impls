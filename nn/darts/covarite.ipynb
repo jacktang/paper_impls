{
 "cells": [
  {
   "cell_type": "markdown",
   "metadata": {},
   "source": []
  },
  {
   "cell_type": "code",
   "execution_count": null,
   "metadata": {},
   "outputs": [],
   "source": [
    "import numpy as np\n",
    "import pandas as pd\n",
    "\n",
    "from darts import TimeSeries\n",
    "from darts.models import LightGBMModel\n",
    "from matplotlib import pyplot as plt\n",
    "\n",
    "# create random data (here would be your data)\n",
    "n_events, n_features, val_length = 100, 10, 20\n",
    "X_train = np.random.rand(n_events - val_length, n_features)\n",
    "y_train = np.random.rand(n_events - val_length, 1)\n",
    "X_val = np.random.rand(val_length, n_features)\n",
    "\n",
    "target = TimeSeries.from_times_and_values(times=pd.Int64Index(range(len(y_train))), values=y_train)\n",
    "\n",
    "data_train = TimeSeries.from_times_and_values(\n",
    "    times=pd.Int64Index(range(len(X_train))),\n",
    "    values=X_train)\n",
    "data_val = TimeSeries.from_times_and_values(\n",
    "    times=pd.Int64Index(range(data_train.end_time() + 1, data_train.end_time() + 1 + len(X_val))),\n",
    "    values=X_val)\n",
    "\n",
    "model = LightGBMModel(lags=None, lags_future_covariates=[-0, -0])\n",
    "model.fit(target, future_covariates=data_train)\n",
    "pred = model.predict(n=len(data_val), future_covariates=data_val)\n",
    "\n",
    "target.plot(label='train')\n",
    "pred.plot(label='forecast')\n",
    "plt.legend()\n",
    "plt.plot()\n",
    "plt.show()"
   ]
  }
 ],
 "metadata": {
  "kernelspec": {
   "display_name": "pf",
   "language": "python",
   "name": "python3"
  },
  "language_info": {
   "name": "python",
   "version": "3.10.12"
  },
  "orig_nbformat": 4
 },
 "nbformat": 4,
 "nbformat_minor": 2
}
