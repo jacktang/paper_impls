{
 "cells": [
  {
   "cell_type": "markdown",
   "metadata": {},
   "source": []
  },
  {
   "cell_type": "code",
   "execution_count": null,
   "metadata": {},
   "outputs": [],
   "source": [
    "import numpy as np\n",
    "import pandas as pd\n",
    "import matplotlib.pyplot as plt\n",
    "\n",
    "import math\n",
    "# https://github.com/FutureSharks/financial-data\n",
    "# pip3 install https://github.com/FutureSharks/financial-data/archive/master.zip\n",
    "import pyfinancialdata\n",
    "import trade_functions\n",
    "\n",
    "from keras.models import Sequential\n",
    "from keras.layers import Dense\n",
    "from keras.layers import LSTM\n",
    "from keras.models import load_model\n",
    "from sklearn.preprocessing import MinMaxScaler\n",
    "from sklearn.model_selection import train_test_split\n",
    "from sklearn.metrics import mean_squared_error\n",
    "from keras.layers import Dense, Activation"
   ]
  },
  {
   "cell_type": "code",
   "execution_count": null,
   "metadata": {},
   "outputs": [],
   "source": [
    "train_data = pyfinancialdata.get_multi_year(\n",
    "    provider='oanda',\n",
    "    instrument='GBP_USD',\n",
    "    years=[2006, 2007, 2008, 2009, 2010, 2011, 2012, 2013, 2014],\n",
    "    time_group='12h',\n",
    "    price_calculation='close',\n",
    "    drop_non_price_columns=True,\n",
    ")\n",
    "\n",
    "test_data = pyfinancialdata.get_multi_year(\n",
    "    provider='oanda',\n",
    "    instrument='GBP_USD',\n",
    "    years=[2015, 2016, 2017],\n",
    "    time_group='12h',\n",
    "    price_calculation='close',\n",
    "    drop_non_price_columns=True,\n",
    ")\n",
    "\n",
    "train_data.plot(title='train data')\n",
    "test_data.plot(title='test data')"
   ]
  },
  {
   "cell_type": "markdown",
   "metadata": {},
   "source": [
    "## Train model"
   ]
  },
  {
   "cell_type": "code",
   "execution_count": null,
   "metadata": {},
   "outputs": [],
   "source": [
    "def create_training_dataset(dataset, look_back, time_ahead):\n",
    "    '''\n",
    "    Converts an array of values into a dataset matrix of X and Y for a sequential model\n",
    "    '''\n",
    "    dataX, dataY = [], []\n",
    "\n",
    "    for i in range(len(dataset) - look_back - time_ahead + 1):\n",
    "        a = dataset[i:(i+look_back), 0]\n",
    "        dataX.append(a)\n",
    "        dataY.append(dataset[i + look_back + time_ahead - 1, 0])\n",
    "\n",
    "    dataX = np.array(dataX)\n",
    "    dataX = np.reshape(dataX, (dataX.shape[0], 1, dataX.shape[1]))\n",
    "    dataY = np.array(dataY)\n",
    "\n",
    "    return dataX, dataY"
   ]
  },
  {
   "cell_type": "code",
   "execution_count": null,
   "metadata": {},
   "outputs": [],
   "source": [
    "# Create dataset from the DataFrame and normalise\n",
    "dataset = train_data['price'].values\n",
    "dataset = dataset.astype('float32')\n",
    "dataset = dataset.reshape(-1, 1)\n",
    "# normalize the dataset\n",
    "scaler = MinMaxScaler(feature_range=(0, 1))\n",
    "dataset = scaler.fit_transform(dataset)\n",
    "# Create X, Y for training\n",
    "trainX, trainY = create_training_dataset(dataset, look_back=look_back, time_ahead=time_ahead)"
   ]
  },
  {
   "cell_type": "code",
   "execution_count": null,
   "metadata": {},
   "outputs": [],
   "source": [
    "model.fit(trainX, trainY, epochs=epoch, batch_size=1, verbose=0)"
   ]
  },
  {
   "cell_type": "markdown",
   "metadata": {},
   "source": [
    "## Test model"
   ]
  },
  {
   "cell_type": "code",
   "execution_count": null,
   "metadata": {},
   "outputs": [],
   "source": [
    "# Create a scaler and fit\n",
    "test_scaler = MinMaxScaler(feature_range=(0, 1))\n",
    "test_scaler.fit(test_data['price'].values.reshape(-1, 1))\n",
    "\n",
    "# a function to predict\n",
    "def predict(values):\n",
    "    values = test_scaler.transform(values.reshape(-1, 1))\n",
    "    values = np.reshape(values, (1, 1, look_back))\n",
    "    prediction = model.predict(values)\n",
    "    prediction = prediction.reshape(-1, 1)\n",
    "    return test_scaler.inverse_transform(prediction)"
   ]
  },
  {
   "cell_type": "markdown",
   "metadata": {},
   "source": [
    "## Resources\n",
    "\n",
    "* https://datascience.stackexchange.com/questions/76826/why-are-predictions-from-my-lstm-neural-network-lagging-behind-true-values"
   ]
  }
 ],
 "metadata": {
  "language_info": {
   "name": "python"
  }
 },
 "nbformat": 4,
 "nbformat_minor": 2
}
