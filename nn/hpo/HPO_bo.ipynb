{
 "cells": [
  {
   "cell_type": "markdown",
   "metadata": {},
   "source": [
    "# Bayesian Optimization"
   ]
  },
  {
   "cell_type": "code",
   "execution_count": 1,
   "metadata": {},
   "outputs": [],
   "source": [
    "from bayes_opt import BayesianOptimization\n",
    "from bayes_opt import UtilityFunction\n",
    "import numpy as np\n",
    "from matplotlib import pyplot as plt\n",
    "from matplotlib import gridspec\n",
    "# %matplotlib inline"
   ]
  },
  {
   "cell_type": "code",
   "execution_count": 2,
   "metadata": {},
   "outputs": [
    {
     "data": {
      "image/png": "[encoded data removed]",
      "text/plain": [
       "<Figure size 432x288 with 1 Axes>"
      ]
     },
     "metadata": {
      "needs_background": "light"
     },
     "output_type": "display_data"
    }
   ],
   "source": [
    "def target(x):\n",
    "    return np.exp(-(x - 2)**2) + np.exp(-(x - 6)**2/10) + 1/ (x**2 + 1)\n",
    "\n",
    "x = np.linspace(-2, 10, 10000).reshape(-1, 1)\n",
    "y = target(x)\n",
    "\n",
    "plt.plot(x, y)"
   ]
  },
  {
   "cell_type": "code",
   "execution_count": null,
   "metadata": {},
   "outputs": [],
   "source": [
    "def plot_constrained_opt(pbounds, target_function, optimizer):\n",
    "    \"\"\"\n",
    "    Plots a number of interesting contours to visualize constrained 2-dimensional optimization.\n",
    "    \"\"\"\n",
    "\n",
    "    # Set a few parameters\n",
    "    n_constraints = optimizer.constraint.lb.size\n",
    "    n_plots_per_row = 2+n_constraints\n",
    "\n",
    "    # Construct the subplot titles\n",
    "    if n_constraints==1:\n",
    "        c_labels = [\"constraint\"]\n",
    "    else:\n",
    "        c_labels = [f\"constraint {i+1}\" for i in range(n_constraints)]\n",
    "    labels_top = [\"target\"] + c_labels + [\"masked target\"]\n",
    "    labels_bot = [\"target estimate\"] + [c + \" estimate\" for c in c_labels] + [\"acquisition function\"]\n",
    "    labels = [labels_top, labels_bot]\n",
    "\n",
    "    # Setup the grid to plot on\n",
    "    x = np.linspace(pbounds['x'][0], pbounds['x'][1], 1000)\n",
    "    y = np.linspace(pbounds['y'][0], pbounds['y'][1], 1000)\n",
    "    xy = np.array([[x_i, y_j] for y_j in y for x_i in x])\n",
    "    X, Y = np.meshgrid(x, y)\n",
    "\n",
    "    # Evaluate the actual functions on the grid\n",
    "    Z = target_function(X, Y)\n",
    "    # This reshaping is a bit painful admittedly, but it's a consequence of np.meshgrid\n",
    "    C = optimizer.constraint.fun(X, Y).reshape((n_constraints,) + Z.shape).swapaxes(0, -1)\n",
    "\n",
    "\n",
    "    fig, axs = plt.subplots(2, n_plots_per_row, constrained_layout=True, figsize=(12,8))\n",
    "\n",
    "    for i in range(2):\n",
    "        for j in range(n_plots_per_row):\n",
    "            axs[i, j].set_aspect(\"equal\")\n",
    "            axs[i, j].set_title(labels[i][j])\n",
    "\n",
    "\n",
    "    # Extract & unpack the optimization results\n",
    "    max_ = optimizer.max\n",
    "    res = optimizer.res\n",
    "    x_ = np.array([r[\"params\"]['x'] for r in res])\n",
    "    y_ = np.array([r[\"params\"]['y'] for r in res])\n",
    "    c_ = np.array([r[\"constraint\"] for r in res])\n",
    "    a_ = np.array([r[\"allowed\"] for r in res])\n",
    "\n",
    "\n",
    "    Z_est = optimizer._gp.predict(xy).reshape(Z.shape)\n",
    "    C_est = optimizer.constraint.approx(xy).reshape(Z.shape + (n_constraints,))\n",
    "    P_allowed = optimizer.constraint.predict(xy).reshape(Z.shape)\n",
    "\n",
    "    Acq = np.where(Z_est >0, Z_est * P_allowed, Z_est / (0.5 + P_allowed))\n",
    "\n",
    "\n",
    "    target_vbounds = np.min([Z, Z_est]), np.max([Z, Z_est])\n",
    "    constraint_vbounds = np.min([C, C_est]), np.max([C, C_est])\n",
    "\n",
    "\n",
    "    axs[0,0].contourf(X, Y, Z, cmap=plt.cm.coolwarm, vmin=target_vbounds[0], vmax=target_vbounds[1])\n",
    "    for i in range(n_constraints):\n",
    "        axs[0,1+i].contourf(X, Y, C[:,:,i], cmap=plt.cm.coolwarm, vmin=constraint_vbounds[0], vmax=constraint_vbounds[1])\n",
    "    Z_mask = Z\n",
    "\n",
    "    Z_mask[~np.squeeze(optimizer.constraint.allowed(C))] = np.nan\n",
    "    axs[0,n_plots_per_row-1].contourf(X, Y, Z_mask, cmap=plt.cm.coolwarm, vmin=target_vbounds[0], vmax=target_vbounds[1])\n",
    "\n",
    "    axs[1,0].contourf(X, Y, Z_est, cmap=plt.cm.coolwarm, vmin=target_vbounds[0], vmax=target_vbounds[1])\n",
    "    for i in range(n_constraints):\n",
    "        axs[1,1+i].contourf(X, Y, C_est[:, :, i], cmap=plt.cm.coolwarm, vmin=constraint_vbounds[0], vmax=constraint_vbounds[1])\n",
    "    axs[1,n_plots_per_row-1].contourf(X, Y, Acq, cmap=plt.cm.coolwarm, vmin=0, vmax=1)\n",
    "\n",
    "    for i in range(2):\n",
    "        for j in range(n_plots_per_row):\n",
    "            axs[i,j].scatter(x_[a_], y_[a_], c='white', s=80, edgecolors='black')\n",
    "            axs[i,j].scatter(x_[~a_], y_[~a_], c='red', s=80, edgecolors='black')\n",
    "            axs[i,j].scatter(max_[\"params\"]['x'], max_[\"params\"]['y'], s=80, c='green', edgecolors='black')\n",
    "\n",
    "    return fig, axs"
   ]
  },
  {
   "cell_type": "markdown",
   "metadata": {},
   "source": [
    "## Multiple Constraints"
   ]
  },
  {
   "cell_type": "code",
   "execution_count": 10,
   "metadata": {},
   "outputs": [],
   "source": [
    "import numpy as np\n",
    "from bayes_opt import BayesianOptimization\n",
    "import matplotlib.pyplot as plt\n",
    "from scipy.optimize import NonlinearConstraint"
   ]
  },
  {
   "cell_type": "code",
   "execution_count": 11,
   "metadata": {},
   "outputs": [],
   "source": [
    "def target_function(x, y):\n",
    "    # Gardner is looking for the minimum, but this packages looks for maxima, thus the sign switch\n",
    "    return np.cos(2*x)*np.cos(y) + np.sin(x)\n",
    "\n",
    "def constraint_function_2_dim(x, y):\n",
    "    return np.array([\n",
    "        - np.cos(x) * np.cos(y) + np.sin(x) * np.sin(y),\n",
    "        - np.cos(x) * np.cos(-y) + np.sin(x) * np.sin(-y)])\n",
    "\n",
    "pbounds = {'x': (0, 6), 'y': (0, 6)}\n",
    "constraint_lower = np.array([-np.inf, -np.inf])\n",
    "constraint_upper = np.array([0.6, 0.6])"
   ]
  },
  {
   "cell_type": "code",
   "execution_count": 12,
   "metadata": {},
   "outputs": [
    {
     "name": "stdout",
     "output_type": "stream",
     "text": [
      "|   iter    |  target   |  allowed  |     x     |     y     |\n",
      "-------------------------------------------------------------\n",
      "| \u001b[95m5        \u001b[0m | \u001b[95m0.9614   \u001b[0m | \u001b[95mTrue     \u001b[0m | \u001b[95m2.178    \u001b[0m | \u001b[95m1.983    \u001b[0m |\n",
      "| \u001b[95m12       \u001b[0m | \u001b[95m1.941    \u001b[0m | \u001b[95mTrue     \u001b[0m | \u001b[95m1.721    \u001b[0m | \u001b[95m3.064    \u001b[0m |\n",
      "| \u001b[95m20       \u001b[0m | \u001b[95m1.973    \u001b[0m | \u001b[95mTrue     \u001b[0m | \u001b[95m1.495    \u001b[0m | \u001b[95m2.978    \u001b[0m |\n",
      "| \u001b[95m22       \u001b[0m | \u001b[95m1.998    \u001b[0m | \u001b[95mTrue     \u001b[0m | \u001b[95m1.553    \u001b[0m | \u001b[95m3.184    \u001b[0m |\n",
      "| \u001b[95m25       \u001b[0m | \u001b[95m1.999    \u001b[0m | \u001b[95mTrue     \u001b[0m | \u001b[95m1.589    \u001b[0m | \u001b[95m3.135    \u001b[0m |\n",
      "| \u001b[95m26       \u001b[0m | \u001b[95m2.0      \u001b[0m | \u001b[95mTrue     \u001b[0m | \u001b[95m1.56     \u001b[0m | \u001b[95m3.126    \u001b[0m |\n",
      "| \u001b[95m27       \u001b[0m | \u001b[95m2.0      \u001b[0m | \u001b[95mTrue     \u001b[0m | \u001b[95m1.569    \u001b[0m | \u001b[95m3.137    \u001b[0m |\n",
      "| \u001b[95m29       \u001b[0m | \u001b[95m2.0      \u001b[0m | \u001b[95mTrue     \u001b[0m | \u001b[95m1.57     \u001b[0m | \u001b[95m3.144    \u001b[0m |\n",
      "| \u001b[95m30       \u001b[0m | \u001b[95m2.0      \u001b[0m | \u001b[95mTrue     \u001b[0m | \u001b[95m1.57     \u001b[0m | \u001b[95m3.144    \u001b[0m |\n",
      "| \u001b[95m31       \u001b[0m | \u001b[95m2.0      \u001b[0m | \u001b[95mTrue     \u001b[0m | \u001b[95m1.57     \u001b[0m | \u001b[95m3.144    \u001b[0m |\n",
      "| \u001b[95m35       \u001b[0m | \u001b[95m2.0      \u001b[0m | \u001b[95mTrue     \u001b[0m | \u001b[95m1.572    \u001b[0m | \u001b[95m3.14     \u001b[0m |\n",
      "=============================================================\n"
     ]
    }
   ],
   "source": [
    "constraint = NonlinearConstraint(constraint_function_2_dim, constraint_lower, constraint_upper)\n",
    "optimizer = BayesianOptimization(\n",
    "    f=target_function,\n",
    "    constraint=constraint,\n",
    "    pbounds=pbounds,\n",
    "    verbose=1, \n",
    "    random_state=27,\n",
    ")\n",
    "\n",
    "optimizer.maximize(\n",
    "    init_points=2,\n",
    "    n_iter=40,\n",
    ")"
   ]
  },
  {
   "cell_type": "code",
   "execution_count": 13,
   "metadata": {},
   "outputs": [
    {
     "ename": "NameError",
     "evalue": "name 'plot_constrained_opt' is not defined",
     "output_type": "error",
     "traceback": [
      "\u001b[0;31m---------------------------------------------------------------------------\u001b[0m",
      "\u001b[0;31mNameError\u001b[0m                                 Traceback (most recent call last)",
      "Input \u001b[0;32mIn [13]\u001b[0m, in \u001b[0;36m<cell line: 1>\u001b[0;34m()\u001b[0m\n\u001b[0;32m----> 1\u001b[0m \u001b[43mplot_constrained_opt\u001b[49m(pbounds, target_function, optimizer)\n",
      "\u001b[0;31mNameError\u001b[0m: name 'plot_constrained_opt' is not defined"
     ]
    }
   ],
   "source": [
    "plot_constrained_opt(pbounds, target_function, optimizer)"
   ]
  },
  {
   "cell_type": "markdown",
   "metadata": {},
   "source": [
    "# Resources\n",
    "\n",
    "* https://bayesian-optimization.github.io/BayesianOptimization/constraints.html"
   ]
  }
 ],
 "metadata": {
  "kernelspec": {
   "display_name": "dev",
   "language": "python",
   "name": "python3"
  },
  "language_info": {
   "codemirror_mode": {
    "name": "ipython",
    "version": 3
   },
   "file_extension": ".py",
   "mimetype": "text/x-python",
   "name": "python",
   "nbconvert_exporter": "python",
   "pygments_lexer": "ipython3",
   "version": "3.10.6"
  }
 },
 "nbformat": 4,
 "nbformat_minor": 2
}
