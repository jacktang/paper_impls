{
 "cells": [
  {
   "cell_type": "markdown",
   "metadata": {},
   "source": [
    "# Kolmogorov-Arnold Network (KAN)"
   ]
  },
  {
   "cell_type": "code",
   "execution_count": 1,
   "metadata": {},
   "outputs": [
    {
     "name": "stdout",
     "output_type": "stream",
     "text": [
      "cuda\n"
     ]
    },
    {
     "data": {
      "text/plain": [
       "(torch.Size([3000, 4]), torch.Size([3000, 1]))"
      ]
     },
     "execution_count": 1,
     "metadata": {},
     "output_type": "execute_result"
    }
   ],
   "source": [
    "from kan import KAN, create_dataset\n",
    "import torch\n",
    "\n",
    "device = torch.device('cuda' if torch.cuda.is_available() else 'cpu')\n",
    "print(device)\n",
    "\n",
    "model = KAN(width=[4,2,1,1], grid=3, k=3, seed=0, device=device)\n",
    "f = lambda x: torch.exp((torch.sin(torch.pi*(x[:,[0]]**2+x[:,[1]]**2))+torch.sin(torch.pi*(x[:,[2]]**2+x[:,[3]]**2)))/2)\n",
    "dataset = create_dataset(f, n_var=4, train_num=3000, device=device)\n",
    "dataset['train_input'].shape, dataset['train_label'].shape"
   ]
  },
  {
   "cell_type": "code",
   "execution_count": 2,
   "metadata": {},
   "outputs": [
    {
     "name": "stderr",
     "output_type": "stream",
     "text": [
      "train loss: 6.09e-03 | test loss: 6.31e-03 | reg: 7.13e+00 : 100%|██| 50/50 [00:07<00:00,  6.45it/s]\n"
     ]
    },
    {
     "data": {
      "text/plain": [
       "{'train_loss': [array(0.41433772, dtype=float32),\n",
       "  array(0.19768886, dtype=float32),\n",
       "  array(0.13087918, dtype=float32),\n",
       "  array(0.06907739, dtype=float32),\n",
       "  array(0.03466889, dtype=float32),\n",
       "  array(0.02754203, dtype=float32),\n",
       "  array(0.02236201, dtype=float32),\n",
       "  array(0.01851819, dtype=float32),\n",
       "  array(0.01355777, dtype=float32),\n",
       "  array(0.01114178, dtype=float32),\n",
       "  array(0.01032609, dtype=float32),\n",
       "  array(0.00981268, dtype=float32),\n",
       "  array(0.00947436, dtype=float32),\n",
       "  array(0.00895333, dtype=float32),\n",
       "  array(0.0087237, dtype=float32),\n",
       "  array(0.00836586, dtype=float32),\n",
       "  array(0.00796148, dtype=float32),\n",
       "  array(0.00780805, dtype=float32),\n",
       "  array(0.00766717, dtype=float32),\n",
       "  array(0.00741818, dtype=float32),\n",
       "  array(0.00743723, dtype=float32),\n",
       "  array(0.0072568, dtype=float32),\n",
       "  array(0.00692147, dtype=float32),\n",
       "  array(0.00651037, dtype=float32),\n",
       "  array(0.00630864, dtype=float32),\n",
       "  array(0.00712508, dtype=float32),\n",
       "  array(0.00682169, dtype=float32),\n",
       "  array(0.00641171, dtype=float32),\n",
       "  array(0.00626681, dtype=float32),\n",
       "  array(0.00617498, dtype=float32),\n",
       "  array(0.00697773, dtype=float32),\n",
       "  array(0.00647856, dtype=float32),\n",
       "  array(0.00628457, dtype=float32),\n",
       "  array(0.00608133, dtype=float32),\n",
       "  array(0.0059837, dtype=float32),\n",
       "  array(0.00710761, dtype=float32),\n",
       "  array(0.0067999, dtype=float32),\n",
       "  array(0.00660201, dtype=float32),\n",
       "  array(0.00632222, dtype=float32),\n",
       "  array(0.00624873, dtype=float32),\n",
       "  array(0.00722745, dtype=float32),\n",
       "  array(0.00685927, dtype=float32),\n",
       "  array(0.00671833, dtype=float32),\n",
       "  array(0.00629066, dtype=float32),\n",
       "  array(0.00611511, dtype=float32),\n",
       "  array(0.00722401, dtype=float32),\n",
       "  array(0.00674146, dtype=float32),\n",
       "  array(0.00645145, dtype=float32),\n",
       "  array(0.00621263, dtype=float32),\n",
       "  array(0.00609048, dtype=float32)],\n",
       " 'test_loss': [array(0.4442981, dtype=float32),\n",
       "  array(0.21309437, dtype=float32),\n",
       "  array(0.13085482, dtype=float32),\n",
       "  array(0.07259983, dtype=float32),\n",
       "  array(0.03566801, dtype=float32),\n",
       "  array(0.02836693, dtype=float32),\n",
       "  array(0.02270531, dtype=float32),\n",
       "  array(0.01853437, dtype=float32),\n",
       "  array(0.01337692, dtype=float32),\n",
       "  array(0.01113112, dtype=float32),\n",
       "  array(0.01083598, dtype=float32),\n",
       "  array(0.01034378, dtype=float32),\n",
       "  array(0.00990214, dtype=float32),\n",
       "  array(0.00932562, dtype=float32),\n",
       "  array(0.00898442, dtype=float32),\n",
       "  array(0.00862559, dtype=float32),\n",
       "  array(0.0083861, dtype=float32),\n",
       "  array(0.00824471, dtype=float32),\n",
       "  array(0.00801204, dtype=float32),\n",
       "  array(0.00778588, dtype=float32),\n",
       "  array(0.00777136, dtype=float32),\n",
       "  array(0.00742209, dtype=float32),\n",
       "  array(0.00702406, dtype=float32),\n",
       "  array(0.006719, dtype=float32),\n",
       "  array(0.00643126, dtype=float32),\n",
       "  array(0.00712478, dtype=float32),\n",
       "  array(0.0068444, dtype=float32),\n",
       "  array(0.00636984, dtype=float32),\n",
       "  array(0.00619807, dtype=float32),\n",
       "  array(0.00608229, dtype=float32),\n",
       "  array(0.007042, dtype=float32),\n",
       "  array(0.00659049, dtype=float32),\n",
       "  array(0.00645851, dtype=float32),\n",
       "  array(0.00624307, dtype=float32),\n",
       "  array(0.00606056, dtype=float32),\n",
       "  array(0.00738678, dtype=float32),\n",
       "  array(0.00692962, dtype=float32),\n",
       "  array(0.00677735, dtype=float32),\n",
       "  array(0.00647262, dtype=float32),\n",
       "  array(0.00648314, dtype=float32),\n",
       "  array(0.00749765, dtype=float32),\n",
       "  array(0.00705823, dtype=float32),\n",
       "  array(0.0067874, dtype=float32),\n",
       "  array(0.00644492, dtype=float32),\n",
       "  array(0.00635158, dtype=float32),\n",
       "  array(0.00737563, dtype=float32),\n",
       "  array(0.00691118, dtype=float32),\n",
       "  array(0.00669323, dtype=float32),\n",
       "  array(0.00645247, dtype=float32),\n",
       "  array(0.006315, dtype=float32)],\n",
       " 'reg': [array(9.660302, dtype=float32),\n",
       "  array(9.002158, dtype=float32),\n",
       "  array(8.199638, dtype=float32),\n",
       "  array(8.368523, dtype=float32),\n",
       "  array(7.9935427, dtype=float32),\n",
       "  array(7.847827, dtype=float32),\n",
       "  array(7.8239245, dtype=float32),\n",
       "  array(7.796089, dtype=float32),\n",
       "  array(7.79344, dtype=float32),\n",
       "  array(7.7887306, dtype=float32),\n",
       "  array(7.8086348, dtype=float32),\n",
       "  array(7.7689786, dtype=float32),\n",
       "  array(7.7372537, dtype=float32),\n",
       "  array(7.7403917, dtype=float32),\n",
       "  array(7.7152596, dtype=float32),\n",
       "  array(7.7080474, dtype=float32),\n",
       "  array(7.7200317, dtype=float32),\n",
       "  array(7.707648, dtype=float32),\n",
       "  array(7.669165, dtype=float32),\n",
       "  array(7.6557217, dtype=float32),\n",
       "  array(7.6608715, dtype=float32),\n",
       "  array(7.6361685, dtype=float32),\n",
       "  array(7.6234455, dtype=float32),\n",
       "  array(7.593723, dtype=float32),\n",
       "  array(7.576575, dtype=float32),\n",
       "  array(7.5744066, dtype=float32),\n",
       "  array(7.53036, dtype=float32),\n",
       "  array(7.493299, dtype=float32),\n",
       "  array(7.4833455, dtype=float32),\n",
       "  array(7.4813023, dtype=float32),\n",
       "  array(7.499117, dtype=float32),\n",
       "  array(7.444825, dtype=float32),\n",
       "  array(7.4171543, dtype=float32),\n",
       "  array(7.419128, dtype=float32),\n",
       "  array(7.3744664, dtype=float32),\n",
       "  array(7.372653, dtype=float32),\n",
       "  array(7.3521957, dtype=float32),\n",
       "  array(7.3290586, dtype=float32),\n",
       "  array(7.3107367, dtype=float32),\n",
       "  array(7.303261, dtype=float32),\n",
       "  array(7.296197, dtype=float32),\n",
       "  array(7.2757473, dtype=float32),\n",
       "  array(7.225612, dtype=float32),\n",
       "  array(7.196826, dtype=float32),\n",
       "  array(7.1717796, dtype=float32),\n",
       "  array(7.1747403, dtype=float32),\n",
       "  array(7.161183, dtype=float32),\n",
       "  array(7.156957, dtype=float32),\n",
       "  array(7.1439095, dtype=float32),\n",
       "  array(7.1306086, dtype=float32)]}"
      ]
     },
     "execution_count": 2,
     "metadata": {},
     "output_type": "execute_result"
    }
   ],
   "source": [
    "# train the model\n",
    "model.train(dataset, opt=\"LBFGS\", steps=50, lamb=5e-5, lamb_entropy=2., device=device)"
   ]
  },
  {
   "cell_type": "code",
   "execution_count": 3,
   "metadata": {},
   "outputs": [
    {
     "data": {
      "image/png": "[encoded data removed]",
      "text/plain": [
       "<Figure size 500x600 with 12 Axes>"
      ]
     },
     "metadata": {},
     "output_type": "display_data"
    }
   ],
   "source": [
    "model = model.prune()\n",
    "model(dataset['train_input'])\n",
    "model.plot()"
   ]
  },
  {
   "cell_type": "code",
   "execution_count": 7,
   "metadata": {},
   "outputs": [
    {
     "data": {
      "image/png": "[encoded data removed]",
      "text/plain": [
       "<Figure size 500x600 with 12 Axes>"
      ]
     },
     "metadata": {},
     "output_type": "display_data"
    }
   ],
   "source": [
    "model.plot(beta=10)"
   ]
  },
  {
   "cell_type": "code",
   "execution_count": 4,
   "metadata": {},
   "outputs": [
    {
     "name": "stdout",
     "output_type": "stream",
     "text": [
      "fixing (0,0,0) with abs, r2=0.8442462086677551\n",
      "fixing (0,0,1) with x^2, r2=0.999998927116394\n",
      "fixing (0,1,0) with tanh, r2=0.7874206900596619\n",
      "fixing (0,1,1) with x^2, r2=0.9999997019767761\n",
      "fixing (0,2,0) with x^2, r2=0.9999996423721313\n",
      "fixing (0,2,1) with gaussian, r2=0.744812548160553\n",
      "fixing (0,3,0) with x^2, r2=0.9999992251396179\n",
      "fixing (0,3,1) with gaussian, r2=0.6414632201194763\n",
      "fixing (1,0,0) with sin, r2=0.9998893141746521\n",
      "fixing (1,1,0) with sin, r2=0.9998884201049805\n",
      "fixing (2,0,0) with exp, r2=0.9999954700469971\n"
     ]
    }
   ],
   "source": [
    "model.auto_symbolic()"
   ]
  },
  {
   "cell_type": "code",
   "execution_count": 5,
   "metadata": {},
   "outputs": [
    {
     "data": {
      "text/latex": [
       "$\\displaystyle 1.02 e^{0.49 \\sin{\\left(3.14 x_{3}^{2} + 3.14 x_{4}^{2} - 6.28 \\right)} - 0.49 \\sin{\\left(3.14 x_{1}^{2} + 3.14 x_{2}^{2} + 3.14 + 0.02 e^{- 83.98 \\left(- 0.98 x_{4} - 1\\right)^{2}} + 0.02 e^{- 80.37 \\left(- 0.98 x_{3} - 1\\right)^{2}} \\right)}} - 0.02$"
      ],
      "text/plain": [
       "1.02*exp(0.49*sin(3.14*x_3**2 + 3.14*x_4**2 - 6.28) - 0.49*sin(3.14*x_1**2 + 3.14*x_2**2 + 3.14 + 0.02*exp(-83.98*(-0.98*x_4 - 1)**2) + 0.02*exp(-80.37*(-0.98*x_3 - 1)**2))) - 0.02"
      ]
     },
     "execution_count": 5,
     "metadata": {},
     "output_type": "execute_result"
    }
   ],
   "source": [
    "formula, variables = model.symbolic_formula()\n",
    "formula[0]"
   ]
  },
  {
   "cell_type": "markdown",
   "metadata": {},
   "source": [
    "## Function fitting"
   ]
  },
  {
   "cell_type": "code",
   "execution_count": 2,
   "metadata": {},
   "outputs": [
    {
     "name": "stderr",
     "output_type": "stream",
     "text": [
      "train loss: 1.07e-02 | test loss: 1.09e-02 | reg: 6.53e+00 : 100%|██| 20/20 [00:03<00:00,  6.35it/s]\n"
     ]
    }
   ],
   "source": [
    "from kan import KAN, create_dataset\n",
    "import torch\n",
    "\n",
    "# create a KAN: 2D inputs, 1D output, and 5 hidden neurons. cubic spline (k=3), 5 grid intervals (grid=5).\n",
    "model = KAN(width=[4,2,1,1], grid=3, k=3, seed=0)\n",
    "f = lambda x: torch.exp((torch.sin(torch.pi*(x[:,[0]]**2+x[:,[1]]**2))+torch.sin(torch.pi*(x[:,[2]]**2+x[:,[3]]**2)))/2)\n",
    "dataset = create_dataset(f, n_var=4, train_num=3000)\n",
    "\n",
    "# train the model\n",
    "model.train(dataset, opt=\"LBFGS\", steps=20, lamb=0.001, lamb_entropy=2.);"
   ]
  },
  {
   "cell_type": "code",
   "execution_count": 3,
   "metadata": {},
   "outputs": [
    {
     "name": "stderr",
     "output_type": "stream",
     "text": [
      "description:   0%|                                                           | 0/50 [00:00<?, ?it/s]\n"
     ]
    },
    {
     "ename": "RuntimeError",
     "evalue": "Expected all tensors to be on the same device, but found at least two devices, cuda:0 and cpu!",
     "output_type": "error",
     "traceback": [
      "\u001b[0;31m---------------------------------------------------------------------------\u001b[0m",
      "\u001b[0;31mRuntimeError\u001b[0m                              Traceback (most recent call last)",
      "Cell \u001b[0;32mIn[3], line 7\u001b[0m\n\u001b[1;32m      3\u001b[0m dataset \u001b[38;5;241m=\u001b[39m create_dataset(f, n_var\u001b[38;5;241m=\u001b[39m\u001b[38;5;241m4\u001b[39m, train_num\u001b[38;5;241m=\u001b[39m\u001b[38;5;241m3000\u001b[39m, device\u001b[38;5;241m=\u001b[39mdevice)\n\u001b[1;32m      5\u001b[0m \u001b[38;5;66;03m# train the model\u001b[39;00m\n\u001b[1;32m      6\u001b[0m \u001b[38;5;66;03m#model.train(dataset, opt=\"LBFGS\", steps=20, lamb=1e-3, lamb_entropy=2.);\u001b[39;00m\n\u001b[0;32m----> 7\u001b[0m \u001b[43mmodel\u001b[49m\u001b[38;5;241;43m.\u001b[39;49m\u001b[43mtrain\u001b[49m\u001b[43m(\u001b[49m\u001b[43mdataset\u001b[49m\u001b[43m,\u001b[49m\u001b[43m \u001b[49m\u001b[43mopt\u001b[49m\u001b[38;5;241;43m=\u001b[39;49m\u001b[38;5;124;43m\"\u001b[39;49m\u001b[38;5;124;43mLBFGS\u001b[39;49m\u001b[38;5;124;43m\"\u001b[39;49m\u001b[43m,\u001b[49m\u001b[43m \u001b[49m\u001b[43msteps\u001b[49m\u001b[38;5;241;43m=\u001b[39;49m\u001b[38;5;241;43m50\u001b[39;49m\u001b[43m,\u001b[49m\u001b[43m \u001b[49m\u001b[43mlamb\u001b[49m\u001b[38;5;241;43m=\u001b[39;49m\u001b[38;5;241;43m5e-5\u001b[39;49m\u001b[43m,\u001b[49m\u001b[43m \u001b[49m\u001b[43mlamb_entropy\u001b[49m\u001b[38;5;241;43m=\u001b[39;49m\u001b[38;5;241;43m2.\u001b[39;49m\u001b[43m)\u001b[49m;\n",
      "File \u001b[0;32m~/miniconda3/envs/torch/lib/python3.11/site-packages/kan/KAN.py:899\u001b[0m, in \u001b[0;36mKAN.train\u001b[0;34m(self, dataset, opt, steps, log, lamb, lamb_l1, lamb_entropy, lamb_coef, lamb_coefdiff, update_grid, grid_update_num, loss_fn, lr, stop_grid_update_step, batch, small_mag_threshold, small_reg_factor, metrics, sglr_avoid, save_fig, in_vars, out_vars, beta, save_fig_freq, img_folder, device)\u001b[0m\n\u001b[1;32m    896\u001b[0m test_id \u001b[38;5;241m=\u001b[39m np\u001b[38;5;241m.\u001b[39mrandom\u001b[38;5;241m.\u001b[39mchoice(dataset[\u001b[38;5;124m'\u001b[39m\u001b[38;5;124mtest_input\u001b[39m\u001b[38;5;124m'\u001b[39m]\u001b[38;5;241m.\u001b[39mshape[\u001b[38;5;241m0\u001b[39m], batch_size_test, replace\u001b[38;5;241m=\u001b[39m\u001b[38;5;28;01mFalse\u001b[39;00m)\n\u001b[1;32m    898\u001b[0m \u001b[38;5;28;01mif\u001b[39;00m _ \u001b[38;5;241m%\u001b[39m grid_update_freq \u001b[38;5;241m==\u001b[39m \u001b[38;5;241m0\u001b[39m \u001b[38;5;129;01mand\u001b[39;00m _ \u001b[38;5;241m<\u001b[39m stop_grid_update_step \u001b[38;5;129;01mand\u001b[39;00m update_grid:\n\u001b[0;32m--> 899\u001b[0m     \u001b[38;5;28;43mself\u001b[39;49m\u001b[38;5;241;43m.\u001b[39;49m\u001b[43mupdate_grid_from_samples\u001b[49m\u001b[43m(\u001b[49m\u001b[43mdataset\u001b[49m\u001b[43m[\u001b[49m\u001b[38;5;124;43m'\u001b[39;49m\u001b[38;5;124;43mtrain_input\u001b[39;49m\u001b[38;5;124;43m'\u001b[39;49m\u001b[43m]\u001b[49m\u001b[43m[\u001b[49m\u001b[43mtrain_id\u001b[49m\u001b[43m]\u001b[49m\u001b[38;5;241;43m.\u001b[39;49m\u001b[43mto\u001b[49m\u001b[43m(\u001b[49m\u001b[43mdevice\u001b[49m\u001b[43m)\u001b[49m\u001b[43m)\u001b[49m\n\u001b[1;32m    901\u001b[0m \u001b[38;5;28;01mif\u001b[39;00m opt \u001b[38;5;241m==\u001b[39m \u001b[38;5;124m\"\u001b[39m\u001b[38;5;124mLBFGS\u001b[39m\u001b[38;5;124m\"\u001b[39m:\n\u001b[1;32m    902\u001b[0m     optimizer\u001b[38;5;241m.\u001b[39mstep(closure)\n",
      "File \u001b[0;32m~/miniconda3/envs/torch/lib/python3.11/site-packages/kan/KAN.py:243\u001b[0m, in \u001b[0;36mKAN.update_grid_from_samples\u001b[0;34m(self, x)\u001b[0m\n\u001b[1;32m    220\u001b[0m \u001b[38;5;250m\u001b[39m\u001b[38;5;124;03m'''\u001b[39;00m\n\u001b[1;32m    221\u001b[0m \u001b[38;5;124;03mupdate grid from samples\u001b[39;00m\n\u001b[1;32m    222\u001b[0m \u001b[38;5;124;03m\u001b[39;00m\n\u001b[0;32m   (...)\u001b[0m\n\u001b[1;32m    240\u001b[0m \u001b[38;5;124;03mtensor([0.0128, 1.0064, 2.0000, 2.9937, 3.9873, 4.9809])\u001b[39;00m\n\u001b[1;32m    241\u001b[0m \u001b[38;5;124;03m'''\u001b[39;00m\n\u001b[1;32m    242\u001b[0m \u001b[38;5;28;01mfor\u001b[39;00m l \u001b[38;5;129;01min\u001b[39;00m \u001b[38;5;28mrange\u001b[39m(\u001b[38;5;28mself\u001b[39m\u001b[38;5;241m.\u001b[39mdepth):\n\u001b[0;32m--> 243\u001b[0m     \u001b[38;5;28;43mself\u001b[39;49m\u001b[38;5;241;43m.\u001b[39;49m\u001b[43mforward\u001b[49m\u001b[43m(\u001b[49m\u001b[43mx\u001b[49m\u001b[43m)\u001b[49m\n\u001b[1;32m    244\u001b[0m     \u001b[38;5;28mself\u001b[39m\u001b[38;5;241m.\u001b[39mact_fun[l]\u001b[38;5;241m.\u001b[39mupdate_grid_from_samples(\u001b[38;5;28mself\u001b[39m\u001b[38;5;241m.\u001b[39macts[l])\n",
      "File \u001b[0;32m~/miniconda3/envs/torch/lib/python3.11/site-packages/kan/KAN.py:311\u001b[0m, in \u001b[0;36mKAN.forward\u001b[0;34m(self, x)\u001b[0m\n\u001b[1;32m    307\u001b[0m \u001b[38;5;28mself\u001b[39m\u001b[38;5;241m.\u001b[39macts\u001b[38;5;241m.\u001b[39mappend(x)  \u001b[38;5;66;03m# acts shape: (batch, width[l])\u001b[39;00m\n\u001b[1;32m    309\u001b[0m \u001b[38;5;28;01mfor\u001b[39;00m l \u001b[38;5;129;01min\u001b[39;00m \u001b[38;5;28mrange\u001b[39m(\u001b[38;5;28mself\u001b[39m\u001b[38;5;241m.\u001b[39mdepth):\n\u001b[0;32m--> 311\u001b[0m     x_numerical, preacts, postacts_numerical, postspline \u001b[38;5;241m=\u001b[39m \u001b[38;5;28;43mself\u001b[39;49m\u001b[38;5;241;43m.\u001b[39;49m\u001b[43mact_fun\u001b[49m\u001b[43m[\u001b[49m\u001b[43ml\u001b[49m\u001b[43m]\u001b[49m\u001b[43m(\u001b[49m\u001b[43mx\u001b[49m\u001b[43m)\u001b[49m\n\u001b[1;32m    313\u001b[0m     \u001b[38;5;28;01mif\u001b[39;00m \u001b[38;5;28mself\u001b[39m\u001b[38;5;241m.\u001b[39msymbolic_enabled \u001b[38;5;241m==\u001b[39m \u001b[38;5;28;01mTrue\u001b[39;00m:\n\u001b[1;32m    314\u001b[0m         x_symbolic, postacts_symbolic \u001b[38;5;241m=\u001b[39m \u001b[38;5;28mself\u001b[39m\u001b[38;5;241m.\u001b[39msymbolic_fun[l](x)\n",
      "File \u001b[0;32m~/miniconda3/envs/torch/lib/python3.11/site-packages/torch/nn/modules/module.py:1501\u001b[0m, in \u001b[0;36mModule._call_impl\u001b[0;34m(self, *args, **kwargs)\u001b[0m\n\u001b[1;32m   1496\u001b[0m \u001b[38;5;66;03m# If we don't have any hooks, we want to skip the rest of the logic in\u001b[39;00m\n\u001b[1;32m   1497\u001b[0m \u001b[38;5;66;03m# this function, and just call forward.\u001b[39;00m\n\u001b[1;32m   1498\u001b[0m \u001b[38;5;28;01mif\u001b[39;00m \u001b[38;5;129;01mnot\u001b[39;00m (\u001b[38;5;28mself\u001b[39m\u001b[38;5;241m.\u001b[39m_backward_hooks \u001b[38;5;129;01mor\u001b[39;00m \u001b[38;5;28mself\u001b[39m\u001b[38;5;241m.\u001b[39m_backward_pre_hooks \u001b[38;5;129;01mor\u001b[39;00m \u001b[38;5;28mself\u001b[39m\u001b[38;5;241m.\u001b[39m_forward_hooks \u001b[38;5;129;01mor\u001b[39;00m \u001b[38;5;28mself\u001b[39m\u001b[38;5;241m.\u001b[39m_forward_pre_hooks\n\u001b[1;32m   1499\u001b[0m         \u001b[38;5;129;01mor\u001b[39;00m _global_backward_pre_hooks \u001b[38;5;129;01mor\u001b[39;00m _global_backward_hooks\n\u001b[1;32m   1500\u001b[0m         \u001b[38;5;129;01mor\u001b[39;00m _global_forward_hooks \u001b[38;5;129;01mor\u001b[39;00m _global_forward_pre_hooks):\n\u001b[0;32m-> 1501\u001b[0m     \u001b[38;5;28;01mreturn\u001b[39;00m \u001b[43mforward_call\u001b[49m\u001b[43m(\u001b[49m\u001b[38;5;241;43m*\u001b[39;49m\u001b[43margs\u001b[49m\u001b[43m,\u001b[49m\u001b[43m \u001b[49m\u001b[38;5;241;43m*\u001b[39;49m\u001b[38;5;241;43m*\u001b[39;49m\u001b[43mkwargs\u001b[49m\u001b[43m)\u001b[49m\n\u001b[1;32m   1502\u001b[0m \u001b[38;5;66;03m# Do not call functions when jit is used\u001b[39;00m\n\u001b[1;32m   1503\u001b[0m full_backward_hooks, non_full_backward_hooks \u001b[38;5;241m=\u001b[39m [], []\n",
      "File \u001b[0;32m~/miniconda3/envs/torch/lib/python3.11/site-packages/kan/KANLayer.py:170\u001b[0m, in \u001b[0;36mKANLayer.forward\u001b[0;34m(self, x)\u001b[0m\n\u001b[1;32m    168\u001b[0m batch \u001b[38;5;241m=\u001b[39m x\u001b[38;5;241m.\u001b[39mshape[\u001b[38;5;241m0\u001b[39m]\n\u001b[1;32m    169\u001b[0m \u001b[38;5;66;03m# x: shape (batch, in_dim) => shape (size, batch) (size = out_dim * in_dim)\u001b[39;00m\n\u001b[0;32m--> 170\u001b[0m x \u001b[38;5;241m=\u001b[39m \u001b[43mtorch\u001b[49m\u001b[38;5;241;43m.\u001b[39;49m\u001b[43meinsum\u001b[49m\u001b[43m(\u001b[49m\u001b[38;5;124;43m'\u001b[39;49m\u001b[38;5;124;43mij,k->ikj\u001b[39;49m\u001b[38;5;124;43m'\u001b[39;49m\u001b[43m,\u001b[49m\u001b[43m \u001b[49m\u001b[43mx\u001b[49m\u001b[43m,\u001b[49m\u001b[43m \u001b[49m\u001b[43mtorch\u001b[49m\u001b[38;5;241;43m.\u001b[39;49m\u001b[43mones\u001b[49m\u001b[43m(\u001b[49m\u001b[38;5;28;43mself\u001b[39;49m\u001b[38;5;241;43m.\u001b[39;49m\u001b[43mout_dim\u001b[49m\u001b[43m,\u001b[49m\u001b[43m \u001b[49m\u001b[43mdevice\u001b[49m\u001b[38;5;241;43m=\u001b[39;49m\u001b[38;5;28;43mself\u001b[39;49m\u001b[38;5;241;43m.\u001b[39;49m\u001b[43mdevice\u001b[49m\u001b[43m)\u001b[49m\u001b[43m)\u001b[49m\u001b[38;5;241m.\u001b[39mreshape(batch, \u001b[38;5;28mself\u001b[39m\u001b[38;5;241m.\u001b[39msize)\u001b[38;5;241m.\u001b[39mpermute(\u001b[38;5;241m1\u001b[39m, \u001b[38;5;241m0\u001b[39m)\n\u001b[1;32m    171\u001b[0m preacts \u001b[38;5;241m=\u001b[39m x\u001b[38;5;241m.\u001b[39mpermute(\u001b[38;5;241m1\u001b[39m, \u001b[38;5;241m0\u001b[39m)\u001b[38;5;241m.\u001b[39mclone()\u001b[38;5;241m.\u001b[39mreshape(batch, \u001b[38;5;28mself\u001b[39m\u001b[38;5;241m.\u001b[39mout_dim, \u001b[38;5;28mself\u001b[39m\u001b[38;5;241m.\u001b[39min_dim)\n\u001b[1;32m    172\u001b[0m base \u001b[38;5;241m=\u001b[39m \u001b[38;5;28mself\u001b[39m\u001b[38;5;241m.\u001b[39mbase_fun(x)\u001b[38;5;241m.\u001b[39mpermute(\u001b[38;5;241m1\u001b[39m, \u001b[38;5;241m0\u001b[39m)  \u001b[38;5;66;03m# shape (batch, size)\u001b[39;00m\n",
      "File \u001b[0;32m~/miniconda3/envs/torch/lib/python3.11/site-packages/torch/functional.py:378\u001b[0m, in \u001b[0;36meinsum\u001b[0;34m(*args)\u001b[0m\n\u001b[1;32m    373\u001b[0m     \u001b[38;5;28;01mreturn\u001b[39;00m einsum(equation, \u001b[38;5;241m*\u001b[39m_operands)\n\u001b[1;32m    375\u001b[0m \u001b[38;5;28;01mif\u001b[39;00m \u001b[38;5;28mlen\u001b[39m(operands) \u001b[38;5;241m<\u001b[39m\u001b[38;5;241m=\u001b[39m \u001b[38;5;241m2\u001b[39m \u001b[38;5;129;01mor\u001b[39;00m \u001b[38;5;129;01mnot\u001b[39;00m opt_einsum\u001b[38;5;241m.\u001b[39menabled:\n\u001b[1;32m    376\u001b[0m     \u001b[38;5;66;03m# the path for contracting 0 or 1 time(s) is already optimized\u001b[39;00m\n\u001b[1;32m    377\u001b[0m     \u001b[38;5;66;03m# or the user has disabled using opt_einsum\u001b[39;00m\n\u001b[0;32m--> 378\u001b[0m     \u001b[38;5;28;01mreturn\u001b[39;00m \u001b[43m_VF\u001b[49m\u001b[38;5;241;43m.\u001b[39;49m\u001b[43meinsum\u001b[49m\u001b[43m(\u001b[49m\u001b[43mequation\u001b[49m\u001b[43m,\u001b[49m\u001b[43m \u001b[49m\u001b[43moperands\u001b[49m\u001b[43m)\u001b[49m  \u001b[38;5;66;03m# type: ignore[attr-defined]\u001b[39;00m\n\u001b[1;32m    380\u001b[0m path \u001b[38;5;241m=\u001b[39m \u001b[38;5;28;01mNone\u001b[39;00m\n\u001b[1;32m    381\u001b[0m \u001b[38;5;28;01mif\u001b[39;00m opt_einsum\u001b[38;5;241m.\u001b[39mis_available():\n",
      "\u001b[0;31mRuntimeError\u001b[0m: Expected all tensors to be on the same device, but found at least two devices, cuda:0 and cpu!"
     ]
    }
   ],
   "source": []
  },
  {
   "cell_type": "code",
   "execution_count": 24,
   "metadata": {},
   "outputs": [
    {
     "data": {
      "text/plain": [
       "(torch.Size([1000, 7]), torch.Size([1000, 1]))"
      ]
     },
     "execution_count": 24,
     "metadata": {},
     "output_type": "execute_result"
    }
   ],
   "source": [
    "# create dataset f(x,y) = exp(sin(pi*x)+y^2)\n",
    "f = lambda x: torch.exp(torch.sin(torch.pi*x[:,[0]]) + x[:,[1]]**2)\n",
    "dataset = create_dataset(f, n_var=7)\n",
    "dataset['train_input'].shape, dataset['train_label'].shape"
   ]
  },
  {
   "cell_type": "code",
   "execution_count": 25,
   "metadata": {},
   "outputs": [],
   "source": [
    "# create a KAN: 2D inputs, 1D output, and 5 hidden neurons. cubic spline (k=3), 5 grid intervals (grid=5).\n",
    "model = KAN(width=[7,5,1], grid=5, k=3, seed=0)"
   ]
  },
  {
   "cell_type": "code",
   "execution_count": 26,
   "metadata": {},
   "outputs": [
    {
     "data": {
      "image/png": "[encoded data removed]",
      "text/plain": [
       "<Figure size 360x288 with 41 Axes>"
      ]
     },
     "metadata": {
      "needs_background": "light"
     },
     "output_type": "display_data"
    }
   ],
   "source": [
    "# plot KAN at initialization\n",
    "model(dataset['train_input']);\n",
    "model.plot(beta=100)"
   ]
  },
  {
   "cell_type": "code",
   "execution_count": 27,
   "metadata": {},
   "outputs": [
    {
     "name": "stderr",
     "output_type": "stream",
     "text": [
      "train loss: 9.84e-02 | test loss: 1.03e-01 | reg: 3.46e+01 : 100%|██| 50/50 [00:08<00:00,  5.57it/s]\n"
     ]
    },
    {
     "data": {
      "text/plain": [
       "{'train_loss': [array(0.12136877, dtype=float32),\n",
       "  array(0.0996988, dtype=float32),\n",
       "  array(0.09379077, dtype=float32),\n",
       "  array(0.09332357, dtype=float32),\n",
       "  array(0.09211436, dtype=float32),\n",
       "  array(0.09291278, dtype=float32),\n",
       "  array(0.09351043, dtype=float32),\n",
       "  array(0.09563819, dtype=float32),\n",
       "  array(0.09062695, dtype=float32),\n",
       "  array(0.09094427, dtype=float32),\n",
       "  array(0.09131847, dtype=float32),\n",
       "  array(0.09109137, dtype=float32),\n",
       "  array(0.08868645, dtype=float32),\n",
       "  array(0.08780888, dtype=float32),\n",
       "  array(0.08696575, dtype=float32),\n",
       "  array(0.08647335, dtype=float32),\n",
       "  array(0.08618341, dtype=float32),\n",
       "  array(0.08564259, dtype=float32),\n",
       "  array(0.08540654, dtype=float32),\n",
       "  array(0.08510268, dtype=float32),\n",
       "  array(0.08463527, dtype=float32),\n",
       "  array(0.08435148, dtype=float32),\n",
       "  array(0.0840088, dtype=float32),\n",
       "  array(0.08395361, dtype=float32),\n",
       "  array(0.08392111, dtype=float32),\n",
       "  array(0.08509728, dtype=float32),\n",
       "  array(0.08491676, dtype=float32),\n",
       "  array(0.08494982, dtype=float32),\n",
       "  array(0.08456044, dtype=float32),\n",
       "  array(0.08590198, dtype=float32),\n",
       "  array(0.08842614, dtype=float32),\n",
       "  array(0.09118818, dtype=float32),\n",
       "  array(0.09288559, dtype=float32),\n",
       "  array(0.09262047, dtype=float32),\n",
       "  array(0.09450983, dtype=float32),\n",
       "  array(0.09462629, dtype=float32),\n",
       "  array(0.10207388, dtype=float32),\n",
       "  array(0.10320741, dtype=float32),\n",
       "  array(0.09814487, dtype=float32),\n",
       "  array(0.09759206, dtype=float32),\n",
       "  array(0.09552352, dtype=float32),\n",
       "  array(0.09624564, dtype=float32),\n",
       "  array(0.09812159, dtype=float32),\n",
       "  array(0.09765157, dtype=float32),\n",
       "  array(0.09966009, dtype=float32),\n",
       "  array(0.1010204, dtype=float32),\n",
       "  array(0.09982257, dtype=float32),\n",
       "  array(0.09895904, dtype=float32),\n",
       "  array(0.09884766, dtype=float32),\n",
       "  array(0.09838891, dtype=float32)],\n",
       " 'test_loss': [array(0.12721248, dtype=float32),\n",
       "  array(0.10131238, dtype=float32),\n",
       "  array(0.09751216, dtype=float32),\n",
       "  array(0.09874821, dtype=float32),\n",
       "  array(0.09877292, dtype=float32),\n",
       "  array(0.09494136, dtype=float32),\n",
       "  array(0.09633806, dtype=float32),\n",
       "  array(0.09859373, dtype=float32),\n",
       "  array(0.09524097, dtype=float32),\n",
       "  array(0.09612189, dtype=float32),\n",
       "  array(0.09634746, dtype=float32),\n",
       "  array(0.0964878, dtype=float32),\n",
       "  array(0.0944126, dtype=float32),\n",
       "  array(0.09352178, dtype=float32),\n",
       "  array(0.09315374, dtype=float32),\n",
       "  array(0.09267142, dtype=float32),\n",
       "  array(0.09255704, dtype=float32),\n",
       "  array(0.09216843, dtype=float32),\n",
       "  array(0.09190524, dtype=float32),\n",
       "  array(0.09163355, dtype=float32),\n",
       "  array(0.09135938, dtype=float32),\n",
       "  array(0.09109497, dtype=float32),\n",
       "  array(0.09084751, dtype=float32),\n",
       "  array(0.09081875, dtype=float32),\n",
       "  array(0.0907727, dtype=float32),\n",
       "  array(0.09184898, dtype=float32),\n",
       "  array(0.09141443, dtype=float32),\n",
       "  array(0.0911685, dtype=float32),\n",
       "  array(0.09063016, dtype=float32),\n",
       "  array(0.09247613, dtype=float32),\n",
       "  array(0.09648184, dtype=float32),\n",
       "  array(0.10044663, dtype=float32),\n",
       "  array(0.10097875, dtype=float32),\n",
       "  array(0.10062841, dtype=float32),\n",
       "  array(0.1016918, dtype=float32),\n",
       "  array(0.09947448, dtype=float32),\n",
       "  array(0.10518689, dtype=float32),\n",
       "  array(0.10757434, dtype=float32),\n",
       "  array(0.10294283, dtype=float32),\n",
       "  array(0.10261086, dtype=float32),\n",
       "  array(0.09943175, dtype=float32),\n",
       "  array(0.09971506, dtype=float32),\n",
       "  array(0.10128074, dtype=float32),\n",
       "  array(0.10115949, dtype=float32),\n",
       "  array(0.10207982, dtype=float32),\n",
       "  array(0.10392692, dtype=float32),\n",
       "  array(0.10312569, dtype=float32),\n",
       "  array(0.10339884, dtype=float32),\n",
       "  array(0.10313378, dtype=float32),\n",
       "  array(0.1025024, dtype=float32)],\n",
       " 'reg': [array(55.296074, dtype=float32),\n",
       "  array(50.17091, dtype=float32),\n",
       "  array(48.982384, dtype=float32),\n",
       "  array(48.369106, dtype=float32),\n",
       "  array(47.751907, dtype=float32),\n",
       "  array(40.049942, dtype=float32),\n",
       "  array(39.766113, dtype=float32),\n",
       "  array(39.412556, dtype=float32),\n",
       "  array(38.953857, dtype=float32),\n",
       "  array(38.55815, dtype=float32),\n",
       "  array(38.383484, dtype=float32),\n",
       "  array(38.315964, dtype=float32),\n",
       "  array(38.238087, dtype=float32),\n",
       "  array(38.146545, dtype=float32),\n",
       "  array(37.96673, dtype=float32),\n",
       "  array(37.905872, dtype=float32),\n",
       "  array(37.844814, dtype=float32),\n",
       "  array(37.78163, dtype=float32),\n",
       "  array(37.745316, dtype=float32),\n",
       "  array(37.721573, dtype=float32),\n",
       "  array(37.67917, dtype=float32),\n",
       "  array(37.597668, dtype=float32),\n",
       "  array(37.519447, dtype=float32),\n",
       "  array(37.47448, dtype=float32),\n",
       "  array(37.448914, dtype=float32),\n",
       "  array(37.353683, dtype=float32),\n",
       "  array(37.225082, dtype=float32),\n",
       "  array(37.136845, dtype=float32),\n",
       "  array(37.052567, dtype=float32),\n",
       "  array(36.727356, dtype=float32),\n",
       "  array(37.721733, dtype=float32),\n",
       "  array(37.106857, dtype=float32),\n",
       "  array(36.92859, dtype=float32),\n",
       "  array(36.737328, dtype=float32),\n",
       "  array(36.597027, dtype=float32),\n",
       "  array(36.842136, dtype=float32),\n",
       "  array(36.196632, dtype=float32),\n",
       "  array(35.696827, dtype=float32),\n",
       "  array(35.46795, dtype=float32),\n",
       "  array(35.212337, dtype=float32),\n",
       "  array(35.72814, dtype=float32),\n",
       "  array(35.308624, dtype=float32),\n",
       "  array(35.02083, dtype=float32),\n",
       "  array(34.83274, dtype=float32),\n",
       "  array(34.61114, dtype=float32),\n",
       "  array(34.940285, dtype=float32),\n",
       "  array(34.738262, dtype=float32),\n",
       "  array(34.64344, dtype=float32),\n",
       "  array(34.59636, dtype=float32),\n",
       "  array(34.583763, dtype=float32)]}"
      ]
     },
     "execution_count": 27,
     "metadata": {},
     "output_type": "execute_result"
    }
   ],
   "source": [
    "# train the model\n",
    "model.train(dataset, opt=\"LBFGS\", steps=50, lamb=0.01, lamb_entropy=10.)"
   ]
  },
  {
   "cell_type": "code",
   "execution_count": 28,
   "metadata": {},
   "outputs": [
    {
     "data": {
      "image/png": "[encoded data removed]",
      "text/plain": [
       "<Figure size 360x288 with 41 Axes>"
      ]
     },
     "metadata": {
      "needs_background": "light"
     },
     "output_type": "display_data"
    }
   ],
   "source": [
    "model.plot()"
   ]
  },
  {
   "cell_type": "code",
   "execution_count": 29,
   "metadata": {},
   "outputs": [
    {
     "data": {
      "image/png": "[encoded data removed]",
      "text/plain": [
       "<Figure size 360x288 with 41 Axes>"
      ]
     },
     "metadata": {
      "needs_background": "light"
     },
     "output_type": "display_data"
    }
   ],
   "source": [
    "model.prune()\n",
    "model.plot(mask=True)"
   ]
  },
  {
   "cell_type": "code",
   "execution_count": 19,
   "metadata": {},
   "outputs": [
    {
     "name": "stderr",
     "output_type": "stream",
     "text": [
      "train loss: 2.89e-03 | test loss: 3.02e-03 | reg: 1.02e+01 : 100%|██| 50/50 [00:03<00:00, 13.67it/s]\n"
     ]
    },
    {
     "data": {
      "text/plain": [
       "{'train_loss': [array(0.02350469, dtype=float32),\n",
       "  array(0.02222909, dtype=float32),\n",
       "  array(0.01834214, dtype=float32),\n",
       "  array(0.00959954, dtype=float32),\n",
       "  array(0.00334536, dtype=float32),\n",
       "  array(0.00310236, dtype=float32),\n",
       "  array(0.00309251, dtype=float32),\n",
       "  array(0.00304651, dtype=float32),\n",
       "  array(0.00302985, dtype=float32),\n",
       "  array(0.00302959, dtype=float32),\n",
       "  array(0.00302923, dtype=float32),\n",
       "  array(0.00302766, dtype=float32),\n",
       "  array(0.00302721, dtype=float32),\n",
       "  array(0.00302722, dtype=float32),\n",
       "  array(0.00302722, dtype=float32),\n",
       "  array(0.00302722, dtype=float32),\n",
       "  array(0.00302721, dtype=float32),\n",
       "  array(0.00302722, dtype=float32),\n",
       "  array(0.00302722, dtype=float32),\n",
       "  array(0.00302722, dtype=float32),\n",
       "  array(0.00302722, dtype=float32),\n",
       "  array(0.00302722, dtype=float32),\n",
       "  array(0.00302722, dtype=float32),\n",
       "  array(0.00302722, dtype=float32),\n",
       "  array(0.00302722, dtype=float32),\n",
       "  array(0.00302722, dtype=float32),\n",
       "  array(0.00302722, dtype=float32),\n",
       "  array(0.00302722, dtype=float32),\n",
       "  array(0.00302722, dtype=float32),\n",
       "  array(0.00302722, dtype=float32),\n",
       "  array(0.00302719, dtype=float32),\n",
       "  array(0.00302719, dtype=float32),\n",
       "  array(0.00302719, dtype=float32),\n",
       "  array(0.00302719, dtype=float32),\n",
       "  array(0.00302719, dtype=float32),\n",
       "  array(0.00302719, dtype=float32),\n",
       "  array(0.00302719, dtype=float32),\n",
       "  array(0.00302719, dtype=float32),\n",
       "  array(0.00302719, dtype=float32),\n",
       "  array(0.00302712, dtype=float32),\n",
       "  array(0.00302374, dtype=float32),\n",
       "  array(0.00301523, dtype=float32),\n",
       "  array(0.00300976, dtype=float32),\n",
       "  array(0.00299649, dtype=float32),\n",
       "  array(0.00297001, dtype=float32),\n",
       "  array(0.00295134, dtype=float32),\n",
       "  array(0.0029334, dtype=float32),\n",
       "  array(0.0029272, dtype=float32),\n",
       "  array(0.00291763, dtype=float32),\n",
       "  array(0.00289436, dtype=float32)],\n",
       " 'test_loss': [array(0.02415469, dtype=float32),\n",
       "  array(0.02291617, dtype=float32),\n",
       "  array(0.01893709, dtype=float32),\n",
       "  array(0.01007254, dtype=float32),\n",
       "  array(0.00346959, dtype=float32),\n",
       "  array(0.00323202, dtype=float32),\n",
       "  array(0.00320478, dtype=float32),\n",
       "  array(0.00315382, dtype=float32),\n",
       "  array(0.00314328, dtype=float32),\n",
       "  array(0.00314167, dtype=float32),\n",
       "  array(0.00314371, dtype=float32),\n",
       "  array(0.00314386, dtype=float32),\n",
       "  array(0.00314533, dtype=float32),\n",
       "  array(0.00314533, dtype=float32),\n",
       "  array(0.00314533, dtype=float32),\n",
       "  array(0.00314533, dtype=float32),\n",
       "  array(0.00314533, dtype=float32),\n",
       "  array(0.00314533, dtype=float32),\n",
       "  array(0.00314533, dtype=float32),\n",
       "  array(0.00314533, dtype=float32),\n",
       "  array(0.00314533, dtype=float32),\n",
       "  array(0.00314533, dtype=float32),\n",
       "  array(0.00314533, dtype=float32),\n",
       "  array(0.00314533, dtype=float32),\n",
       "  array(0.00314533, dtype=float32),\n",
       "  array(0.00314533, dtype=float32),\n",
       "  array(0.00314533, dtype=float32),\n",
       "  array(0.00314533, dtype=float32),\n",
       "  array(0.00314533, dtype=float32),\n",
       "  array(0.00314533, dtype=float32),\n",
       "  array(0.00314474, dtype=float32),\n",
       "  array(0.00314474, dtype=float32),\n",
       "  array(0.00314474, dtype=float32),\n",
       "  array(0.00314474, dtype=float32),\n",
       "  array(0.00314474, dtype=float32),\n",
       "  array(0.00314474, dtype=float32),\n",
       "  array(0.00314474, dtype=float32),\n",
       "  array(0.00314474, dtype=float32),\n",
       "  array(0.00314474, dtype=float32),\n",
       "  array(0.0031452, dtype=float32),\n",
       "  array(0.00313723, dtype=float32),\n",
       "  array(0.00313705, dtype=float32),\n",
       "  array(0.00313378, dtype=float32),\n",
       "  array(0.00311882, dtype=float32),\n",
       "  array(0.00309333, dtype=float32),\n",
       "  array(0.00307475, dtype=float32),\n",
       "  array(0.00305721, dtype=float32),\n",
       "  array(0.00305161, dtype=float32),\n",
       "  array(0.00304673, dtype=float32),\n",
       "  array(0.00302248, dtype=float32)],\n",
       " 'reg': [array(10.760906, dtype=float32),\n",
       "  array(9.41571, dtype=float32),\n",
       "  array(11.47701, dtype=float32),\n",
       "  array(11.417397, dtype=float32),\n",
       "  array(10.433836, dtype=float32),\n",
       "  array(9.498095, dtype=float32),\n",
       "  array(9.426588, dtype=float32),\n",
       "  array(8.879662, dtype=float32),\n",
       "  array(9.041891, dtype=float32),\n",
       "  array(9.084202, dtype=float32),\n",
       "  array(8.978897, dtype=float32),\n",
       "  array(9.073014, dtype=float32),\n",
       "  array(9.089323, dtype=float32),\n",
       "  array(9.089323, dtype=float32),\n",
       "  array(9.089323, dtype=float32),\n",
       "  array(9.091618, dtype=float32),\n",
       "  array(9.091618, dtype=float32),\n",
       "  array(9.091618, dtype=float32),\n",
       "  array(9.091618, dtype=float32),\n",
       "  array(9.091618, dtype=float32),\n",
       "  array(9.091618, dtype=float32),\n",
       "  array(9.091618, dtype=float32),\n",
       "  array(9.091618, dtype=float32),\n",
       "  array(9.091618, dtype=float32),\n",
       "  array(9.091618, dtype=float32),\n",
       "  array(9.091618, dtype=float32),\n",
       "  array(9.091618, dtype=float32),\n",
       "  array(9.091618, dtype=float32),\n",
       "  array(9.091618, dtype=float32),\n",
       "  array(9.091618, dtype=float32),\n",
       "  array(9.098218, dtype=float32),\n",
       "  array(9.098219, dtype=float32),\n",
       "  array(9.098218, dtype=float32),\n",
       "  array(9.098218, dtype=float32),\n",
       "  array(9.098219, dtype=float32),\n",
       "  array(9.09844, dtype=float32),\n",
       "  array(9.09844, dtype=float32),\n",
       "  array(9.09844, dtype=float32),\n",
       "  array(9.09844, dtype=float32),\n",
       "  array(9.122606, dtype=float32),\n",
       "  array(9.348321, dtype=float32),\n",
       "  array(9.453423, dtype=float32),\n",
       "  array(9.411099, dtype=float32),\n",
       "  array(9.181643, dtype=float32),\n",
       "  array(8.90172, dtype=float32),\n",
       "  array(9.424631, dtype=float32),\n",
       "  array(9.472161, dtype=float32),\n",
       "  array(9.613392, dtype=float32),\n",
       "  array(9.776817, dtype=float32),\n",
       "  array(10.171331, dtype=float32)]}"
      ]
     },
     "execution_count": 19,
     "metadata": {},
     "output_type": "execute_result"
    }
   ],
   "source": [
    "model.train(dataset, opt=\"LBFGS\", steps=50)"
   ]
  },
  {
   "cell_type": "code",
   "execution_count": 20,
   "metadata": {},
   "outputs": [
    {
     "data": {
      "image/png": "[encoded data removed]",
      "text/plain": [
       "<Figure size 360x288 with 16 Axes>"
      ]
     },
     "metadata": {
      "needs_background": "light"
     },
     "output_type": "display_data"
    }
   ],
   "source": [
    "model.plot()"
   ]
  },
  {
   "cell_type": "code",
   "execution_count": 30,
   "metadata": {},
   "outputs": [
    {
     "name": "stdout",
     "output_type": "stream",
     "text": [
      "fixing (0,0,0) with sin, r2=0.9576186537742615\n",
      "fixing (0,0,1) with sin, r2=0.3239237368106842\n",
      "fixing (0,0,2) with sin, r2=0.997187077999115\n",
      "fixing (0,0,3) with sin, r2=0.9861669540405273\n",
      "fixing (0,0,4) with sin, r2=0.9962937831878662\n",
      "fixing (0,1,0) with abs, r2=0.9564622044563293\n",
      "fixing (0,1,1) with exp, r2=0.6534761190414429\n",
      "fixing (0,1,2) with x^2, r2=0.9945873618125916\n",
      "fixing (0,1,3) with x^2, r2=0.9894022345542908\n",
      "fixing (0,1,4) with x^2, r2=0.9634655117988586\n",
      "fixing (0,2,0) with sin, r2=0.41642436385154724\n",
      "fixing (0,2,1) with sin, r2=0.6230586767196655\n",
      "fixing (0,2,2) with sin, r2=0.6731359958648682\n",
      "fixing (0,2,3) with tanh, r2=0.48331400752067566\n",
      "fixing (0,2,4) with abs, r2=0.5501207709312439\n",
      "fixing (0,3,0) with sin, r2=0.31799718737602234\n",
      "fixing (0,3,1) with sin, r2=0.3138067126274109\n",
      "fixing (0,3,2) with tanh, r2=0.5238220691680908\n",
      "fixing (0,3,3) with tanh, r2=0.6943134665489197\n",
      "fixing (0,3,4) with sin, r2=0.5755106210708618\n",
      "fixing (0,4,0) with tanh, r2=0.3921043574810028\n",
      "fixing (0,4,1) with sin, r2=0.3181556165218353\n",
      "fixing (0,4,2) with tanh, r2=0.5283384323120117\n",
      "fixing (0,4,3) with tanh, r2=0.8898867964744568\n",
      "fixing (0,4,4) with tanh, r2=0.6336472630500793\n",
      "fixing (0,5,0) with sin, r2=0.43934211134910583\n",
      "fixing (0,5,1) with tanh, r2=0.43220412731170654\n",
      "fixing (0,5,2) with tanh, r2=0.6271581649780273\n",
      "fixing (0,5,3) with tanh, r2=0.763441264629364\n",
      "fixing (0,5,4) with tanh, r2=0.8457610011100769\n",
      "fixing (0,6,0) with sin, r2=0.451310932636261\n",
      "fixing (0,6,1) with sin, r2=0.44498661160469055\n",
      "fixing (0,6,2) with tanh, r2=0.4185939431190491\n",
      "fixing (0,6,3) with tanh, r2=0.499996542930603\n",
      "fixing (0,6,4) with sin, r2=0.6184070110321045\n",
      "fixing (1,0,0) with abs, r2=0.9836263060569763\n",
      "fixing (1,1,0) with exp, r2=0.41718682646751404\n",
      "fixing (1,2,0) with tanh, r2=0.9948435425758362\n",
      "fixing (1,3,0) with tanh, r2=0.9999379515647888\n",
      "fixing (1,4,0) with x^3, r2=0.950372040271759\n"
     ]
    }
   ],
   "source": [
    "mode = \"auto\" \n",
    "# mode = \"manual\"\n",
    "\n",
    "if mode == \"manual\":\n",
    "    # manual mode\n",
    "    model.fix_symbolic(0,0,0,'sin');\n",
    "    model.fix_symbolic(0,1,0,'x^2');\n",
    "    model.fix_symbolic(1,0,0,'exp');\n",
    "elif mode == \"auto\":\n",
    "    # automatic mode\n",
    "    lib = ['x','x^2','x^3','x^4','exp','log','sqrt','tanh','sin','abs']\n",
    "    model.auto_symbolic(lib=lib)"
   ]
  },
  {
   "cell_type": "code",
   "execution_count": 31,
   "metadata": {},
   "outputs": [
    {
     "data": {
      "text/latex": [
       "$\\displaystyle - 0.14 \\left(- 0.33 \\left(- x_{2} - 0.08\\right)^{2} + \\sin{\\left(2.9 x_{1} + 3.19 \\right)} + 0.01 \\tanh{\\left(10.0 x_{6} - 10.0 \\right)} + 0.05\\right)^{3} + 1.76 \\tanh{\\left(2.05 \\left(x_{2} + 0.01\\right)^{2} + 1.32 \\sin{\\left(2.76 x_{1} - 6.19 \\right)} - 2.83 \\right)} - 1.82 \\tanh{\\left(- 0.25 \\left(0.08 - x_{2}\\right)^{2} + 0.68 \\sin{\\left(3.29 x_{1} - 3.21 \\right)} + 0.01 \\tanh{\\left(9.8 x_{4} - 10.0 \\right)} + 0.59 \\right)} + 3.12 \\left|{0.09 \\sin{\\left(3.01 x_{1} + 9.58 \\right)} + 0.01 \\sin{\\left(10.0 x_{6} - 3.0 \\right)} + 0.01 \\tanh{\\left(10.0 x_{5} + 9.6 \\right)} - 0.03 \\left|{10.0 x_{2} + 0.2}\\right|}\\right| + 3.6$"
      ],
      "text/plain": [
       "-0.14*(-0.33*(-x_2 - 0.08)**2 + sin(2.9*x_1 + 3.19) + 0.01*tanh(10.0*x_6 - 10.0) + 0.05)**3 + 1.76*tanh(2.05*(x_2 + 0.01)**2 + 1.32*sin(2.76*x_1 - 6.19) - 2.83) - 1.82*tanh(-0.25*(0.08 - x_2)**2 + 0.68*sin(3.29*x_1 - 3.21) + 0.01*tanh(9.8*x_4 - 10.0) + 0.59) + 3.12*Abs(0.09*sin(3.01*x_1 + 9.58) + 0.01*sin(10.0*x_6 - 3.0) + 0.01*tanh(10.0*x_5 + 9.6) - 0.03*Abs(10.0*x_2 + 0.2)) + 3.6"
      ]
     },
     "execution_count": 31,
     "metadata": {},
     "output_type": "execute_result"
    }
   ],
   "source": [
    "model.symbolic_formula()[0][0]"
   ]
  }
 ],
 "metadata": {
  "kernelspec": {
   "display_name": "dev",
   "language": "python",
   "name": "python3"
  },
  "language_info": {
   "codemirror_mode": {
    "name": "ipython",
    "version": 3
   },
   "file_extension": ".py",
   "mimetype": "text/x-python",
   "name": "python",
   "nbconvert_exporter": "python",
   "pygments_lexer": "ipython3",
   "version": "3.11.4"
  }
 },
 "nbformat": 4,
 "nbformat_minor": 2
}
