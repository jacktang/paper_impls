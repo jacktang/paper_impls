{
 "cells": [
  {
   "cell_type": "code",
   "execution_count": 1,
   "metadata": {},
   "outputs": [
    {
     "name": "stderr",
     "output_type": "stream",
     "text": [
      "/home/dev/miniconda3/envs/pyro/lib/python3.12/site-packages/tqdm/auto.py:21: TqdmWarning: IProgress not found. Please update jupyter and ipywidgets. See https://ipywidgets.readthedocs.io/en/stable/user_install.html\n",
      "  from .autonotebook import tqdm as notebook_tqdm\n"
     ]
    }
   ],
   "source": [
    "from saasbo import run_saasbo\n",
    "import math\n",
    "import jax.numpy as jnp\n",
    "import numpy as np"
   ]
  },
  {
   "cell_type": "code",
   "execution_count": 2,
   "metadata": {},
   "outputs": [],
   "source": [
    "lb = np.hstack((-5 * np.ones(50), 0 * np.ones(50)))   # lower bounds for input domain\n",
    "ub = np.hstack((10 * np.ones(50), 30 * np.ones(50)))  # upper bounds for input domain\n",
    "\n",
    "def branin100(x):\n",
    "    assert (x <= ub).all() and (x >= lb).all()\n",
    "    x1, x2 = x[19], x[64]  # Only dimensions 19 and 64 affect the value of the function\n",
    "    t1 = x2 - 5.1 / (4 * math.pi ** 2) * x1 ** 2 + 5 / math.pi * x1 - 6\n",
    "    t2 = 10 * (1 - 1 / (8 * math.pi)) * np.cos(x1)\n",
    "    return t1 ** 2 + t2 + 10\n",
    "\n",
    "def branin100_with_constraints(x):\n",
    "    assert (x <= ub).all() and (x >= lb).all()\n",
    "    cv = x[(x > 3)]\n",
    "    cv_mean = np.mean(cv)\n",
    "    print(\"cv-mean=\", cv_mean)\n",
    "    if cv_mean > 12.5:\n",
    "        return 1e5\n",
    "    \n",
    "    # x1, x2, x3 = x[19], x[64], x[70]  # Only dimensions 19 and 64 affect the value of the function\n",
    "    x1 = np.mean(x[0:19])\n",
    "    x2 = np.min(x[19:64])\n",
    "    x3 = np.max(x[64:80])\n",
    "    t1 = x2 - 5.1 / (4 * math.pi ** 2) * x1 ** 2 + 5 / math.pi * x1 - 6\n",
    "    t2 = 10 * (1 - 1 / (8 * math.pi)) * np.cos(x1) + np.sin(x3)\n",
    "    return t1 ** 2 + t2 + 10"
   ]
  },
  {
   "cell_type": "code",
   "execution_count": 4,
   "metadata": {
    "scrolled": false
   },
   "outputs": [
    {
     "name": "stdout",
     "output_type": "stream",
     "text": [
      "cv-mean= 13.455667348183079\n",
      "cv-mean= 12.380764191107387\n",
      "cv-mean= 12.319757774206144\n",
      "cv-mean= 13.948223418838372\n",
      "cv-mean= 11.674674283513534\n",
      "cv-mean= 14.06686810304082\n",
      "cv-mean= 13.071465382888688\n",
      "cv-mean= 15.17495747616825\n",
      "cv-mean= 12.643906432980051\n",
      "cv-mean= 12.220215926936362\n",
      "Starting SAASBO optimization run.\n",
      "First 10 queries drawn at random. Best minimum thus far: 51.493\n",
      "=== Iteration 10 ===\n",
      "GP fitting took 1.13 seconds\n",
      "Optimizing EI took 1.99 seconds\n",
      "cv-mean= 12.920283851770288\n",
      "Observed function value: 100000.000, Best function value seen thus far: 51.493\n",
      "=== Iteration 11 ===\n",
      "GP fitting took 1.13 seconds\n",
      "Optimizing EI took 5.59 seconds\n",
      "cv-mean= 12.655729636571621\n",
      "Observed function value: 100000.000, Best function value seen thus far: 51.493\n",
      "=== Iteration 12 ===\n",
      "GP fitting took 1.15 seconds\n",
      "Optimizing EI took 5.58 seconds\n",
      "cv-mean= 12.412742229443758\n",
      "Observed function value: 52.180, Best function value seen thus far: 51.493\n",
      "=== Iteration 13 ===\n",
      "GP fitting took 1.34 seconds\n",
      "Optimizing EI took 5.37 seconds\n",
      "cv-mean= 11.998018623994772\n",
      "Observed function value: 41.527, Best function value seen thus far: 41.527\n",
      "=== Iteration 14 ===\n",
      "GP fitting took 1.23 seconds\n",
      "Optimizing EI took 5.71 seconds\n",
      "cv-mean= 12.965842247272215\n",
      "Observed function value: 100000.000, Best function value seen thus far: 41.527\n",
      "=== Iteration 15 ===\n",
      "GP fitting took 1.30 seconds\n",
      "Optimizing EI took 5.70 seconds\n",
      "cv-mean= 12.423603669578107\n",
      "Observed function value: 44.937, Best function value seen thus far: 41.527\n",
      "=== Iteration 16 ===\n",
      "GP fitting took 1.33 seconds\n",
      "Optimizing EI took 5.82 seconds\n",
      "cv-mean= 12.026865828117668\n",
      "Observed function value: 43.046, Best function value seen thus far: 41.527\n",
      "=== Iteration 17 ===\n",
      "GP fitting took 1.51 seconds\n",
      "Optimizing EI took 5.73 seconds\n",
      "cv-mean= 12.26708350739481\n",
      "Observed function value: 29.961, Best function value seen thus far: 29.961\n",
      "=== Iteration 18 ===\n",
      "GP fitting took 1.60 seconds\n",
      "Optimizing EI took 5.72 seconds\n",
      "cv-mean= 12.503984779677188\n",
      "Observed function value: 100000.000, Best function value seen thus far: 29.961\n",
      "=== Iteration 19 ===\n",
      "GP fitting took 1.49 seconds\n",
      "Optimizing EI took 6.26 seconds\n",
      "cv-mean= 12.164773219680143\n",
      "Observed function value: 58.974, Best function value seen thus far: 29.961\n",
      "=== Iteration 20 ===\n",
      "GP fitting took 1.83 seconds\n",
      "Optimizing EI took 6.15 seconds\n",
      "cv-mean= 11.843464370861792\n",
      "Observed function value: 50.897, Best function value seen thus far: 29.961\n",
      "=== Iteration 21 ===\n",
      "GP fitting took 2.08 seconds\n",
      "Optimizing EI took 6.43 seconds\n",
      "cv-mean= 11.58137978305009\n",
      "Observed function value: 53.860, Best function value seen thus far: 29.961\n",
      "=== Iteration 22 ===\n",
      "GP fitting took 2.29 seconds\n",
      "Optimizing EI took 6.29 seconds\n",
      "cv-mean= 12.928177895226664\n",
      "Observed function value: 100000.000, Best function value seen thus far: 29.961\n",
      "=== Iteration 23 ===\n",
      "GP fitting took 2.21 seconds\n",
      "Optimizing EI took 6.30 seconds\n",
      "cv-mean= 13.718373923977982\n",
      "Observed function value: 100000.000, Best function value seen thus far: 29.961\n",
      "=== Iteration 24 ===\n",
      "GP fitting took 2.31 seconds\n",
      "Optimizing EI took 6.16 seconds\n",
      "cv-mean= 12.916460759984957\n",
      "Observed function value: 100000.000, Best function value seen thus far: 29.961\n",
      "=== Iteration 25 ===\n",
      "GP fitting took 2.28 seconds\n",
      "Optimizing EI took 6.30 seconds\n",
      "cv-mean= 11.811395711777566\n",
      "Observed function value: 61.710, Best function value seen thus far: 29.961\n",
      "=== Iteration 26 ===\n",
      "GP fitting took 2.69 seconds\n",
      "Optimizing EI took 6.34 seconds\n",
      "cv-mean= 11.587220736660777\n",
      "Observed function value: 67.953, Best function value seen thus far: 29.961\n",
      "=== Iteration 27 ===\n",
      "GP fitting took 2.94 seconds\n",
      "Optimizing EI took 6.39 seconds\n",
      "cv-mean= 11.89810054227334\n",
      "Observed function value: 60.477, Best function value seen thus far: 29.961\n",
      "=== Iteration 28 ===\n",
      "GP fitting took 3.24 seconds\n",
      "Optimizing EI took 6.28 seconds\n",
      "cv-mean= 12.105469859972551\n",
      "Observed function value: 44.523, Best function value seen thus far: 29.961\n",
      "=== Iteration 29 ===\n",
      "GP fitting took 4.22 seconds\n",
      "Optimizing EI took 6.41 seconds\n",
      "cv-mean= 11.209847658879664\n",
      "Observed function value: 55.107, Best function value seen thus far: 29.961\n",
      "=== Iteration 30 ===\n",
      "GP fitting took 4.52 seconds\n",
      "Optimizing EI took 6.69 seconds\n",
      "cv-mean= 12.403248542192646\n",
      "Observed function value: 69.478, Best function value seen thus far: 29.961\n",
      "=== Iteration 31 ===\n",
      "GP fitting took 4.73 seconds\n",
      "Optimizing EI took 6.44 seconds\n",
      "cv-mean= 13.0511057994316\n",
      "Observed function value: 100000.000, Best function value seen thus far: 29.961\n",
      "=== Iteration 32 ===\n",
      "GP fitting took 10.09 seconds\n",
      "Optimizing EI took 6.42 seconds\n",
      "cv-mean= 15.852674741409766\n",
      "Observed function value: 100000.000, Best function value seen thus far: 29.961\n",
      "=== Iteration 33 ===\n",
      "GP fitting took 10.53 seconds\n",
      "Optimizing EI took 5.10 seconds\n",
      "cv-mean= 12.334956171628424\n",
      "Observed function value: 41.521, Best function value seen thus far: 29.961\n",
      "=== Iteration 34 ===\n",
      "GP fitting took 12.27 seconds\n",
      "Optimizing EI took 6.56 seconds\n",
      "cv-mean= 11.80385268391106\n",
      "Observed function value: 54.615, Best function value seen thus far: 29.961\n",
      "=== Iteration 35 ===\n",
      "GP fitting took 14.38 seconds\n",
      "Optimizing EI took 6.62 seconds\n",
      "cv-mean= 11.682232031668317\n",
      "Observed function value: 57.437, Best function value seen thus far: 29.961\n",
      "=== Iteration 36 ===\n",
      "GP fitting took 34.55 seconds\n",
      "Optimizing EI took 6.51 seconds\n",
      "cv-mean= 12.535392236464636\n",
      "Observed function value: 100000.000, Best function value seen thus far: 29.961\n",
      "=== Iteration 37 ===\n",
      "GP fitting took 18.52 seconds\n",
      "Optimizing EI took 6.56 seconds\n",
      "cv-mean= 12.589043509743059\n",
      "Observed function value: 100000.000, Best function value seen thus far: 29.961\n",
      "=== Iteration 38 ===\n",
      "GP fitting took 13.16 seconds\n",
      "Optimizing EI took 6.63 seconds\n",
      "cv-mean= 11.914319895144247\n",
      "Observed function value: 50.623, Best function value seen thus far: 29.961\n",
      "=== Iteration 39 ===\n",
      "GP fitting took 13.88 seconds\n",
      "Optimizing EI took 6.62 seconds\n",
      "cv-mean= 12.500088816606386\n",
      "Observed function value: 100000.000, Best function value seen thus far: 29.961\n",
      "=== Iteration 40 ===\n",
      "GP fitting took 23.71 seconds\n",
      "Optimizing EI took 6.57 seconds\n",
      "cv-mean= 11.39859968840228\n",
      "Observed function value: 58.652, Best function value seen thus far: 29.961\n",
      "=== Iteration 41 ===\n",
      "GP fitting took 35.53 seconds\n",
      "Optimizing EI took 6.02 seconds\n",
      "cv-mean= 12.29879922534316\n",
      "Observed function value: 48.776, Best function value seen thus far: 29.961\n",
      "=== Iteration 42 ===\n",
      "GP fitting took 27.23 seconds\n",
      "Optimizing EI took 6.69 seconds\n",
      "cv-mean= 12.32859412679689\n",
      "Observed function value: 73.859, Best function value seen thus far: 29.961\n",
      "=== Iteration 43 ===\n",
      "GP fitting took 19.76 seconds\n",
      "Optimizing EI took 7.16 seconds\n",
      "cv-mean= 13.073937475088139\n",
      "Observed function value: 100000.000, Best function value seen thus far: 29.961\n",
      "=== Iteration 44 ===\n",
      "GP fitting took 14.97 seconds\n",
      "Optimizing EI took 5.87 seconds\n",
      "cv-mean= 11.793998674014627\n",
      "Observed function value: 40.437, Best function value seen thus far: 29.961\n",
      "=== Iteration 45 ===\n",
      "GP fitting took 15.45 seconds\n",
      "Optimizing EI took 6.82 seconds\n",
      "cv-mean= 11.77409765251473\n",
      "Observed function value: 39.751, Best function value seen thus far: 29.961\n",
      "=== Iteration 46 ===\n",
      "GP fitting took 25.51 seconds\n",
      "Optimizing EI took 6.85 seconds\n",
      "cv-mean= 11.336388595149657\n",
      "Observed function value: 44.947, Best function value seen thus far: 29.961\n",
      "=== Iteration 47 ===\n",
      "GP fitting took 44.87 seconds\n",
      "Optimizing EI took 6.92 seconds\n",
      "cv-mean= 11.065652475375003\n",
      "Observed function value: 44.255, Best function value seen thus far: 29.961\n",
      "=== Iteration 48 ===\n",
      "GP fitting took 45.76 seconds\n",
      "Optimizing EI took 6.69 seconds\n",
      "cv-mean= 10.665679469916638\n",
      "Observed function value: 60.587, Best function value seen thus far: 29.961\n",
      "=== Iteration 49 ===\n",
      "GP fitting took 40.53 seconds\n",
      "Optimizing EI took 6.86 seconds\n",
      "cv-mean= 11.746217606823027\n",
      "Observed function value: 52.014, Best function value seen thus far: 29.961\n"
     ]
    }
   ],
   "source": [
    "X, Y = run_saasbo(\n",
    "    f=branin100_with_constraints,        # function to be minimized\n",
    "    lb=lb,              # lower bounds\n",
    "    ub=ub,              # upper bounds\n",
    "    max_evals=50,       # total evaluation budget\n",
    "    num_init_evals=10,  # number of initial quasi-random Sobol points\n",
    "    seed=0,             # controls the seed for the num_init_evals random points\n",
    "    alpha=0.1,          # controls sparsity in the SAAS prior\n",
    "    num_warmup=512,     # number of warmup samples used in HMC\n",
    "    num_samples=256,    # number of post-warmup samples used in HMC\n",
    "    thinning=16,        # whether to thin the post-warmup samples by some factor\n",
    "    num_restarts_ei=3,  # number of restarts for EI maximization\n",
    "    # kernel=\"rbf\",       # \"rbf\" or \"matern\"\n",
    "    device=\"cpu\",       # \"cpu\" or \"gpu\"\n",
    ")"
   ]
  },
  {
   "cell_type": "code",
   "execution_count": 14,
   "id": "277d9420",
   "metadata": {},
   "outputs": [
    {
     "data": {
      "text/plain": [
       "array([ 7.75878201,  8.97049007,  0.44076385,  0.4682524 , -2.90081799,\n",
       "        3.41053816,  1.33801921,  0.83818697, -2.19836584,  7.98370112,\n",
       "        8.12727988,  9.919859  ,  7.15805503,  7.41967182,  2.78856574,\n",
       "        7.9233856 , -2.35070916, -3.69457658,  3.42117264,  4.93536674,\n",
       "        7.90869078, -0.4793145 ,  9.66095943, -4.407141  ,  5.56806215,\n",
       "        5.4081932 , -0.87879749, -2.49512022,  8.95417505, -3.73056737,\n",
       "        4.6656162 , -4.54518757,  9.59922608,  6.01988157, -1.11120918,\n",
       "        2.98864051,  3.52495658, -2.69516068,  8.35240841,  0.76495093,\n",
       "        6.55926128,  9.20358549,  3.98719298, -1.1384584 ,  0.42450362,\n",
       "        5.91729019, -3.31347161,  2.20319675,  5.11427889,  0.84646588,\n",
       "        3.36375443,  0.42041908, 14.15166518,  9.44388745, 13.16215463,\n",
       "       11.74819178,  9.10851394, 12.88730924, 14.98873956, 13.40067205,\n",
       "        5.55558507,  9.33678309, 12.63710786,  9.70170352, 11.12878195,\n",
       "       13.44879863, 11.67491336,  9.70140012,  3.67155716,  1.16937408,\n",
       "       11.727554  , 12.59481504,  2.07413259,  1.72252251,  9.80827563,\n",
       "       10.45803797, 12.96087347, 13.00345195, 12.47351546,  5.10723656,\n",
       "        7.47573629,  8.29881489,  3.56334154,  9.55589311,  8.31000777,\n",
       "        6.42287747,  2.6172236 ,  1.24348312,  3.36210722,  3.00591358,\n",
       "       12.60088303,  6.06644996,  9.31484208,  9.27097308,  7.35692267,\n",
       "        3.2570622 ,  7.61474047,  5.36213029,  4.17428652,  3.72367806])"
      ]
     },
     "execution_count": 14,
     "metadata": {},
     "output_type": "execute_result"
    }
   ],
   "source": [
    "X[0]"
   ]
  },
  {
   "cell_type": "code",
   "execution_count": 7,
   "id": "83cde517",
   "metadata": {},
   "outputs": [
    {
     "data": {
      "text/plain": [
       "(50, 100)"
      ]
     },
     "execution_count": 7,
     "metadata": {},
     "output_type": "execute_result"
    }
   ],
   "source": [
    "X.shape"
   ]
  },
  {
   "cell_type": "code",
   "execution_count": 11,
   "id": "6cfd53d7",
   "metadata": {},
   "outputs": [
    {
     "data": {
      "text/plain": [
       "array([5.59863823, 4.57256067, 4.69913203, 5.0442696 , 4.62849671,\n",
       "       5.26826323, 5.17508644, 4.97695589, 5.75278181, 4.38597677,\n",
       "       5.17468532, 4.0737335 , 4.75071246, 5.07919991, 4.96748446,\n",
       "       5.21468889, 4.9030424 , 4.9778466 , 4.6162395 , 4.75268105,\n",
       "       4.60920665, 4.71319268, 4.87713307, 4.60203998, 4.8780957 ,\n",
       "       5.35806891, 4.84773824, 4.43052624, 5.62063312, 5.86364236,\n",
       "       3.61394902, 4.5376341 , 4.7016616 , 5.64062748, 5.28032526,\n",
       "       4.28396596, 5.38091208, 4.36947333, 4.74523425, 4.99716854,\n",
       "       5.29086239, 4.30541432, 4.17250155, 5.43594274, 5.16764024,\n",
       "       4.42338398, 5.56122318, 5.41597107, 4.79534505, 4.8850979 ])"
      ]
     },
     "execution_count": 11,
     "metadata": {},
     "output_type": "execute_result"
    }
   ],
   "source": [
    "np.mean(X, axis=1)"
   ]
  },
  {
   "cell_type": "markdown",
   "metadata": {},
   "source": [
    "## Plot progress"
   ]
  },
  {
   "cell_type": "code",
   "execution_count": 15,
   "metadata": {},
   "outputs": [
    {
     "data": {
      "image/png": "[encoded data removed]",
      "text/plain": [
       "<Figure size 800x600 with 1 Axes>"
      ]
     },
     "metadata": {},
     "output_type": "display_data"
    }
   ],
   "source": [
    "import matplotlib\n",
    "import matplotlib.pyplot as plt\n",
    "import numpy as np\n",
    "%matplotlib inline\n",
    "matplotlib.rcParams.update({\"font.size\": 16})\n",
    "\n",
    "\n",
    "fig, ax = plt.subplots(figsize=(8, 6))\n",
    "ax.plot(np.minimum.accumulate(Y), color=\"b\", label=\"SAASBO\")\n",
    "ax.plot([0, 50], [0.398, 0.398], \"--\", c=\"g\", lw=3, label=\"Optimal value\")\n",
    "ax.grid(True)\n",
    "ax.set_title(\"Branin, D=100\", fontsize=20)\n",
    "ax.set_xlabel(\"Number of evaluations\", fontsize=20)\n",
    "ax.set_xlim([0, 50])\n",
    "ax.set_ylabel(\"Best value found\", fontsize=20)\n",
    "ax.set_ylim([0, 8])\n",
    "ax.legend(fontsize=18)\n",
    "plt.show()"
   ]
  },
  {
   "cell_type": "markdown",
   "metadata": {},
   "source": [
    "## Take a look at the GP fit"
   ]
  },
  {
   "cell_type": "code",
   "execution_count": null,
   "metadata": {},
   "outputs": [],
   "source": [
    "from saasgp import SAASGP\n",
    "\n",
    "\n",
    "gp = SAASGP(\n",
    "    alpha=0.1,\n",
    "    num_warmup=512,\n",
    "    num_samples=256,\n",
    "    max_tree_depth=6,\n",
    "    num_chains=1,\n",
    "    thinning=16,\n",
    "    verbose=False,\n",
    "    observation_variance=1e-6,\n",
    "    kernel=\"rbf\",\n",
    ")\n",
    "\n",
    "# Fit a GP to the normalized data\n",
    "train_X = (X - lb) / (ub - lb)\n",
    "train_Y = (Y - Y.mean()) / Y.std()\n",
    "gp = gp.fit(train_X, train_Y)"
   ]
  },
  {
   "cell_type": "markdown",
   "metadata": {},
   "source": [
    "## Print the dimensions with the smallest median lengthscales"
   ]
  },
  {
   "cell_type": "code",
   "execution_count": null,
   "metadata": {},
   "outputs": [
    {
     "name": "stdout",
     "output_type": "stream",
     "text": [
      "Parameter 19) Median lengthscale = 2.93e-01\n",
      "Parameter 64) Median lengthscale = 1.82e+00\n",
      "Parameter 35) Median lengthscale = 3.01e+04\n",
      "Parameter 10) Median lengthscale = 3.02e+04\n",
      "Parameter 89) Median lengthscale = 3.07e+04\n",
      "Parameter 87) Median lengthscale = 3.64e+04\n",
      "Parameter 25) Median lengthscale = 3.88e+04\n",
      "Parameter 23) Median lengthscale = 3.92e+04\n",
      "Parameter 74) Median lengthscale = 3.95e+04\n",
      "Parameter 39) Median lengthscale = 3.99e+04\n"
     ]
    }
   ],
   "source": [
    "ell = 1.0 / jnp.sqrt(gp.flat_samples[\"kernel_inv_length_sq\"][::gp.thinning])\n",
    "ell_median = jnp.median(ell, 0)\n",
    "\n",
    "for i in ell_median.argsort()[:10]:\n",
    "    print(f\"Parameter {i:2}) Median lengthscale = {ell_median[i]:.2e}\")"
   ]
  }
 ],
 "metadata": {
  "kernelspec": {
   "display_name": "Python 3",
   "language": "python",
   "name": "python3"
  },
  "language_info": {
   "codemirror_mode": {
    "name": "ipython",
    "version": 3
   },
   "file_extension": ".py",
   "mimetype": "text/x-python",
   "name": "python",
   "nbconvert_exporter": "python",
   "pygments_lexer": "ipython3",
   "version": "3.12.3"
  }
 },
 "nbformat": 4,
 "nbformat_minor": 5
}
